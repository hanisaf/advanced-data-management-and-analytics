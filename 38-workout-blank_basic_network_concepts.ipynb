{
 "cells": [
  {
   "cell_type": "markdown",
   "metadata": {},
   "source": [
    "The following picture shows the network of Florentine families in early 15th century\n",
    "\n",
    "![Florentine families](https://datarepository.wolframcloud.com/resources/images/3ea/3ea30ebd-fcac-4105-b886-b6ddd63dcbd3-io-1-o.en.gif)\n",
    "\n",
    "A node represents a family. An edge means there is a marriage relationship between the two families\n",
    "\n",
    "- Import the network from the file `data/florentine.graphml`\n",
    "- What is the shortest path between `Medici` and `Peruzzi`\n",
    "- What is the average shortest path between `Medici` and all other nodes\n",
    "- What is the average shortest path between each family and all other nodes\n",
    "- What family has the lowest average shortest path?"
   ]
  },
  {
   "cell_type": "code",
   "execution_count": 1,
   "metadata": {},
   "outputs": [],
   "source": [
    "import networkx as nx\n",
    "%matplotlib inline"
   ]
  },
  {
   "cell_type": "code",
   "execution_count": null,
   "metadata": {},
   "outputs": [],
   "source": []
  }
 ],
 "metadata": {
  "kernelspec": {
   "display_name": "Python 3",
   "language": "python",
   "name": "python3"
  },
  "language_info": {
   "codemirror_mode": {
    "name": "ipython",
    "version": 3
   },
   "file_extension": ".py",
   "mimetype": "text/x-python",
   "name": "python",
   "nbconvert_exporter": "python",
   "pygments_lexer": "ipython3",
   "version": "3.7.6"
  }
 },
 "nbformat": 4,
 "nbformat_minor": 2
}
