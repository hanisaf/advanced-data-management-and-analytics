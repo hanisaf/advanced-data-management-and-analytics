{
 "cells": [
  {
   "cell_type": "code",
   "execution_count": 8,
   "metadata": {},
   "outputs": [],
   "source": [
    "from bs4 import BeautifulSoup\n",
    "import requests\n",
    "import pandas as pd"
   ]
  },
  {
   "cell_type": "markdown",
   "metadata": {},
   "source": [
    "## Exercise\n",
    "\n",
    "Extract the names, parties and states of [the US Senate](https://www.congress.gov/members?pageSize=100&q={%22congress%22:%22116%22,%22chamber%22:%22Senate%22})\n",
    "\n",
    "What are the states that have R and D senators?"
   ]
  },
  {
   "cell_type": "code",
   "execution_count": 9,
   "metadata": {},
   "outputs": [],
   "source": [
    "r = requests.get('https://www.congress.gov/members?pageSize=100&q={%22congress%22:%22116%22,%22chamber%22:%22Senate%22')"
   ]
  },
  {
   "cell_type": "code",
   "execution_count": 10,
   "metadata": {},
   "outputs": [
    {
     "data": {
      "text/plain": [
       "200"
      ]
     },
     "execution_count": 10,
     "metadata": {},
     "output_type": "execute_result"
    }
   ],
   "source": [
    "r.status_code"
   ]
  },
  {
   "cell_type": "code",
   "execution_count": 11,
   "metadata": {},
   "outputs": [],
   "source": [
    "html = r.text"
   ]
  },
  {
   "cell_type": "code",
   "execution_count": 12,
   "metadata": {},
   "outputs": [],
   "source": [
    "soup = BeautifulSoup(html, 'html')"
   ]
  },
  {
   "cell_type": "code",
   "execution_count": 13,
   "metadata": {},
   "outputs": [],
   "source": [
    "# extract members data\n",
    "members = soup.find_all('li', class_=\"expanded\")"
   ]
  },
  {
   "cell_type": "code",
   "execution_count": 14,
   "metadata": {},
   "outputs": [],
   "source": [
    "# one member\n",
    "m=members[0]"
   ]
  },
  {
   "cell_type": "code",
   "execution_count": 15,
   "metadata": {},
   "outputs": [
    {
     "data": {
      "text/plain": [
       "<li class=\"expanded\"> <div><span class=\"visualIndicator\">MEMBER</span></div>\n",
       "    1.\n",
       "    <span class=\"result-heading\"><a href=\"https://www.congress.gov/member/james-abdnor/A000009\">Senator Abdnor, James</a></span>\n",
       "<div class=\"quick-search-member\">\n",
       "<div class=\"member-image\"><img alt=\"Abdnor, James\" src=\"/img/member/a000009_200.jpg\"/></div>\n",
       "<div class=\"member-profile member-image-exists\">\n",
       "<span class=\"result-item\">\n",
       "<strong>State:</strong>\n",
       "<span>South Dakota</span>\n",
       "</span>\n",
       "<span class=\"result-item\">\n",
       "<strong>Party:</strong>\n",
       "<span>Republican</span>\n",
       "</span>\n",
       "<span class=\"result-item\">\n",
       "<strong>Served:</strong>\n",
       "<span>\n",
       "<ul class=\"member-served\">\n",
       "<li>Senate: 1981-1987</li> <li>House: 1973-1981</li> </ul>\n",
       "</span>\n",
       "</span>\n",
       "</div>\n",
       "<div class=\"clear\"></div>\n",
       "</div>\n",
       "</li>"
      ]
     },
     "execution_count": 15,
     "metadata": {},
     "output_type": "execute_result"
    }
   ],
   "source": [
    "m"
   ]
  },
  {
   "cell_type": "code",
   "execution_count": 16,
   "metadata": {},
   "outputs": [
    {
     "data": {
      "text/plain": [
       "'Senator Abdnor, James'"
      ]
     },
     "execution_count": 16,
     "metadata": {},
     "output_type": "execute_result"
    }
   ],
   "source": [
    "# extract the name\n",
    "name = m.find(\"span\", class_=\"result-heading\").text\n",
    "name"
   ]
  },
  {
   "cell_type": "code",
   "execution_count": 17,
   "metadata": {},
   "outputs": [
    {
     "data": {
      "text/plain": [
       "[<span class=\"result-item\">\n",
       " <strong>State:</strong>\n",
       " <span>South Dakota</span>\n",
       " </span>, <span class=\"result-item\">\n",
       " <strong>Party:</strong>\n",
       " <span>Republican</span>\n",
       " </span>, <span class=\"result-item\">\n",
       " <strong>Served:</strong>\n",
       " <span>\n",
       " <ul class=\"member-served\">\n",
       " <li>Senate: 1981-1987</li> <li>House: 1973-1981</li> </ul>\n",
       " </span>\n",
       " </span>]"
      ]
     },
     "execution_count": 17,
     "metadata": {},
     "output_type": "execute_result"
    }
   ],
   "source": [
    "# the remaining items are\n",
    "m.find_all(\"span\", class_=\"result-item\")"
   ]
  },
  {
   "cell_type": "code",
   "execution_count": 18,
   "metadata": {},
   "outputs": [],
   "source": [
    "# extract state and party\n",
    "state = m.find_all(\"span\", class_=\"result-item\")[0].find('span').text\n",
    "party = m.find_all(\"span\", class_=\"result-item\")[1].find('span').text"
   ]
  },
  {
   "cell_type": "code",
   "execution_count": 19,
   "metadata": {},
   "outputs": [
    {
     "data": {
      "text/plain": [
       "('Senator Abdnor, James', 'South Dakota', 'Republican')"
      ]
     },
     "execution_count": 19,
     "metadata": {},
     "output_type": "execute_result"
    }
   ],
   "source": [
    "name, state, party"
   ]
  },
  {
   "cell_type": "code",
   "execution_count": 20,
   "metadata": {},
   "outputs": [],
   "source": [
    "# can you repeat the above process for all members\n",
    "# assemble data and answer the question"
   ]
  },
  {
   "cell_type": "code",
   "execution_count": null,
   "metadata": {},
   "outputs": [],
   "source": []
  }
 ],
 "metadata": {
  "kernelspec": {
   "display_name": "Python 3",
   "language": "python",
   "name": "python3"
  },
  "language_info": {
   "codemirror_mode": {
    "name": "ipython",
    "version": 3
   },
   "file_extension": ".py",
   "mimetype": "text/x-python",
   "name": "python",
   "nbconvert_exporter": "python",
   "pygments_lexer": "ipython3",
   "version": "3.7.3"
  }
 },
 "nbformat": 4,
 "nbformat_minor": 2
}
