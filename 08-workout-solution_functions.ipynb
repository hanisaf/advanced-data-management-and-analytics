{
 "cells": [
  {
   "cell_type": "code",
   "execution_count": 2,
   "metadata": {},
   "outputs": [],
   "source": [
    "msg = \"\"\"some secret information\n",
    "the client number is 444-222-5555 and her social\n",
    "is 345-22-5556 email is precious.client@wealth.org\n",
    "other than that the weather is sunny and life is good\"\"\""
   ]
  },
  {
   "cell_type": "markdown",
   "metadata": {},
   "source": [
    "Write a function `classify` that takes a string and classifies sensitive information. Use the functions `is_number` and `mask` from the warmup exercise.\n",
    "\n",
    "For example, classifying `msg` should returns\n",
    "\n",
    "`some secret information\n",
    "the client number is ************ and her social\n",
    "is *********** email is precious.client@wealth.org\n",
    "other than that the weather is sunny and life is good`"
   ]
  },
  {
   "cell_type": "code",
   "execution_count": 3,
   "metadata": {},
   "outputs": [],
   "source": [
    "def mask(text, masking_character='*'):\n",
    "    return masking_character * len(text)"
   ]
  },
  {
   "cell_type": "code",
   "execution_count": 4,
   "metadata": {},
   "outputs": [],
   "source": [
    "def is_number(word):\n",
    "    for letter in word: #you can iterate over string!\n",
    "        if letter not in [\"0\", \"1\", \"2\", \"3\", \"4\", \"5\", \"6\", \"7\", \"8\", \"9\", \"-\"]:\n",
    "            return False\n",
    "    else: #means all letters are digits or -\n",
    "        return True"
   ]
  },
  {
   "cell_type": "code",
   "execution_count": 6,
   "metadata": {},
   "outputs": [],
   "source": [
    "def classify(msg):\n",
    "    words = msg.split()\n",
    "    for word in words:\n",
    "        if is_number(word):\n",
    "            msg = msg.replace(word, mask(word))\n",
    "    return msg"
   ]
  },
  {
   "cell_type": "code",
   "execution_count": 7,
   "metadata": {},
   "outputs": [
    {
     "name": "stdout",
     "output_type": "stream",
     "text": [
      "some secret information\n",
      "the client number is ************ and her social\n",
      "is *********** email is precious.client@wealth.org\n",
      "other than that the weather is sunny and life is good\n"
     ]
    }
   ],
   "source": [
    "print(classify(msg))"
   ]
  },
  {
   "cell_type": "markdown",
   "metadata": {},
   "source": [
    "The last function will take care of sensitive numbers, but we would like to classify other sensitive information such as emails. I provide below a function `is_email` that returns `True` if the parameter is an email address\n",
    "\n",
    "Modify, the function `classify` to take an optional parameter, which is the function to use to detect sensitive information (e.g., is_number, is_email)\n",
    "\n",
    "Use the new function along with `is_number` and `is_email` to classify `msg`\n",
    "\n",
    "For example, `print(classifiy(msg, is_number))` should print\n",
    "\n",
    "`some secret information\n",
    "the client number is ************ and her social\n",
    "is *********** email is precious.client@wealth.org\n",
    "other than that the weather is sunny and life is good`\n",
    "\n",
    "and `print(classifiy(msg, is_email))` should print\n",
    "\n",
    "`some secret information\n",
    "the client number is 444-222-5555 and her social\n",
    "is 345-22-5556 email is **************************\n",
    "other than that the weather is sunny and life is good`\n",
    "\n",
    "Can you classify both numbers and emails?"
   ]
  },
  {
   "cell_type": "code",
   "execution_count": 8,
   "metadata": {},
   "outputs": [],
   "source": [
    "def is_email(text):\n",
    "    return '@' in text and not text.startswith('@')"
   ]
  },
  {
   "cell_type": "code",
   "execution_count": 9,
   "metadata": {},
   "outputs": [],
   "source": [
    "def classify(msg, is_sensitive = is_number):\n",
    "    words = msg.split()\n",
    "    for word in words:\n",
    "        if is_sensitive(word):\n",
    "            msg = msg.replace(word, mask(word))\n",
    "    return msg"
   ]
  },
  {
   "cell_type": "code",
   "execution_count": 10,
   "metadata": {},
   "outputs": [
    {
     "name": "stdout",
     "output_type": "stream",
     "text": [
      "some secret information\n",
      "the client number is ************ and her social\n",
      "is *********** email is precious.client@wealth.org\n",
      "other than that the weather is sunny and life is good\n"
     ]
    }
   ],
   "source": [
    "print(classify(msg))"
   ]
  },
  {
   "cell_type": "code",
   "execution_count": 11,
   "metadata": {},
   "outputs": [
    {
     "name": "stdout",
     "output_type": "stream",
     "text": [
      "some secret information\n",
      "the client number is 444-222-5555 and her social\n",
      "is 345-22-5556 email is **************************\n",
      "other than that the weather is sunny and life is good\n"
     ]
    }
   ],
   "source": [
    "print(classify(msg, is_email))"
   ]
  },
  {
   "cell_type": "code",
   "execution_count": 12,
   "metadata": {},
   "outputs": [
    {
     "name": "stdout",
     "output_type": "stream",
     "text": [
      "some secret information\n",
      "the client number is ************ and her social\n",
      "is *********** email is **************************\n",
      "other than that the weather is sunny and life is good\n"
     ]
    }
   ],
   "source": [
    "print(classify(classify(msg, is_email)))"
   ]
  },
  {
   "cell_type": "code",
   "execution_count": 13,
   "metadata": {},
   "outputs": [
    {
     "name": "stdout",
     "output_type": "stream",
     "text": [
      "some secret information\n",
      "the client number is ************ and her social\n",
      "is *********** email is **************************\n",
      "other than that the weather is sunny and life is good\n"
     ]
    }
   ],
   "source": [
    "print(classify(msg, lambda x: is_email(x) or is_number(x)))"
   ]
  },
  {
   "cell_type": "code",
   "execution_count": null,
   "metadata": {},
   "outputs": [],
   "source": []
  }
 ],
 "metadata": {
  "kernelspec": {
   "display_name": "Python 3",
   "language": "python",
   "name": "python3"
  },
  "language_info": {
   "codemirror_mode": {
    "name": "ipython",
    "version": 3
   },
   "file_extension": ".py",
   "mimetype": "text/x-python",
   "name": "python",
   "nbconvert_exporter": "python",
   "pygments_lexer": "ipython3",
   "version": "3.7.6"
  }
 },
 "nbformat": 4,
 "nbformat_minor": 2
}
