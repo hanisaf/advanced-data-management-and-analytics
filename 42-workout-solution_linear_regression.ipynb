{
 "cells": [
  {
   "cell_type": "code",
   "execution_count": 1,
   "metadata": {},
   "outputs": [],
   "source": [
    "import pandas as pd\n",
    "from sklearn.model_selection import train_test_split\n",
    "from sklearn.linear_model import LinearRegression, Lasso\n",
    "from sklearn.metrics import r2_score"
   ]
  },
  {
   "cell_type": "code",
   "execution_count": 2,
   "metadata": {},
   "outputs": [],
   "source": [
    "# calculate the adjusted r2\n",
    "def adjusted_r2(y, yfit, model):\n",
    "    r2 = r2_score(y, yfit)\n",
    "    p = len(model.coef_)\n",
    "    n = len(y)\n",
    "    return 1-(1-r2)*(n-1)/(n-p-1)"
   ]
  },
  {
   "cell_type": "markdown",
   "metadata": {},
   "source": [
    "This example uses the [Toyota Corolla](https://www.kaggle.com/klkwak/toyotacorollacsv) data set and some example code of running linear regression models from chapter 6 of [Data Mining for Business Analytics](https://www.dataminingbook.com/book/python-edition)\n",
    "\n",
    "The dataset contains pricing of used Toyotal Corolla cars.\n",
    "The goal of this exercise is to predict the price.\n",
    "On of the challenge with this data is the large number of variables (features).\n",
    "Thus, we would like to select the subset of the features that serve to make a good prediction of the price of cars.\n",
    "\n",
    "1. Predict the price of the car using linear regression and the following features: 'Age_08_04', 'KM', 'Fuel_Type', 'HP', 'Met_Color', 'Automatic', 'CC', 'Doors', 'Quarterly_Tax', 'Weight'\n",
    "\n",
    "Evaluate the resulting model on the training and the testing sets. How well did it do?\n",
    "\n",
    "2. Perform a [Lasso](https://scikit-learn.org/stable/modules/generated/sklearn.linear_model.Lasso.html) regression on the same data. How did the result change?\n",
    "\n",
    "3. Perform a Lasso regression using all predictors. How well does it predict car price?"
   ]
  },
  {
   "cell_type": "code",
   "execution_count": 3,
   "metadata": {},
   "outputs": [
    {
     "data": {
      "text/html": [
       "<div>\n",
       "<style scoped>\n",
       "    .dataframe tbody tr th:only-of-type {\n",
       "        vertical-align: middle;\n",
       "    }\n",
       "\n",
       "    .dataframe tbody tr th {\n",
       "        vertical-align: top;\n",
       "    }\n",
       "\n",
       "    .dataframe thead th {\n",
       "        text-align: right;\n",
       "    }\n",
       "</style>\n",
       "<table border=\"1\" class=\"dataframe\">\n",
       "  <thead>\n",
       "    <tr style=\"text-align: right;\">\n",
       "      <th></th>\n",
       "      <th>Id</th>\n",
       "      <th>Model</th>\n",
       "      <th>Price</th>\n",
       "      <th>Age_08_04</th>\n",
       "      <th>Mfg_Month</th>\n",
       "      <th>Mfg_Year</th>\n",
       "      <th>KM</th>\n",
       "      <th>Fuel_Type</th>\n",
       "      <th>HP</th>\n",
       "      <th>Met_Color</th>\n",
       "      <th>...</th>\n",
       "      <th>Powered_Windows</th>\n",
       "      <th>Power_Steering</th>\n",
       "      <th>Radio</th>\n",
       "      <th>Mistlamps</th>\n",
       "      <th>Sport_Model</th>\n",
       "      <th>Backseat_Divider</th>\n",
       "      <th>Metallic_Rim</th>\n",
       "      <th>Radio_cassette</th>\n",
       "      <th>Parking_Assistant</th>\n",
       "      <th>Tow_Bar</th>\n",
       "    </tr>\n",
       "  </thead>\n",
       "  <tbody>\n",
       "    <tr>\n",
       "      <th>0</th>\n",
       "      <td>1</td>\n",
       "      <td>TOYOTA Corolla 2.0 D4D HATCHB TERRA 2/3-Doors</td>\n",
       "      <td>13500</td>\n",
       "      <td>23</td>\n",
       "      <td>10</td>\n",
       "      <td>2002</td>\n",
       "      <td>46986</td>\n",
       "      <td>Diesel</td>\n",
       "      <td>90</td>\n",
       "      <td>1</td>\n",
       "      <td>...</td>\n",
       "      <td>1</td>\n",
       "      <td>1</td>\n",
       "      <td>0</td>\n",
       "      <td>0</td>\n",
       "      <td>0</td>\n",
       "      <td>1</td>\n",
       "      <td>0</td>\n",
       "      <td>0</td>\n",
       "      <td>0</td>\n",
       "      <td>0</td>\n",
       "    </tr>\n",
       "  </tbody>\n",
       "</table>\n",
       "<p>1 rows × 39 columns</p>\n",
       "</div>"
      ],
      "text/plain": [
       "   Id                                          Model  Price  Age_08_04  \\\n",
       "0   1  TOYOTA Corolla 2.0 D4D HATCHB TERRA 2/3-Doors  13500         23   \n",
       "\n",
       "   Mfg_Month  Mfg_Year     KM Fuel_Type  HP  Met_Color  ... Powered_Windows  \\\n",
       "0         10      2002  46986    Diesel  90          1  ...               1   \n",
       "\n",
       "   Power_Steering  Radio  Mistlamps  Sport_Model  Backseat_Divider  \\\n",
       "0               1      0          0            0                 1   \n",
       "\n",
       "   Metallic_Rim  Radio_cassette  Parking_Assistant  Tow_Bar  \n",
       "0             0               0                  0        0  \n",
       "\n",
       "[1 rows x 39 columns]"
      ]
     },
     "execution_count": 3,
     "metadata": {},
     "output_type": "execute_result"
    }
   ],
   "source": [
    "data = pd.read_csv('data/ToyotaCorolla.csv')\n",
    "data.head(1)"
   ]
  },
  {
   "cell_type": "markdown",
   "metadata": {},
   "source": [
    "1. Predict the price of the car using linear regression and the following features: 'Age_08_04', 'KM', 'Fuel_Type', 'HP', 'Met_Color', 'Automatic', 'CC', 'Doors', 'Quarterly_Tax', 'Weight'"
   ]
  },
  {
   "cell_type": "code",
   "execution_count": 4,
   "metadata": {},
   "outputs": [
    {
     "name": "stdout",
     "output_type": "stream",
     "text": [
      "intercept  -258.6042161510268\n",
      "           Predictor  coefficient\n",
      "0          Age_08_04  -124.110305\n",
      "1                 KM    -0.016059\n",
      "2                 HP    75.549218\n",
      "3          Met_Color    47.715778\n",
      "4          Automatic   462.441526\n",
      "5                 CC    -5.027585\n",
      "6              Doors    58.417871\n",
      "7      Quarterly_Tax    13.009195\n",
      "8             Weight    14.156177\n",
      "9   Fuel_Type_Diesel  4481.088703\n",
      "10  Fuel_Type_Petrol  2413.063717\n"
     ]
    }
   ],
   "source": [
    "predictors = ['Age_08_04', 'KM', 'Fuel_Type', 'HP', 'Met_Color', 'Automatic', 'CC', \n",
    "              'Doors', 'Quarterly_Tax', 'Weight']\n",
    "outcome = 'Price'\n",
    "\n",
    "# partition data\n",
    "X = pd.get_dummies(data[predictors], drop_first=True)\n",
    "y = data[outcome]\n",
    "train_X, valid_X, train_y, valid_y = train_test_split(X, y, test_size=0.4, random_state=1)\n",
    "\n",
    "car_lm = LinearRegression()\n",
    "car_lm.fit(train_X, train_y)\n",
    "\n",
    "# print coefficients\n",
    "print('intercept ', car_lm.intercept_)\n",
    "print(pd.DataFrame({'Predictor': X.columns, 'coefficient': car_lm.coef_}))"
   ]
  },
  {
   "cell_type": "code",
   "execution_count": 5,
   "metadata": {},
   "outputs": [
    {
     "data": {
      "text/plain": [
       "(0.8740198772919548, 0.872387625996562)"
      ]
     },
     "execution_count": 5,
     "metadata": {},
     "output_type": "execute_result"
    }
   ],
   "source": [
    "pred_y = car_lm.predict(train_X)\n",
    "r2 = r2_score(train_y, pred_y)\n",
    "ar2= adjusted_r2(train_y, pred_y, car_lm)\n",
    "r2, ar2"
   ]
  },
  {
   "cell_type": "code",
   "execution_count": 6,
   "metadata": {},
   "outputs": [
    {
     "data": {
      "text/plain": [
       "(0.10270749215842268, 0.08517602220059439)"
      ]
     },
     "execution_count": 6,
     "metadata": {},
     "output_type": "execute_result"
    }
   ],
   "source": [
    "pred_y = car_lm.predict(valid_X)\n",
    "r2 = r2_score(valid_y, pred_y)\n",
    "ar2= adjusted_r2(valid_y, pred_y, car_lm)\n",
    "r2, ar2"
   ]
  },
  {
   "cell_type": "markdown",
   "metadata": {},
   "source": [
    "2. Perform a [Lasso](https://scikit-learn.org/stable/modules/generated/sklearn.linear_model.Lasso.html) regression on the same data. How did the result change?"
   ]
  },
  {
   "cell_type": "code",
   "execution_count": 7,
   "metadata": {},
   "outputs": [
    {
     "data": {
      "text/plain": [
       "Lasso(alpha=1, copy_X=True, fit_intercept=True, max_iter=1000, normalize=True,\n",
       "      positive=False, precompute=False, random_state=None, selection='cyclic',\n",
       "      tol=0.0001, warm_start=False)"
      ]
     },
     "execution_count": 7,
     "metadata": {},
     "output_type": "execute_result"
    }
   ],
   "source": [
    "lasso = Lasso(normalize=True, alpha=1)\n",
    "lasso.fit(train_X, train_y)"
   ]
  },
  {
   "cell_type": "code",
   "execution_count": 8,
   "metadata": {},
   "outputs": [
    {
     "data": {
      "text/plain": [
       "(0.8668009390372908, 0.8650751561508482)"
      ]
     },
     "execution_count": 8,
     "metadata": {},
     "output_type": "execute_result"
    }
   ],
   "source": [
    "pred_y = lasso.predict(train_X)\n",
    "r2 = r2_score(train_y, pred_y)\n",
    "ar2= adjusted_r2(train_y, pred_y, lasso)\n",
    "r2, ar2"
   ]
  },
  {
   "cell_type": "code",
   "execution_count": 9,
   "metadata": {},
   "outputs": [
    {
     "data": {
      "text/plain": [
       "(0.8077865250316318, 0.8040310219683067)"
      ]
     },
     "execution_count": 9,
     "metadata": {},
     "output_type": "execute_result"
    }
   ],
   "source": [
    "pred_y = lasso.predict(valid_X)\n",
    "r2 = r2_score(valid_y, pred_y)\n",
    "ar2= adjusted_r2(valid_y, pred_y, lasso)\n",
    "r2, ar2"
   ]
  },
  {
   "cell_type": "code",
   "execution_count": 10,
   "metadata": {},
   "outputs": [
    {
     "name": "stdout",
     "output_type": "stream",
     "text": [
      "intercept  -258.6042161510268\n",
      "           Predictor  linear regression  lasso regression\n",
      "0          Age_08_04        -124.110305       -124.898842\n",
      "1                 KM          -0.016059         -0.017357\n",
      "2                 HP          75.549218         39.702256\n",
      "3          Met_Color          47.715778          0.000000\n",
      "4          Automatic         462.441526        245.978043\n",
      "5                 CC          -5.027585         -1.368554\n",
      "6              Doors          58.417871          0.000000\n",
      "7      Quarterly_Tax          13.009195          8.770124\n",
      "8             Weight          14.156177         15.737167\n",
      "9   Fuel_Type_Diesel        4481.088703         37.341459\n",
      "10  Fuel_Type_Petrol        2413.063717        255.791282\n"
     ]
    }
   ],
   "source": [
    "print('intercept ', car_lm.intercept_)\n",
    "print(pd.DataFrame({'Predictor': X.columns, 'linear regression': car_lm.coef_,\n",
    "                    'lasso regression':lasso.coef_}))"
   ]
  },
  {
   "cell_type": "markdown",
   "metadata": {},
   "source": [
    "3. Perform a Lasso regression using all predictors. How well does it predict car price?"
   ]
  },
  {
   "cell_type": "code",
   "execution_count": 11,
   "metadata": {},
   "outputs": [
    {
     "name": "stdout",
     "output_type": "stream",
     "text": [
      "intercept  -28583.86390501009\n",
      "            Predictor   coefficient\n",
      "0             Tow_Bar -1.077228e+02\n",
      "1      Power_Steering -5.404451e+02\n",
      "2   Parking_Assistant -2.577994e+02\n",
      "3      Radio_cassette -1.970121e+02\n",
      "4                 ABS -1.831979e+02\n",
      "5            Airbag_1  3.690600e+02\n",
      "6        Metallic_Rim  2.945070e+02\n",
      "7           Mfg_Month -9.750444e+01\n",
      "8       Quarterly_Tax  1.328909e+01\n",
      "9           CD_Player  2.717617e+02\n",
      "10                 KM -1.695016e-02\n",
      "11          Age_08_04 -1.178998e+02\n",
      "12          Mistlamps -2.218154e+01\n",
      "13                 HP  6.050464e+01\n",
      "14    Automatic_airco  2.272019e+03\n",
      "15             Weight  6.952605e+00\n",
      "16    BOVAG_Guarantee  3.522989e+02\n",
      "17        Sport_Model  4.137309e+02\n",
      "18              Doors  1.756881e+02\n",
      "19           Mfg_Year  1.795035e+01\n",
      "20   Guarantee_Period  6.499244e+01\n",
      "21          Automatic  6.645881e+02\n",
      "22              Airco  1.855080e+02\n",
      "23      Mfr_Guarantee  1.963081e+02\n",
      "24      Boardcomputer -3.794442e+02\n",
      "25              Gears -1.174036e+01\n",
      "26              Radio  2.452546e+02\n",
      "27           Airbag_2 -8.572874e+01\n",
      "28          Met_Color -1.076733e+02\n",
      "29                 CC -4.178318e+00\n",
      "30       Central_Lock  2.250632e+02\n",
      "31   Backseat_Divider -5.766408e+01\n",
      "32    Powered_Windows  1.791669e+02\n",
      "33          Cylinders -9.094947e-13\n",
      "34   Fuel_Type_Diesel  4.067272e+03\n",
      "35   Fuel_Type_Petrol  1.850274e+03\n",
      "36        Color_Black  2.113854e+02\n",
      "37         Color_Blue  6.383653e+01\n",
      "38        Color_Green -2.224592e+02\n",
      "39         Color_Grey  1.611381e+02\n",
      "40          Color_Red -1.038029e+02\n",
      "41       Color_Silver  1.450146e+02\n",
      "42       Color_Violet -1.032354e+02\n",
      "43        Color_White -1.201202e+02\n",
      "44       Color_Yellow -3.667359e+01\n"
     ]
    }
   ],
   "source": [
    "predictors = set(data.columns) - {'Id', 'Model', 'Price'}\n",
    "outcome = 'Price'\n",
    "\n",
    "# partition data\n",
    "X = pd.get_dummies(data[predictors], drop_first=True)\n",
    "y = data[outcome]\n",
    "train_X, valid_X, train_y, valid_y = train_test_split(X, y, test_size=0.4, random_state=1)\n",
    "\n",
    "car_lm = LinearRegression()\n",
    "car_lm.fit(train_X, train_y)\n",
    "\n",
    "# print coefficients\n",
    "print('intercept ', car_lm.intercept_)\n",
    "print(pd.DataFrame({'Predictor': X.columns, 'coefficient': car_lm.coef_}))"
   ]
  },
  {
   "cell_type": "code",
   "execution_count": 12,
   "metadata": {},
   "outputs": [
    {
     "data": {
      "text/plain": [
       "(0.9150890286887544, 0.9104006928494832)"
      ]
     },
     "execution_count": 12,
     "metadata": {},
     "output_type": "execute_result"
    }
   ],
   "source": [
    "pred_y = car_lm.predict(train_X)\n",
    "r2 = r2_score(train_y, pred_y)\n",
    "ar2= adjusted_r2(train_y, pred_y, car_lm)\n",
    "r2, ar2"
   ]
  },
  {
   "cell_type": "code",
   "execution_count": 13,
   "metadata": {},
   "outputs": [
    {
     "data": {
      "text/plain": [
       "(0.3902422723281229, 0.33837252233713155)"
      ]
     },
     "execution_count": 13,
     "metadata": {},
     "output_type": "execute_result"
    }
   ],
   "source": [
    "pred_y = car_lm.predict(valid_X)\n",
    "r2 = r2_score(valid_y, pred_y)\n",
    "ar2= adjusted_r2(valid_y, pred_y, car_lm)\n",
    "r2, ar2"
   ]
  },
  {
   "cell_type": "code",
   "execution_count": 14,
   "metadata": {},
   "outputs": [
    {
     "data": {
      "text/plain": [
       "Lasso(alpha=1, copy_X=True, fit_intercept=True, max_iter=1000, normalize=True,\n",
       "      positive=False, precompute=False, random_state=None, selection='cyclic',\n",
       "      tol=0.0001, warm_start=False)"
      ]
     },
     "execution_count": 14,
     "metadata": {},
     "output_type": "execute_result"
    }
   ],
   "source": [
    "lasso = Lasso(normalize=True, alpha=1)\n",
    "lasso.fit(train_X, train_y)"
   ]
  },
  {
   "cell_type": "code",
   "execution_count": 15,
   "metadata": {},
   "outputs": [
    {
     "data": {
      "text/plain": [
       "(0.9075866964228843, 0.902484121378749)"
      ]
     },
     "execution_count": 15,
     "metadata": {},
     "output_type": "execute_result"
    }
   ],
   "source": [
    "pred_y = lasso.predict(train_X)\n",
    "r2 = r2_score(train_y, pred_y)\n",
    "ar2= adjusted_r2(train_y, pred_y, lasso)\n",
    "r2, ar2"
   ]
  },
  {
   "cell_type": "code",
   "execution_count": 16,
   "metadata": {},
   "outputs": [
    {
     "data": {
      "text/plain": [
       "(0.887336520296831, 0.8777526704165992)"
      ]
     },
     "execution_count": 16,
     "metadata": {},
     "output_type": "execute_result"
    }
   ],
   "source": [
    "pred_y = lasso.predict(valid_X)\n",
    "r2 = r2_score(valid_y, pred_y)\n",
    "ar2= adjusted_r2(valid_y, pred_y, lasso)\n",
    "r2, ar2"
   ]
  },
  {
   "cell_type": "code",
   "execution_count": 17,
   "metadata": {
    "scrolled": false
   },
   "outputs": [
    {
     "name": "stdout",
     "output_type": "stream",
     "text": [
      "intercept  -28583.86390501009\n"
     ]
    },
    {
     "data": {
      "text/html": [
       "<div>\n",
       "<style scoped>\n",
       "    .dataframe tbody tr th:only-of-type {\n",
       "        vertical-align: middle;\n",
       "    }\n",
       "\n",
       "    .dataframe tbody tr th {\n",
       "        vertical-align: top;\n",
       "    }\n",
       "\n",
       "    .dataframe thead th {\n",
       "        text-align: right;\n",
       "    }\n",
       "</style>\n",
       "<table border=\"1\" class=\"dataframe\">\n",
       "  <thead>\n",
       "    <tr style=\"text-align: right;\">\n",
       "      <th></th>\n",
       "      <th>Predictor</th>\n",
       "      <th>linear regression</th>\n",
       "      <th>lasso regression</th>\n",
       "    </tr>\n",
       "  </thead>\n",
       "  <tbody>\n",
       "    <tr>\n",
       "      <th>0</th>\n",
       "      <td>Tow_Bar</td>\n",
       "      <td>-1.077228e+02</td>\n",
       "      <td>-93.745420</td>\n",
       "    </tr>\n",
       "    <tr>\n",
       "      <th>1</th>\n",
       "      <td>Power_Steering</td>\n",
       "      <td>-5.404451e+02</td>\n",
       "      <td>-147.250710</td>\n",
       "    </tr>\n",
       "    <tr>\n",
       "      <th>2</th>\n",
       "      <td>Parking_Assistant</td>\n",
       "      <td>-2.577994e+02</td>\n",
       "      <td>-0.000000</td>\n",
       "    </tr>\n",
       "    <tr>\n",
       "      <th>3</th>\n",
       "      <td>Radio_cassette</td>\n",
       "      <td>-1.970121e+02</td>\n",
       "      <td>0.000000</td>\n",
       "    </tr>\n",
       "    <tr>\n",
       "      <th>4</th>\n",
       "      <td>ABS</td>\n",
       "      <td>-1.831979e+02</td>\n",
       "      <td>-115.494242</td>\n",
       "    </tr>\n",
       "    <tr>\n",
       "      <th>5</th>\n",
       "      <td>Airbag_1</td>\n",
       "      <td>3.690600e+02</td>\n",
       "      <td>22.936827</td>\n",
       "    </tr>\n",
       "    <tr>\n",
       "      <th>6</th>\n",
       "      <td>Metallic_Rim</td>\n",
       "      <td>2.945070e+02</td>\n",
       "      <td>270.765842</td>\n",
       "    </tr>\n",
       "    <tr>\n",
       "      <th>7</th>\n",
       "      <td>Mfg_Month</td>\n",
       "      <td>-9.750444e+01</td>\n",
       "      <td>0.000000</td>\n",
       "    </tr>\n",
       "    <tr>\n",
       "      <th>8</th>\n",
       "      <td>Quarterly_Tax</td>\n",
       "      <td>1.328909e+01</td>\n",
       "      <td>8.589679</td>\n",
       "    </tr>\n",
       "    <tr>\n",
       "      <th>9</th>\n",
       "      <td>CD_Player</td>\n",
       "      <td>2.717617e+02</td>\n",
       "      <td>127.013076</td>\n",
       "    </tr>\n",
       "    <tr>\n",
       "      <th>10</th>\n",
       "      <td>KM</td>\n",
       "      <td>-1.695016e-02</td>\n",
       "      <td>-0.017921</td>\n",
       "    </tr>\n",
       "    <tr>\n",
       "      <th>11</th>\n",
       "      <td>Age_08_04</td>\n",
       "      <td>-1.178998e+02</td>\n",
       "      <td>-13.658138</td>\n",
       "    </tr>\n",
       "    <tr>\n",
       "      <th>12</th>\n",
       "      <td>Mistlamps</td>\n",
       "      <td>-2.218154e+01</td>\n",
       "      <td>0.000000</td>\n",
       "    </tr>\n",
       "    <tr>\n",
       "      <th>13</th>\n",
       "      <td>HP</td>\n",
       "      <td>6.050464e+01</td>\n",
       "      <td>25.851973</td>\n",
       "    </tr>\n",
       "    <tr>\n",
       "      <th>14</th>\n",
       "      <td>Automatic_airco</td>\n",
       "      <td>2.272019e+03</td>\n",
       "      <td>2401.960591</td>\n",
       "    </tr>\n",
       "    <tr>\n",
       "      <th>15</th>\n",
       "      <td>Weight</td>\n",
       "      <td>6.952605e+00</td>\n",
       "      <td>9.237239</td>\n",
       "    </tr>\n",
       "    <tr>\n",
       "      <th>16</th>\n",
       "      <td>BOVAG_Guarantee</td>\n",
       "      <td>3.522989e+02</td>\n",
       "      <td>203.074510</td>\n",
       "    </tr>\n",
       "    <tr>\n",
       "      <th>17</th>\n",
       "      <td>Sport_Model</td>\n",
       "      <td>4.137309e+02</td>\n",
       "      <td>358.253792</td>\n",
       "    </tr>\n",
       "    <tr>\n",
       "      <th>18</th>\n",
       "      <td>Doors</td>\n",
       "      <td>1.756881e+02</td>\n",
       "      <td>86.836753</td>\n",
       "    </tr>\n",
       "    <tr>\n",
       "      <th>19</th>\n",
       "      <td>Mfg_Year</td>\n",
       "      <td>1.795035e+01</td>\n",
       "      <td>1236.500866</td>\n",
       "    </tr>\n",
       "    <tr>\n",
       "      <th>20</th>\n",
       "      <td>Guarantee_Period</td>\n",
       "      <td>6.499244e+01</td>\n",
       "      <td>52.295990</td>\n",
       "    </tr>\n",
       "    <tr>\n",
       "      <th>21</th>\n",
       "      <td>Automatic</td>\n",
       "      <td>6.645881e+02</td>\n",
       "      <td>420.930431</td>\n",
       "    </tr>\n",
       "    <tr>\n",
       "      <th>22</th>\n",
       "      <td>Airco</td>\n",
       "      <td>1.855080e+02</td>\n",
       "      <td>62.393084</td>\n",
       "    </tr>\n",
       "    <tr>\n",
       "      <th>23</th>\n",
       "      <td>Mfr_Guarantee</td>\n",
       "      <td>1.963081e+02</td>\n",
       "      <td>118.323156</td>\n",
       "    </tr>\n",
       "    <tr>\n",
       "      <th>24</th>\n",
       "      <td>Boardcomputer</td>\n",
       "      <td>-3.794442e+02</td>\n",
       "      <td>-97.652594</td>\n",
       "    </tr>\n",
       "    <tr>\n",
       "      <th>25</th>\n",
       "      <td>Gears</td>\n",
       "      <td>-1.174036e+01</td>\n",
       "      <td>0.000000</td>\n",
       "    </tr>\n",
       "    <tr>\n",
       "      <th>26</th>\n",
       "      <td>Radio</td>\n",
       "      <td>2.452546e+02</td>\n",
       "      <td>0.000000</td>\n",
       "    </tr>\n",
       "    <tr>\n",
       "      <th>27</th>\n",
       "      <td>Airbag_2</td>\n",
       "      <td>-8.572874e+01</td>\n",
       "      <td>-0.000000</td>\n",
       "    </tr>\n",
       "    <tr>\n",
       "      <th>28</th>\n",
       "      <td>Met_Color</td>\n",
       "      <td>-1.076733e+02</td>\n",
       "      <td>-0.000000</td>\n",
       "    </tr>\n",
       "    <tr>\n",
       "      <th>29</th>\n",
       "      <td>CC</td>\n",
       "      <td>-4.178318e+00</td>\n",
       "      <td>-0.679556</td>\n",
       "    </tr>\n",
       "    <tr>\n",
       "      <th>30</th>\n",
       "      <td>Central_Lock</td>\n",
       "      <td>2.250632e+02</td>\n",
       "      <td>163.166498</td>\n",
       "    </tr>\n",
       "    <tr>\n",
       "      <th>31</th>\n",
       "      <td>Backseat_Divider</td>\n",
       "      <td>-5.766408e+01</td>\n",
       "      <td>-0.000000</td>\n",
       "    </tr>\n",
       "    <tr>\n",
       "      <th>32</th>\n",
       "      <td>Powered_Windows</td>\n",
       "      <td>1.791669e+02</td>\n",
       "      <td>230.249468</td>\n",
       "    </tr>\n",
       "    <tr>\n",
       "      <th>33</th>\n",
       "      <td>Cylinders</td>\n",
       "      <td>-9.094947e-13</td>\n",
       "      <td>0.000000</td>\n",
       "    </tr>\n",
       "    <tr>\n",
       "      <th>34</th>\n",
       "      <td>Fuel_Type_Diesel</td>\n",
       "      <td>4.067272e+03</td>\n",
       "      <td>0.000000</td>\n",
       "    </tr>\n",
       "    <tr>\n",
       "      <th>35</th>\n",
       "      <td>Fuel_Type_Petrol</td>\n",
       "      <td>1.850274e+03</td>\n",
       "      <td>0.000000</td>\n",
       "    </tr>\n",
       "    <tr>\n",
       "      <th>36</th>\n",
       "      <td>Color_Black</td>\n",
       "      <td>2.113854e+02</td>\n",
       "      <td>1.167562</td>\n",
       "    </tr>\n",
       "    <tr>\n",
       "      <th>37</th>\n",
       "      <td>Color_Blue</td>\n",
       "      <td>6.383653e+01</td>\n",
       "      <td>-0.000000</td>\n",
       "    </tr>\n",
       "    <tr>\n",
       "      <th>38</th>\n",
       "      <td>Color_Green</td>\n",
       "      <td>-2.224592e+02</td>\n",
       "      <td>-245.193919</td>\n",
       "    </tr>\n",
       "    <tr>\n",
       "      <th>39</th>\n",
       "      <td>Color_Grey</td>\n",
       "      <td>1.611381e+02</td>\n",
       "      <td>65.032287</td>\n",
       "    </tr>\n",
       "    <tr>\n",
       "      <th>40</th>\n",
       "      <td>Color_Red</td>\n",
       "      <td>-1.038029e+02</td>\n",
       "      <td>-104.187458</td>\n",
       "    </tr>\n",
       "    <tr>\n",
       "      <th>41</th>\n",
       "      <td>Color_Silver</td>\n",
       "      <td>1.450146e+02</td>\n",
       "      <td>59.848612</td>\n",
       "    </tr>\n",
       "    <tr>\n",
       "      <th>42</th>\n",
       "      <td>Color_Violet</td>\n",
       "      <td>-1.032354e+02</td>\n",
       "      <td>0.000000</td>\n",
       "    </tr>\n",
       "    <tr>\n",
       "      <th>43</th>\n",
       "      <td>Color_White</td>\n",
       "      <td>-1.201202e+02</td>\n",
       "      <td>-0.000000</td>\n",
       "    </tr>\n",
       "    <tr>\n",
       "      <th>44</th>\n",
       "      <td>Color_Yellow</td>\n",
       "      <td>-3.667359e+01</td>\n",
       "      <td>-0.000000</td>\n",
       "    </tr>\n",
       "  </tbody>\n",
       "</table>\n",
       "</div>"
      ],
      "text/plain": [
       "            Predictor  linear regression  lasso regression\n",
       "0             Tow_Bar      -1.077228e+02        -93.745420\n",
       "1      Power_Steering      -5.404451e+02       -147.250710\n",
       "2   Parking_Assistant      -2.577994e+02         -0.000000\n",
       "3      Radio_cassette      -1.970121e+02          0.000000\n",
       "4                 ABS      -1.831979e+02       -115.494242\n",
       "5            Airbag_1       3.690600e+02         22.936827\n",
       "6        Metallic_Rim       2.945070e+02        270.765842\n",
       "7           Mfg_Month      -9.750444e+01          0.000000\n",
       "8       Quarterly_Tax       1.328909e+01          8.589679\n",
       "9           CD_Player       2.717617e+02        127.013076\n",
       "10                 KM      -1.695016e-02         -0.017921\n",
       "11          Age_08_04      -1.178998e+02        -13.658138\n",
       "12          Mistlamps      -2.218154e+01          0.000000\n",
       "13                 HP       6.050464e+01         25.851973\n",
       "14    Automatic_airco       2.272019e+03       2401.960591\n",
       "15             Weight       6.952605e+00          9.237239\n",
       "16    BOVAG_Guarantee       3.522989e+02        203.074510\n",
       "17        Sport_Model       4.137309e+02        358.253792\n",
       "18              Doors       1.756881e+02         86.836753\n",
       "19           Mfg_Year       1.795035e+01       1236.500866\n",
       "20   Guarantee_Period       6.499244e+01         52.295990\n",
       "21          Automatic       6.645881e+02        420.930431\n",
       "22              Airco       1.855080e+02         62.393084\n",
       "23      Mfr_Guarantee       1.963081e+02        118.323156\n",
       "24      Boardcomputer      -3.794442e+02        -97.652594\n",
       "25              Gears      -1.174036e+01          0.000000\n",
       "26              Radio       2.452546e+02          0.000000\n",
       "27           Airbag_2      -8.572874e+01         -0.000000\n",
       "28          Met_Color      -1.076733e+02         -0.000000\n",
       "29                 CC      -4.178318e+00         -0.679556\n",
       "30       Central_Lock       2.250632e+02        163.166498\n",
       "31   Backseat_Divider      -5.766408e+01         -0.000000\n",
       "32    Powered_Windows       1.791669e+02        230.249468\n",
       "33          Cylinders      -9.094947e-13          0.000000\n",
       "34   Fuel_Type_Diesel       4.067272e+03          0.000000\n",
       "35   Fuel_Type_Petrol       1.850274e+03          0.000000\n",
       "36        Color_Black       2.113854e+02          1.167562\n",
       "37         Color_Blue       6.383653e+01         -0.000000\n",
       "38        Color_Green      -2.224592e+02       -245.193919\n",
       "39         Color_Grey       1.611381e+02         65.032287\n",
       "40          Color_Red      -1.038029e+02       -104.187458\n",
       "41       Color_Silver       1.450146e+02         59.848612\n",
       "42       Color_Violet      -1.032354e+02          0.000000\n",
       "43        Color_White      -1.201202e+02         -0.000000\n",
       "44       Color_Yellow      -3.667359e+01         -0.000000"
      ]
     },
     "execution_count": 17,
     "metadata": {},
     "output_type": "execute_result"
    }
   ],
   "source": [
    "print('intercept ', car_lm.intercept_)\n",
    "pd.DataFrame({'Predictor': X.columns, 'linear regression': car_lm.coef_,\n",
    "                    'lasso regression':lasso.coef_})"
   ]
  },
  {
   "cell_type": "code",
   "execution_count": null,
   "metadata": {},
   "outputs": [],
   "source": []
  }
 ],
 "metadata": {
  "kernelspec": {
   "display_name": "Python 3",
   "language": "python",
   "name": "python3"
  },
  "language_info": {
   "codemirror_mode": {
    "name": "ipython",
    "version": 3
   },
   "file_extension": ".py",
   "mimetype": "text/x-python",
   "name": "python",
   "nbconvert_exporter": "python",
   "pygments_lexer": "ipython3",
   "version": "3.7.3"
  }
 },
 "nbformat": 4,
 "nbformat_minor": 2
}
