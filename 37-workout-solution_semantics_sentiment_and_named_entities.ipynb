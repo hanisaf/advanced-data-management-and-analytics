{
 "cells": [
  {
   "cell_type": "code",
   "execution_count": 13,
   "metadata": {},
   "outputs": [],
   "source": [
    "#uncomment and run to install spacy\n",
    "#import sys\n",
    "#!{sys.executable} -m pip install spacy\n",
    "#!{sys.executable} -m spacy download en"
   ]
  },
  {
   "cell_type": "code",
   "execution_count": 1,
   "metadata": {},
   "outputs": [],
   "source": [
    "import pandas as pd\n",
    "import spacy"
   ]
  },
  {
   "cell_type": "code",
   "execution_count": 2,
   "metadata": {},
   "outputs": [],
   "source": [
    "nlp = spacy.load('en_core_web_sm')"
   ]
  },
  {
   "cell_type": "markdown",
   "metadata": {},
   "source": [
    "[List of all named entities](https://spacy.io/api/annotation#named-entities)"
   ]
  },
  {
   "cell_type": "markdown",
   "metadata": {},
   "source": [
    "### Extract `MONEY` and `PRODUCT` from the earning calls\n",
    "\n",
    "### Extract all named entities from the earning calls. Rank them by word frequencies"
   ]
  },
  {
   "cell_type": "code",
   "execution_count": 3,
   "metadata": {},
   "outputs": [],
   "source": [
    "data = pd.read_csv('data/EC10.csv')"
   ]
  },
  {
   "cell_type": "code",
   "execution_count": 4,
   "metadata": {},
   "outputs": [
    {
     "data": {
      "text/html": [
       "<div>\n",
       "<style scoped>\n",
       "    .dataframe tbody tr th:only-of-type {\n",
       "        vertical-align: middle;\n",
       "    }\n",
       "\n",
       "    .dataframe tbody tr th {\n",
       "        vertical-align: top;\n",
       "    }\n",
       "\n",
       "    .dataframe thead th {\n",
       "        text-align: right;\n",
       "    }\n",
       "</style>\n",
       "<table border=\"1\" class=\"dataframe\">\n",
       "  <thead>\n",
       "    <tr style=\"text-align: right;\">\n",
       "      <th></th>\n",
       "      <th>id</th>\n",
       "      <th>text</th>\n",
       "      <th>date</th>\n",
       "      <th>company</th>\n",
       "      <th>sector</th>\n",
       "    </tr>\n",
       "  </thead>\n",
       "  <tbody>\n",
       "    <tr>\n",
       "      <th>0</th>\n",
       "      <td>32934</td>\n",
       "      <td>Zoe's Kitchen, Inc. (NYSE:ZOES)\\r\\nQ2 2015 Ear...</td>\n",
       "      <td>2015-08-28 00:11:00</td>\n",
       "      <td>Zoe's Kitchen, Inc.</td>\n",
       "      <td>Consumer Services</td>\n",
       "    </tr>\n",
       "    <tr>\n",
       "      <th>1</th>\n",
       "      <td>32905</td>\n",
       "      <td>Autodesk, Inc. (NASDAQ:ADSK)\\r\\nQ2 2016 Earnin...</td>\n",
       "      <td>2015-08-28 00:07:00</td>\n",
       "      <td>Autodesk, Inc.</td>\n",
       "      <td>Technology</td>\n",
       "    </tr>\n",
       "    <tr>\n",
       "      <th>2</th>\n",
       "      <td>32926</td>\n",
       "      <td>Smith &amp; Wesson Holding Corp. (NASDAQ:SWHC)\\r\\n...</td>\n",
       "      <td>2015-08-27 23:25:00</td>\n",
       "      <td>Smith &amp; Wesson Holding Corporation</td>\n",
       "      <td>Capital Goods</td>\n",
       "    </tr>\n",
       "    <tr>\n",
       "      <th>3</th>\n",
       "      <td>32930</td>\n",
       "      <td>Ulta Salon, Cosmetics &amp; Fragrance, Inc. (NASDA...</td>\n",
       "      <td>2015-08-27 23:09:00</td>\n",
       "      <td>Ulta Salon, Cosmetics &amp; Fragrance, Inc.</td>\n",
       "      <td>Consumer Services</td>\n",
       "    </tr>\n",
       "    <tr>\n",
       "      <th>4</th>\n",
       "      <td>32907</td>\n",
       "      <td>Splunk Inc. (NASDAQ:SPLK)\\r\\nQ2 2016 Earnings ...</td>\n",
       "      <td>2015-08-27 22:56:00</td>\n",
       "      <td>Splunk Inc.</td>\n",
       "      <td>Technology</td>\n",
       "    </tr>\n",
       "  </tbody>\n",
       "</table>\n",
       "</div>"
      ],
      "text/plain": [
       "      id                                               text  \\\n",
       "0  32934  Zoe's Kitchen, Inc. (NYSE:ZOES)\\r\\nQ2 2015 Ear...   \n",
       "1  32905  Autodesk, Inc. (NASDAQ:ADSK)\\r\\nQ2 2016 Earnin...   \n",
       "2  32926  Smith & Wesson Holding Corp. (NASDAQ:SWHC)\\r\\n...   \n",
       "3  32930  Ulta Salon, Cosmetics & Fragrance, Inc. (NASDA...   \n",
       "4  32907  Splunk Inc. (NASDAQ:SPLK)\\r\\nQ2 2016 Earnings ...   \n",
       "\n",
       "                  date                                  company  \\\n",
       "0  2015-08-28 00:11:00                      Zoe's Kitchen, Inc.   \n",
       "1  2015-08-28 00:07:00                           Autodesk, Inc.   \n",
       "2  2015-08-27 23:25:00       Smith & Wesson Holding Corporation   \n",
       "3  2015-08-27 23:09:00  Ulta Salon, Cosmetics & Fragrance, Inc.   \n",
       "4  2015-08-27 22:56:00                              Splunk Inc.   \n",
       "\n",
       "              sector  \n",
       "0  Consumer Services  \n",
       "1         Technology  \n",
       "2      Capital Goods  \n",
       "3  Consumer Services  \n",
       "4         Technology  "
      ]
     },
     "execution_count": 4,
     "metadata": {},
     "output_type": "execute_result"
    }
   ],
   "source": [
    "data.head()"
   ]
  },
  {
   "cell_type": "code",
   "execution_count": 5,
   "metadata": {},
   "outputs": [],
   "source": [
    "text = data.iloc[0, 1]"
   ]
  },
  {
   "cell_type": "code",
   "execution_count": 31,
   "metadata": {},
   "outputs": [],
   "source": [
    "def summarize(text, selected_entities = {\"MONEY\", \"PRODUCT\"}, top_n = 10):\n",
    "    doc = nlp(text)\n",
    "    entities = [(ent.text, ent.label_) for ent in doc.ents]\n",
    "    filtered = [text for text, label in entities if label in selected_entities]\n",
    "    return pd.Series(filtered).value_counts()[:top_n].to_dict()"
   ]
  },
  {
   "cell_type": "code",
   "execution_count": 32,
   "metadata": {},
   "outputs": [],
   "source": [
    "data['summary'] = data['text'].apply(summarize)"
   ]
  },
  {
   "cell_type": "code",
   "execution_count": 34,
   "metadata": {},
   "outputs": [
    {
     "data": {
      "text/plain": [
       "0    {'Kevin Miles - President': 18, 'Kevin Miles':...\n",
       "1    {'Carl Bass - President': 48, 'R. Scott Herren...\n",
       "2    {'P. James Debney - President': 30, 'Jeffrey D...\n",
       "3    {'Mary N. Dillon - Chief': 14, 'Scott M. Sette...\n",
       "4    {'Godfrey Sullivan': 22, 'Splunk Cloud': 12, '...\n",
       "5    {'Julian Paul Raines -': 57, 'Tony D. Bartel':...\n",
       "6    {'Aurelio Cisneros': 10, 'Anson Chan': 7, 'Tho...\n",
       "7    {'Colleen Johnston': 13, 'TD': 11, 'Mark Chauv...\n",
       "8    {'Todd Noden': 4, 'Terry Finley': 3, 'Harper L...\n",
       "9    {'Peter Gassner': 15, 'Brendan Barnicle': 6, '...\n",
       "Name: text, dtype: object"
      ]
     },
     "execution_count": 34,
     "metadata": {},
     "output_type": "execute_result"
    }
   ],
   "source": [
    "data['text'].apply(lambda text:\n",
    "                   summarize(text,selected_entities = {\"PERSON\"}) )"
   ]
  },
  {
   "cell_type": "code",
   "execution_count": 35,
   "metadata": {},
   "outputs": [
    {
     "data": {
      "text/plain": [
       "[{'Kevin Miles - President': 18,\n",
       "  'Kevin Miles': 16,\n",
       "  'James Besch - CFO': 14,\n",
       "  'Kevin': 10,\n",
       "  'Paul Westra - Stifel': 8,\n",
       "  'Jim': 6,\n",
       "  'Andrew Marc': 5,\n",
       "  'Karen F. Short - Deutsche Bank Securities, Inc.': 4,\n",
       "  'Nicole M. Miller Regan - Piper Jaffray & Co': 4,\n",
       "  'Karen F. Short - Deutsche Bank': 3},\n",
       " {'Carl Bass - President': 48,\n",
       "  'R. Scott Herren': 22,\n",
       "  'Carl': 13,\n",
       "  'R. Scott Herren -': 11,\n",
       "  'Steve R. Koenig -': 11,\n",
       "  'Scott': 6,\n",
       "  'Autodesk': 6,\n",
       "  'Anne Bellini': 6,\n",
       "  'Jay Vleeschhouwer - Griffin Securities,': 5,\n",
       "  'Jay Vleeschhouwer - Griffin Securities, Inc.': 5},\n",
       " {'P. James Debney - President': 30,\n",
       "  'Jeffrey D. Buchanan - Executive': 15,\n",
       "  'Financial Officer': 15,\n",
       "  'Scott L. Stember - C.L. King & Associates': 10,\n",
       "  'Jeff': 9,\n",
       "  'Cai von Rumohr - Cowen & Co.': 9,\n",
       "  'James': 7,\n",
       "  'Steven L. Cahall -': 6,\n",
       "  'Brian W. Ruttenbur -': 4,\n",
       "  'Brian': 4},\n",
       " {'Mary N. Dillon - Chief': 14,\n",
       "  'Scott M. Settersten -': 11,\n",
       "  'Mary': 9,\n",
       "  'David C. Kimbell': 8,\n",
       "  'Lancôme': 5,\n",
       "  'Scott': 5,\n",
       "  'Dave': 5,\n",
       "  'Christopher Michael Horvers - JPMorgan': 4,\n",
       "  'Oliver Chen - Cowen': 4,\n",
       "  'Salon': 3},\n",
       " {'Godfrey Sullivan': 22,\n",
       "  'Splunk Cloud': 12,\n",
       "  'Godfrey': 10,\n",
       "  'Dave Conte': 9,\n",
       "  'Doug': 8,\n",
       "  'Dave': 7,\n",
       "  'David Conte': 5,\n",
       "  'Splunk': 4,\n",
       "  'Marc Olesen': 4,\n",
       "  'non-GAAP': 4},\n",
       " {'Julian Paul Raines -': 57,\n",
       "  'Tony D. Bartel': 22,\n",
       "  'Tony': 13,\n",
       "  'Mike': 12,\n",
       "  'Seth I. Sigman - Credit Suisse Securities': 12,\n",
       "  'Robert Alan Lloyd -': 10,\n",
       "  'Rob': 10,\n",
       "  'Paul': 9,\n",
       "  'Michael K. Mauler - Executive': 8,\n",
       "  'Michael P. Hogan - Executive': 8},\n",
       " {'Aurelio Cisneros': 10,\n",
       "  'Anson Chan': 7,\n",
       "  'Thomas Sepenzis': 5,\n",
       "  'Shaw Hong': 4,\n",
       "  'non-GAAP': 4,\n",
       "  'Ray': 3,\n",
       "  'Anson': 3,\n",
       "  'Shaw': 2,\n",
       "  'Raymond James': 2,\n",
       "  'Melissa Fairbanks': 2},\n",
       " {'Colleen Johnston': 13,\n",
       "  'TD': 11,\n",
       "  'Mark Chauvin': 11,\n",
       "  'Mark': 10,\n",
       "  'Mike Pedersen': 9,\n",
       "  'Doug Young': 7,\n",
       "  'Colleen': 6,\n",
       "  'Steve Theriault': 5,\n",
       "  'Gabriel Dechaine': 5,\n",
       "  'Mike': 5},\n",
       " {'Todd Noden': 4,\n",
       "  'Terry Finley': 3,\n",
       "  'Harper Lee’s': 2,\n",
       "  \"John Green's\": 1,\n",
       "  'Veronica Roth’s': 1,\n",
       "  'Todd Noden - CFO': 1,\n",
       "  'Andy Weir': 1,\n",
       "  'David McCullough': 1,\n",
       "  'Funko': 1,\n",
       "  'Grey': 1},\n",
       " {'Peter Gassner': 15,\n",
       "  'Brendan Barnicle': 6,\n",
       "  'Peter': 6,\n",
       "  'Timothy Cabral': 5,\n",
       "  'Jobin Mathew': 5,\n",
       "  'Tim': 5,\n",
       "  'Matt': 5,\n",
       "  'non-GAAP': 4,\n",
       "  'Stan Zlotsky': 4,\n",
       "  'Tom Roderick': 4}]"
      ]
     },
     "execution_count": 35,
     "metadata": {},
     "output_type": "execute_result"
    }
   ],
   "source": [
    "_.to_list()"
   ]
  },
  {
   "cell_type": "code",
   "execution_count": 20,
   "metadata": {},
   "outputs": [
    {
     "data": {
      "text/plain": [
       "['GAAP', 'GM Conference']"
      ]
     },
     "execution_count": 20,
     "metadata": {},
     "output_type": "execute_result"
    }
   ],
   "source": []
  },
  {
   "cell_type": "code",
   "execution_count": null,
   "metadata": {},
   "outputs": [],
   "source": []
  }
 ],
 "metadata": {
  "kernelspec": {
   "display_name": "Python 3",
   "language": "python",
   "name": "python3"
  },
  "language_info": {
   "codemirror_mode": {
    "name": "ipython",
    "version": 3
   },
   "file_extension": ".py",
   "mimetype": "text/x-python",
   "name": "python",
   "nbconvert_exporter": "python",
   "pygments_lexer": "ipython3",
   "version": "3.7.6"
  }
 },
 "nbformat": 4,
 "nbformat_minor": 2
}
