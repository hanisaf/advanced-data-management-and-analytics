{
 "cells": [
  {
   "cell_type": "markdown",
   "metadata": {},
   "source": [
    "Refer to [the University of Georgia by the Numbers Page](https://www.uga.edu/facts.php)\n",
    "\n",
    "Reconstruct (most) of this page using markdown in this notebook"
   ]
  },
  {
   "cell_type": "markdown",
   "metadata": {},
   "source": [
    "# UGA by the Numbers\n",
    "\n",
    "**Founded**\n",
    "\n",
    "> January 27, 1785, by the Georgia General Assembly. UGA is the \n",
    "> birthplace of public higher education in America.\n",
    "\n",
    "**Location**\n",
    "\n",
    ">Athens, Georgia (Clarke County), about 70 miles northeast of downtown Atlanta.\n",
    "\n",
    "**Size**\n",
    "\n",
    ">Main campus: 465 buildings on 762 acres\n",
    "Total acreage in 31 Georgia counties: 39,743 acres\n"
   ]
  },
  {
   "cell_type": "markdown",
   "metadata": {},
   "source": [
    "**Work Force**\n",
    "\n",
    "|.  |.  |\n",
    "| - | - |\n",
    "|**Faculty (instruction/research/public service)**\t| 3,119 |\n",
    "| **Administrative/other professional**\t| 3,213 |\n",
    "| **Technical/clerical/crafts/maintenance**\t| 4,524 |\n",
    "| **Total**\t| **10,856** |\n",
    "\n",
    "> We are proud to be ranked #13 Best Employer in Georgia by Forbes Magazine.\n",
    "\n",
    "(As of October 2018)\n",
    "\n"
   ]
  },
  {
   "cell_type": "markdown",
   "metadata": {},
   "source": [
    "**Annual Budget**\n",
    "\n",
    "> $1.69 billion, FY19\n",
    "\n",
    "(As of January 2019)"
   ]
  },
  {
   "cell_type": "markdown",
   "metadata": {},
   "source": [
    "**Research**\n",
    "\n",
    "- \\$477.5 million in R&D expenditures (FY19)\n",
    "- Top 5 university in the U.S. for new products to market\n",
    "- \\$531M from UGA startups and programs\n",
    "- Licensing Revenue: \\$10.6 million\n",
    "- More than 775 products to date have been derived from university research.\n",
    "\n",
    "(As of Spring 2020)\n",
    "\n",
    "Find out more about UGA research on the [Office of Research](https://research.uga.edu/fast-facts/) website."
   ]
  },
  {
   "cell_type": "code",
   "execution_count": null,
   "metadata": {},
   "outputs": [],
   "source": []
  }
 ],
 "metadata": {
  "kernelspec": {
   "display_name": "Python 3",
   "language": "python",
   "name": "python3"
  },
  "language_info": {
   "codemirror_mode": {
    "name": "ipython",
    "version": 3
   },
   "file_extension": ".py",
   "mimetype": "text/x-python",
   "name": "python",
   "nbconvert_exporter": "python",
   "pygments_lexer": "ipython3",
   "version": "3.7.3"
  }
 },
 "nbformat": 4,
 "nbformat_minor": 2
}
