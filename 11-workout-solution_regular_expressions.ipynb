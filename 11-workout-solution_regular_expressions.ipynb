{
 "cells": [
  {
   "cell_type": "code",
   "execution_count": 2,
   "metadata": {},
   "outputs": [],
   "source": [
    "import csv"
   ]
  },
  {
   "cell_type": "code",
   "execution_count": 3,
   "metadata": {},
   "outputs": [],
   "source": [
    "data = []\n",
    "with open('data/EC10.csv') as csvfile:\n",
    "    csvreader = csv.reader(csvfile, delimiter=',')\n",
    "    for row in csvreader:\n",
    "        data.append(row[1])\n",
    "data = data[1:] #exclude header"
   ]
  },
  {
   "cell_type": "code",
   "execution_count": 4,
   "metadata": {},
   "outputs": [
    {
     "data": {
      "text/plain": [
       "10"
      ]
     },
     "execution_count": 4,
     "metadata": {},
     "output_type": "execute_result"
    }
   ],
   "source": [
    "len(data)"
   ]
  },
  {
   "cell_type": "code",
   "execution_count": 6,
   "metadata": {
    "scrolled": false
   },
   "outputs": [
    {
     "name": "stdout",
     "output_type": "stream",
     "text": [
      "Zoe's Kitchen, Inc. (NYSE:ZOES)\n",
      "Q2 2015 Earnings Call\n",
      "August 27, 2015 5:00 pm ET\n",
      "Executives\n",
      "James Besch - CFO, Vice President-Accounting & Controller\n",
      "Kevin Miles - President, Chief Executive Officer & Director\n",
      "Analysts\n",
      "Karen F. Short - Deutsche Bank Securities, Inc.\n",
      "Andrew Marc Barish - Jefferies LLC\n",
      "Nicole M. Miller Regan - Piper Jaffray & Co (Broker)\n",
      "Will Slabaugh - Stephens, Inc.\n",
      "Jason West - Credit Suisse Securities (NYSE:USA) LLC (Broker)\n",
      "Sharon M. Zackfia - William Blair & Co. LLC\n",
      "David E. Tarantino - Robert W. Baird & Co., Inc. (Broker)\n",
      "Paul Westra - Stifel, Nicolaus & Co., Inc.\n",
      "Stephen Anderson - Maxim Group\n",
      "Operator\n",
      "Good day, ladies and gentlemen, and thank you for standing by. Welcome to the Zoe's Kitchen Second Quarter 2015 Earnings Conference Call. At this time, all participants have been placed in a listen-only mode, and the lines will be open for your questions following the presentation. Please note that this conference is being recorded today, August 27, 2015.\n",
      "On the ca\n"
     ]
    }
   ],
   "source": [
    "print(data[0][:1000])"
   ]
  },
  {
   "cell_type": "markdown",
   "metadata": {},
   "source": [
    "The list `data` contains 10 entries. Each entry is the full-text of  a company's [earning call](https://en.wikipedia.org/wiki/Earnings_call)\n",
    "\n",
    "The company's ticker and stock exchange are listed in the first few lines in each earning call. Using regular expressions, extract the tickers and stock exchange symbols for all the companies. \n",
    "\n",
    "Note that an earning call may contain tickers of other companies. We want to exclude them. In other words, we want to first ticker / stock exchange listed in each earning call"
   ]
  },
  {
   "cell_type": "code",
   "execution_count": 7,
   "metadata": {},
   "outputs": [],
   "source": [
    "import re"
   ]
  },
  {
   "cell_type": "code",
   "execution_count": 8,
   "metadata": {},
   "outputs": [],
   "source": [
    "text = data[0]"
   ]
  },
  {
   "cell_type": "code",
   "execution_count": 24,
   "metadata": {},
   "outputs": [
    {
     "data": {
      "text/plain": [
       "('NYSE', 'ZOES')"
      ]
     },
     "execution_count": 24,
     "metadata": {},
     "output_type": "execute_result"
    }
   ],
   "source": [
    "# (NYSE:ZOES)\n",
    "stock_ticker = re.compile(r'\\(([A-Z]+):([A-Z]+)\\)')\n",
    "stock_ticker.search(text).groups()"
   ]
  },
  {
   "cell_type": "code",
   "execution_count": 25,
   "metadata": {},
   "outputs": [],
   "source": [
    "stocks_tickers = [stock_ticker.search(text).groups() for text in data]"
   ]
  },
  {
   "cell_type": "code",
   "execution_count": 26,
   "metadata": {},
   "outputs": [
    {
     "data": {
      "text/plain": [
       "[('NYSE', 'ZOES'),\n",
       " ('NASDAQ', 'ADSK'),\n",
       " ('NASDAQ', 'SWHC'),\n",
       " ('NASDAQ', 'ULTA'),\n",
       " ('NASDAQ', 'SPLK'),\n",
       " ('NYSE', 'GME'),\n",
       " ('NASDAQ', 'OVTI'),\n",
       " ('NYSE', 'TD'),\n",
       " ('NASDAQ', 'BAMM'),\n",
       " ('NYSE', 'VEEV')]"
      ]
     },
     "execution_count": 26,
     "metadata": {},
     "output_type": "execute_result"
    }
   ],
   "source": [
    "stocks_tickers"
   ]
  },
  {
   "cell_type": "code",
   "execution_count": 28,
   "metadata": {},
   "outputs": [
    {
     "data": {
      "text/plain": [
       "['NYSE',\n",
       " 'NASDAQ',\n",
       " 'NASDAQ',\n",
       " 'NASDAQ',\n",
       " 'NASDAQ',\n",
       " 'NYSE',\n",
       " 'NASDAQ',\n",
       " 'NYSE',\n",
       " 'NASDAQ',\n",
       " 'NYSE']"
      ]
     },
     "execution_count": 28,
     "metadata": {},
     "output_type": "execute_result"
    }
   ],
   "source": [
    "stocks = [t[0] for t in stocks_tickers]\n",
    "stocks"
   ]
  },
  {
   "cell_type": "code",
   "execution_count": 30,
   "metadata": {},
   "outputs": [
    {
     "data": {
      "text/plain": [
       "['ZOES', 'ADSK', 'SWHC', 'ULTA', 'SPLK', 'GME', 'OVTI', 'TD', 'BAMM', 'VEEV']"
      ]
     },
     "execution_count": 30,
     "metadata": {},
     "output_type": "execute_result"
    }
   ],
   "source": [
    "tickers = [t[1] for t in stocks_tickers]\n",
    "tickers"
   ]
  },
  {
   "cell_type": "markdown",
   "metadata": {},
   "source": [
    "How about extracting all numbers that start with `$`"
   ]
  },
  {
   "cell_type": "code",
   "execution_count": 36,
   "metadata": {},
   "outputs": [],
   "source": [
    "money = re.compile(r'(\\$\\d+[.,\\d]*)\\s(\\w+)')\n"
   ]
  },
  {
   "cell_type": "code",
   "execution_count": 37,
   "metadata": {},
   "outputs": [],
   "source": [
    "money_extract = [money.findall(text) for text in data]"
   ]
  },
  {
   "cell_type": "code",
   "execution_count": 42,
   "metadata": {},
   "outputs": [
    {
     "data": {
      "text/plain": [
       "[[('$54.5', 'million'),\n",
       "  ('$41.9', 'million'),\n",
       "  ('$54.4', 'million'),\n",
       "  ('$41.8', 'million'),\n",
       "  ('$230,000', 'of'),\n",
       "  ('$11.6', 'million'),\n",
       "  ('$8.8', 'million'),\n",
       "  ('$1.8', 'million'),\n",
       "  ('$6.3', 'million'),\n",
       "  ('$4.5', 'million'),\n",
       "  ('$550,000', 'related'),\n",
       "  ('$180,000', 'related'),\n",
       "  ('$100,000', 'related'),\n",
       "  ('$142,000', 'of'),\n",
       "  ('$700', 'million'),\n",
       "  ('$500,000', 'of'),\n",
       "  ('$637,000', 'from'),\n",
       "  ('$442,000', 'in'),\n",
       "  ('$2.7', 'million'),\n",
       "  ('$800,000', 'in'),\n",
       "  ('$710,000', 'compared'),\n",
       "  ('$620,000', 'in'),\n",
       "  ('$750,000', 'per'),\n",
       "  ('$871,000', 'in'),\n",
       "  ('$124,000', 'in'),\n",
       "  ('$120,000', 'or'),\n",
       "  ('$0.01', 'per'),\n",
       "  ('$1.1', 'million'),\n",
       "  ('$0.06', 'per'),\n",
       "  ('$19.6', 'million'),\n",
       "  ('$19.5', 'million'),\n",
       "  ('$955,000', 'or'),\n",
       "  ('$0.05', 'per'),\n",
       "  ('$705,000', 'or'),\n",
       "  ('$0.04', 'per'),\n",
       "  ('$220', 'million'),\n",
       "  ('$224', 'million'),\n",
       "  ('$200,000.', 'We'),\n",
       "  ('$25.3', 'million'),\n",
       "  ('$25.5', 'million'),\n",
       "  ('$550,000', 'item'),\n",
       "  ('$25.3', 'million'),\n",
       "  ('$25.5', 'million'),\n",
       "  ('$1.3', 'million')],\n",
       " [('$80', 'million'),\n",
       "  ('$18', 'million'),\n",
       "  ('$20', 'million'),\n",
       "  ('$613', 'million'),\n",
       "  ('$610', 'million'),\n",
       "  ('$600', 'million')],\n",
       " [('$147.8', 'million'),\n",
       "  ('$13.3', 'million'),\n",
       "  ('$13.3', 'million'),\n",
       "  ('$147.8', 'million'),\n",
       "  ('$134.4', 'million'),\n",
       "  ('$13.3', 'million'),\n",
       "  ('$100.7', 'million'),\n",
       "  ('$21.3', 'million'),\n",
       "  ('$29.1', 'million'),\n",
       "  ('$23.4', 'million'),\n",
       "  ('$5.9', 'million'),\n",
       "  ('$2', 'million'),\n",
       "  ('$1.8', 'million'),\n",
       "  ('$28.7', 'million'),\n",
       "  ('$22.9', 'million'),\n",
       "  ('$0.26,', 'which'),\n",
       "  ('$0.32,', 'substantially'),\n",
       "  ('$0.27.', 'Adjusted'),\n",
       "  ('$38.8', 'million'),\n",
       "  ('$16.6', 'million'),\n",
       "  ('$13.2', 'million'),\n",
       "  ('$55.4', 'million'),\n",
       "  ('$7.9', 'million'),\n",
       "  ('$50', 'million'),\n",
       "  ('$175', 'million'),\n",
       "  ('$180', 'million'),\n",
       "  ('$105', 'million'),\n",
       "  ('$75', 'million'),\n",
       "  ('$50', 'million'),\n",
       "  ('$610', 'million'),\n",
       "  ('$620', 'million'),\n",
       "  ('$1.14', 'and'),\n",
       "  ('$1.19.', 'That'),\n",
       "  ('$0.08', 'for'),\n",
       "  ('$0.19', 'for'),\n",
       "  ('$0.03', 'related'),\n",
       "  ('$0.09', 'for'),\n",
       "  ('$0.99', 'and'),\n",
       "  ('$1.04', 'for'),\n",
       "  ('$135', 'million'),\n",
       "  ('$140', 'million'),\n",
       "  ('$0.19', 'and'),\n",
       "  ('$0.21', 'and'),\n",
       "  ('$0.05', 'for'),\n",
       "  ('$0.02,', 'so'),\n",
       "  ('$0.16', 'and'),\n",
       "  ('$0.18.', 'With'),\n",
       "  ('$50', 'million'),\n",
       "  ('$0.32', 'in'),\n",
       "  ('$6', 'million'),\n",
       "  ('$0.10', 'on'),\n",
       "  ('$0.12.', 'Help'),\n",
       "  ('$1.8', 'million')],\n",
       " [('$1.15', 'compared'),\n",
       "  ('$0.94', 'in'),\n",
       "  ('$400', 'with'),\n",
       "  ('$877', 'million'),\n",
       "  ('$734', 'million'),\n",
       "  ('$306.5', 'million'),\n",
       "  ('$183.9', 'million'),\n",
       "  ('$4.1', 'million'),\n",
       "  ('$3.6', 'million'),\n",
       "  ('$118.5', 'million'),\n",
       "  ('$74.2', 'million'),\n",
       "  ('$1.15', 'per'),\n",
       "  ('$60.8', 'million'),\n",
       "  ('$0.94', 'per'),\n",
       "  ('$705.7', 'million'),\n",
       "  ('$541.5', 'million'),\n",
       "  ('$80.6', 'million'),\n",
       "  ('$300', 'million'),\n",
       "  ('$39', 'million'),\n",
       "  ('$170', 'million'),\n",
       "  ('$475', 'million'),\n",
       "  ('$46', 'million'),\n",
       "  ('$286', 'million'),\n",
       "  ('$400', 'million'),\n",
       "  ('$3.96', 'of'),\n",
       "  ('$0.02', 'non'),\n",
       "  ('$300', 'million'),\n",
       "  ('$869', 'million'),\n",
       "  ('$883', 'million'),\n",
       "  ('$745.7', 'million'),\n",
       "  ('$1', 'to'),\n",
       "  ('$1.05', 'versus'),\n",
       "  ('$0.91', 'for'),\n",
       "  ('$20', 'million'),\n",
       "  ('$60', 'million'),\n",
       "  ('$20', 'million')],\n",
       " [('$148.3', 'million'),\n",
       "  ('$88', 'million'),\n",
       "  ('$100,000.', 'As'),\n",
       "  ('$4.8', 'million'),\n",
       "  ('$4.1', 'million'),\n",
       "  ('$0.03', 'per'),\n",
       "  ('$13.6', 'million'),\n",
       "  ('$10.8', 'million'),\n",
       "  ('$143', 'million'),\n",
       "  ('$158', 'million'),\n",
       "  ('$160', 'million'),\n",
       "  ('$628', 'million'),\n",
       "  ('$632', 'million'),\n",
       "  ('$610', 'million'),\n",
       "  ('$614', 'million'),\n",
       "  ('$50', 'million'),\n",
       "  ('$10', 'million')],\n",
       " [('$0.36', 'per'),\n",
       "  ('$60.7', 'million'),\n",
       "  ('$1', 'billion'),\n",
       "  ('$580.5', 'million'),\n",
       "  ('$9.1', 'million'),\n",
       "  ('$4.5', 'million'),\n",
       "  ('$350', 'million'),\n",
       "  ('$100', 'million'),\n",
       "  ('$199', 'million'),\n",
       "  ('$5', 'million'),\n",
       "  ('$99.4', 'million'),\n",
       "  ('$126', 'million'),\n",
       "  ('$60.7', 'million'),\n",
       "  ('$43.04.', 'We'),\n",
       "  ('$1.8', 'billion'),\n",
       "  ('$25.28.', 'We'),\n",
       "  ('$200', 'million'),\n",
       "  ('$0.36', 'per'),\n",
       "  ('$500', 'million'),\n",
       "  ('$466', 'million'),\n",
       "  ('$247', 'million'),\n",
       "  ('$100', 'million'),\n",
       "  ('$0.53', 'to'),\n",
       "  ('$0.60', 'per'),\n",
       "  ('$0.02', 'per'),\n",
       "  ('$3.63', 'to'),\n",
       "  ('$3.83', 'per'),\n",
       "  ('$3.66', 'to'),\n",
       "  ('$3.86', 'per'),\n",
       "  ('$200', 'million'),\n",
       "  ('$250', 'million'),\n",
       "  ('$500', 'million'),\n",
       "  ('$20', 'billion'),\n",
       "  ('$8', 'million'),\n",
       "  ('$0.08.', 'And'),\n",
       "  ('$0.03.', 'So'),\n",
       "  ('$0.05', 'that'),\n",
       "  ('$41', 'million'),\n",
       "  ('$20.', 'That'),\n",
       "  ('$170', 'million'),\n",
       "  ('$1.5', 'billion')],\n",
       " [('$330', 'million'),\n",
       "  ('$28.6', 'million'),\n",
       "  ('$0.46', 'per'),\n",
       "  ('$594', 'million'),\n",
       "  ('$29.75', 'per'),\n",
       "  ('$1.9', 'billion'),\n",
       "  ('$1.53,', 'as'),\n",
       "  ('$1.59', 'in'),\n",
       "  ('$329.9', 'million'),\n",
       "  ('$1.3', 'million'),\n",
       "  ('$2', 'million'),\n",
       "  ('$8.8', 'million'),\n",
       "  ('$6.8', 'million'),\n",
       "  ('$1.6', 'million'),\n",
       "  ('$10.8', 'million'),\n",
       "  ('$9.2', 'million'),\n",
       "  ('$36.1', 'million'),\n",
       "  ('$33.5', 'million'),\n",
       "  ('$4.8', 'million'),\n",
       "  ('$31.3', 'million'),\n",
       "  ('$29.5', 'million'),\n",
       "  ('$21.1', 'million'),\n",
       "  ('$23.6', 'million'),\n",
       "  ('$4', 'million'),\n",
       "  ('$3.7', 'million'),\n",
       "  ('$17.4', 'million'),\n",
       "  ('$20.2', 'million'),\n",
       "  ('$2.3', 'million'),\n",
       "  ('$15', 'million'),\n",
       "  ('$4.6', 'million'),\n",
       "  ('$16.2', 'million'),\n",
       "  ('$6.8', 'million'),\n",
       "  ('$0.6', 'million'),\n",
       "  ('$2', 'million'),\n",
       "  ('$0.8', 'million'),\n",
       "  ('$3.1', 'million'),\n",
       "  ('$2.5', 'million'),\n",
       "  ('$1.3', 'million'),\n",
       "  ('$18.2', 'million'),\n",
       "  ('$0.31', 'on'),\n",
       "  ('$6', 'million'),\n",
       "  ('$0.10', 'per'),\n",
       "  ('$28.6', 'million'),\n",
       "  ('$0.46', 'per'),\n",
       "  ('$13.9', 'million'),\n",
       "  ('$0.22', 'per'),\n",
       "  ('$593.8', 'million'),\n",
       "  ('$69.6', 'million'),\n",
       "  ('$524.2', 'million'),\n",
       "  ('$320.6', 'million'),\n",
       "  ('$344', 'million'),\n",
       "  ('$147.5', 'million'),\n",
       "  ('$151.1', 'million'),\n",
       "  ('$12.5', 'million'),\n",
       "  ('$12.5', 'million'),\n",
       "  ('$37.7', 'million'),\n",
       "  ('$14.8', 'million'),\n",
       "  ('$228.3', 'million'),\n",
       "  ('$37.8', 'million'),\n",
       "  ('$300', 'million'),\n",
       "  ('$330', 'million'),\n",
       "  ('$0.12', 'to'),\n",
       "  ('$0.27', 'per'),\n",
       "  ('$0.25', 'to'),\n",
       "  ('$0.40', 'per'),\n",
       "  ('$1.53.', 'Thomas')],\n",
       " [('$1.20,', 'an'),\n",
       "  ('$239', 'million'),\n",
       "  ('$1.20,', 'up'),\n",
       "  ('$35', 'oil'),\n",
       "  ('$50', 'over'),\n",
       "  ('$35', 'gradually')],\n",
       " [('$106.8', 'million'),\n",
       "  ('$107.6', 'million'),\n",
       "  ('$1.2', 'million'),\n",
       "  ('$2.5', 'million'),\n",
       "  ('$476,000', 'to'),\n",
       "  ('$3.9', 'million'),\n",
       "  ('$4.4', 'million'),\n",
       "  ('$626,000', 'for'),\n",
       "  ('$569,000', 'in'),\n",
       "  ('$5.8', 'million'),\n",
       "  ('$0.41', 'per'),\n",
       "  ('$3', 'million'),\n",
       "  ('$0.21', 'per'),\n",
       "  ('$189.8', 'million'),\n",
       "  ('$188', 'million'),\n",
       "  ('$3.1', 'million'),\n",
       "  ('$3.5', 'million'),\n",
       "  ('$81.5', 'million'),\n",
       "  ('$84.8', 'million'),\n",
       "  ('$53.6', 'million'),\n",
       "  ('$33.6', 'million'),\n",
       "  ('$100.2', 'million'),\n",
       "  ('$110.9', 'million'),\n",
       "  ('$6.5', 'million'),\n",
       "  ('$13.9', 'million')],\n",
       " [('$98', 'million'),\n",
       "  ('$75', 'million'),\n",
       "  ('$1.6', 'trillion'),\n",
       "  ('$2', 'billion'),\n",
       "  ('$98.1', 'million'),\n",
       "  ('$75.7', 'million'),\n",
       "  ('$75.3', 'million'),\n",
       "  ('$56.6', 'million'),\n",
       "  ('$22.8', 'million'),\n",
       "  ('$19.1', 'million'),\n",
       "  ('$18.2', 'million'),\n",
       "  ('$12.4', 'million'),\n",
       "  ('$0.13', 'compared'),\n",
       "  ('$0.09', 'from'),\n",
       "  ('$2.4', 'million'),\n",
       "  ('$2', 'million'),\n",
       "  ('$7', 'million'),\n",
       "  ('$8', 'million'),\n",
       "  ('$1', 'million'),\n",
       "  ('$110', 'million'),\n",
       "  ('$111', 'million'),\n",
       "  ('$96', 'million'),\n",
       "  ('$6', 'million'),\n",
       "  ('$438', 'million'),\n",
       "  ('$429', 'million'),\n",
       "  ('$15.2', 'million'),\n",
       "  ('$16.6', 'million'),\n",
       "  ('$89.8', 'million'),\n",
       "  ('$9.8', 'million'),\n",
       "  ('$45', 'million'),\n",
       "  ('$101.5', 'million'),\n",
       "  ('$103', 'million'),\n",
       "  ('$27.5', 'million'),\n",
       "  ('$28.5', 'million'),\n",
       "  ('$0.11', 'to'),\n",
       "  ('$0.12', 'based'),\n",
       "  ('$145', 'million'),\n",
       "  ('$395', 'million'),\n",
       "  ('$398', 'million'),\n",
       "  ('$393', 'million'),\n",
       "  ('$397', 'million'),\n",
       "  ('$111', 'million'),\n",
       "  ('$113', 'million'),\n",
       "  ('$107', 'million'),\n",
       "  ('$111', 'million'),\n",
       "  ('$0.47', 'to'),\n",
       "  ('$0.48', 'up'),\n",
       "  ('$0.45', 'to'),\n",
       "  ('$0.46', 'based'),\n",
       "  ('$145', 'million'),\n",
       "  ('$1', 'billion'),\n",
       "  ('$1', 'billion'),\n",
       "  ('$2', 'billion'),\n",
       "  ('$75', 'million'),\n",
       "  ('$1', 'billion'),\n",
       "  ('$1.6', 'trillion'),\n",
       "  ('$5', 'million'),\n",
       "  ('$75', 'million'),\n",
       "  ('$75', 'million'),\n",
       "  ('$75', 'million'),\n",
       "  ('$100,000', 'deal')]]"
      ]
     },
     "execution_count": 42,
     "metadata": {},
     "output_type": "execute_result"
    }
   ],
   "source": [
    "money_extract"
   ]
  },
  {
   "cell_type": "code",
   "execution_count": null,
   "metadata": {},
   "outputs": [],
   "source": []
  }
 ],
 "metadata": {
  "kernelspec": {
   "display_name": "Python 3",
   "language": "python",
   "name": "python3"
  },
  "language_info": {
   "codemirror_mode": {
    "name": "ipython",
    "version": 3
   },
   "file_extension": ".py",
   "mimetype": "text/x-python",
   "name": "python",
   "nbconvert_exporter": "python",
   "pygments_lexer": "ipython3",
   "version": "3.7.6"
  }
 },
 "nbformat": 4,
 "nbformat_minor": 2
}
