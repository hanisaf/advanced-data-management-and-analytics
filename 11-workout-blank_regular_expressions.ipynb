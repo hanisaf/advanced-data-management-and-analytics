{
 "cells": [
  {
   "cell_type": "code",
   "execution_count": 1,
   "metadata": {},
   "outputs": [],
   "source": [
    "import csv"
   ]
  },
  {
   "cell_type": "code",
   "execution_count": 2,
   "metadata": {},
   "outputs": [],
   "source": [
    "data = []\n",
    "with open('data/EC10.csv') as csvfile:\n",
    "    csvreader = csv.reader(csvfile, delimiter=',')\n",
    "    for row in csvreader:\n",
    "        data.append(row[1])\n",
    "data = data[1:] #exclude header"
   ]
  },
  {
   "cell_type": "code",
   "execution_count": 3,
   "metadata": {},
   "outputs": [
    {
     "data": {
      "text/plain": [
       "10"
      ]
     },
     "execution_count": 3,
     "metadata": {},
     "output_type": "execute_result"
    }
   ],
   "source": [
    "len(data)"
   ]
  },
  {
   "cell_type": "code",
   "execution_count": 4,
   "metadata": {},
   "outputs": [
    {
     "name": "stdout",
     "output_type": "stream",
     "text": [
      "Zoe's Kitchen, Inc. (NYSE:ZOES)\n",
      "Q2 2015 Earnings Call\n",
      "August 27, 2015 5:00 pm ET\n",
      "Executives\n",
      "James Besch - CFO, Vice President-Accounting & Controller\n",
      "Kevin Miles - President, Chief Executive Officer & Director\n",
      "Analysts\n",
      "Karen F. Short - Deutsche Bank Securities, Inc.\n",
      "Andrew Marc Barish - Jefferies LLC\n",
      "Nicole M. Miller Regan - Piper Jaffray & Co (Broker)\n",
      "Will Slabaugh - Stephens, Inc.\n",
      "Jason West - Credit Suisse Securities (NYSE:USA) LLC (Broker)\n",
      "Sharon M. Zackfia - William Blair & Co. LLC\n",
      "David E. Tarantino - Robert W. Baird & Co., Inc. (Broker)\n",
      "Paul Westra - Stifel, Nicolaus & Co., Inc.\n",
      "Stephen Anderson - Maxim Group\n",
      "Operator\n",
      "Good day, ladies and gentlemen, and thank you for standing by. Welcome to the Zoe's Kitchen Second Quarter 2015 Earnings Conference Call. At this time, all participants have been placed in a listen-only mode, and the lines will be open for your questions following the presentation. Please note that this conference is being recorded today, August 27, 2015.\n",
      "On the ca\n"
     ]
    }
   ],
   "source": [
    "print(data[0][:1000])"
   ]
  },
  {
   "cell_type": "markdown",
   "metadata": {},
   "source": [
    "The list `data` contains 10 entries. Each entry is the full-text of  a company's [earning call](https://en.wikipedia.org/wiki/Earnings_call)\n",
    "\n",
    "The company's ticker and stock exchange are listed in the first few lines in each earning call. Using regular expressions, extract the tickers and stock exchange symbols for all the companies. \n",
    "\n",
    "Note that an earning call may contain tickers of other companies. We want to exclude them. In other words, we want to first ticker / stock exchange listed in each earning call"
   ]
  },
  {
   "cell_type": "code",
   "execution_count": null,
   "metadata": {},
   "outputs": [],
   "source": []
  },
  {
   "cell_type": "markdown",
   "metadata": {},
   "source": [
    "How about extracting all numbers that start with `$`"
   ]
  },
  {
   "cell_type": "code",
   "execution_count": null,
   "metadata": {},
   "outputs": [],
   "source": []
  }
 ],
 "metadata": {
  "kernelspec": {
   "display_name": "Python 3",
   "language": "python",
   "name": "python3"
  },
  "language_info": {
   "codemirror_mode": {
    "name": "ipython",
    "version": 3
   },
   "file_extension": ".py",
   "mimetype": "text/x-python",
   "name": "python",
   "nbconvert_exporter": "python",
   "pygments_lexer": "ipython3",
   "version": "3.7.3"
  }
 },
 "nbformat": 4,
 "nbformat_minor": 2
}
