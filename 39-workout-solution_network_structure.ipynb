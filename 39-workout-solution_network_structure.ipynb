{
 "cells": [
  {
   "cell_type": "markdown",
   "metadata": {},
   "source": [
    "The following picture shows the network of Florentine families in early 15th century\n",
    "\n",
    "![Florentine families](https://datarepository.wolframcloud.com/resources/images/3ea/3ea30ebd-fcac-4105-b886-b6ddd63dcbd3-io-1-o.en.gif)\n",
    "\n",
    "A node represents a family. An edge means there is a marriage relationship between the two families\n",
    "\n",
    "- Import the network from the file `data/florentine.graphml`\n",
    "- Create a data frame in which the index is the family name and the colums are the degree, clustering, closeness centrality, betweeness centrality, and page rank of each family\n",
    "- Which family ranks first in each criteria"
   ]
  },
  {
   "cell_type": "code",
   "execution_count": 9,
   "metadata": {},
   "outputs": [],
   "source": [
    "import networkx as nx\n",
    "import pandas as pd\n",
    "%matplotlib inline"
   ]
  },
  {
   "cell_type": "code",
   "execution_count": 2,
   "metadata": {},
   "outputs": [],
   "source": [
    "net = nx.read_graphml('data/florentine.graphml')"
   ]
  },
  {
   "cell_type": "code",
   "execution_count": 4,
   "metadata": {},
   "outputs": [
    {
     "data": {
      "text/plain": [
       "DegreeView({'Acciaiuoli': 1, 'Medici': 6, 'Castellani': 3, 'Peruzzi': 3, 'Strozzi': 4, 'Barbadori': 2, 'Ridolfi': 3, 'Tornabuoni': 3, 'Albizzi': 3, 'Salviati': 2, 'Pazzi': 1, 'Bischeri': 3, 'Guadagni': 4, 'Ginori': 1, 'Lamberteschi': 1})"
      ]
     },
     "execution_count": 4,
     "metadata": {},
     "output_type": "execute_result"
    }
   ],
   "source": [
    "degree = nx.degree(net)\n",
    "degree"
   ]
  },
  {
   "cell_type": "code",
   "execution_count": 5,
   "metadata": {},
   "outputs": [
    {
     "data": {
      "text/plain": [
       "{'Acciaiuoli': 0,\n",
       " 'Medici': 0.06666666666666667,\n",
       " 'Castellani': 0.3333333333333333,\n",
       " 'Peruzzi': 0.6666666666666666,\n",
       " 'Strozzi': 0.3333333333333333,\n",
       " 'Barbadori': 0,\n",
       " 'Ridolfi': 0.3333333333333333,\n",
       " 'Tornabuoni': 0.3333333333333333,\n",
       " 'Albizzi': 0,\n",
       " 'Salviati': 0,\n",
       " 'Pazzi': 0,\n",
       " 'Bischeri': 0.3333333333333333,\n",
       " 'Guadagni': 0,\n",
       " 'Ginori': 0,\n",
       " 'Lamberteschi': 0}"
      ]
     },
     "execution_count": 5,
     "metadata": {},
     "output_type": "execute_result"
    }
   ],
   "source": [
    "clustering = nx.clustering(net)\n",
    "clustering"
   ]
  },
  {
   "cell_type": "code",
   "execution_count": 6,
   "metadata": {},
   "outputs": [
    {
     "data": {
      "text/plain": [
       "{'Acciaiuoli': 0.3684210526315789,\n",
       " 'Medici': 0.56,\n",
       " 'Castellani': 0.3888888888888889,\n",
       " 'Peruzzi': 0.3684210526315789,\n",
       " 'Strozzi': 0.4375,\n",
       " 'Barbadori': 0.4375,\n",
       " 'Ridolfi': 0.5,\n",
       " 'Tornabuoni': 0.4827586206896552,\n",
       " 'Albizzi': 0.4827586206896552,\n",
       " 'Salviati': 0.3888888888888889,\n",
       " 'Pazzi': 0.2857142857142857,\n",
       " 'Bischeri': 0.4,\n",
       " 'Guadagni': 0.4666666666666667,\n",
       " 'Ginori': 0.3333333333333333,\n",
       " 'Lamberteschi': 0.32558139534883723}"
      ]
     },
     "execution_count": 6,
     "metadata": {},
     "output_type": "execute_result"
    }
   ],
   "source": [
    "closeness = nx.closeness_centrality(net)\n",
    "closeness"
   ]
  },
  {
   "cell_type": "code",
   "execution_count": 7,
   "metadata": {},
   "outputs": [
    {
     "data": {
      "text/plain": [
       "{'Acciaiuoli': 0.0,\n",
       " 'Medici': 0.521978021978022,\n",
       " 'Castellani': 0.05494505494505495,\n",
       " 'Peruzzi': 0.02197802197802198,\n",
       " 'Strozzi': 0.10256410256410257,\n",
       " 'Barbadori': 0.09340659340659341,\n",
       " 'Ridolfi': 0.11355311355311355,\n",
       " 'Tornabuoni': 0.09157509157509157,\n",
       " 'Albizzi': 0.21245421245421245,\n",
       " 'Salviati': 0.14285714285714288,\n",
       " 'Pazzi': 0.0,\n",
       " 'Bischeri': 0.1043956043956044,\n",
       " 'Guadagni': 0.2545787545787546,\n",
       " 'Ginori': 0.0,\n",
       " 'Lamberteschi': 0.0}"
      ]
     },
     "execution_count": 7,
     "metadata": {},
     "output_type": "execute_result"
    }
   ],
   "source": [
    "betweenness = nx.betweenness_centrality(net)\n",
    "betweenness"
   ]
  },
  {
   "cell_type": "code",
   "execution_count": 8,
   "metadata": {},
   "outputs": [
    {
     "data": {
      "text/plain": [
       "{'Acciaiuoli': 0.03065721480230426,\n",
       " 'Medici': 0.14581844065218275,\n",
       " 'Castellani': 0.06933028447008721,\n",
       " 'Peruzzi': 0.06787531774407572,\n",
       " 'Strozzi': 0.08809849082725613,\n",
       " 'Barbadori': 0.050300712744633685,\n",
       " 'Ridolfi': 0.069574170990148,\n",
       " 'Tornabuoni': 0.07127928374676082,\n",
       " 'Albizzi': 0.079121502380729,\n",
       " 'Salviati': 0.061302640987807314,\n",
       " 'Pazzi': 0.036054222996734095,\n",
       " 'Bischeri': 0.0688615381141211,\n",
       " 'Guadagni': 0.09839859717156552,\n",
       " 'Ginori': 0.032418257716596434,\n",
       " 'Lamberteschi': 0.03090932465499793}"
      ]
     },
     "execution_count": 8,
     "metadata": {},
     "output_type": "execute_result"
    }
   ],
   "source": [
    "pagerank = nx.pagerank(net)\n",
    "pagerank"
   ]
  },
  {
   "cell_type": "code",
   "execution_count": 17,
   "metadata": {},
   "outputs": [],
   "source": [
    "df=pd.DataFrame({'degree':dict(degree), 'clustering':clustering, \n",
    "              'closeness':closeness, 'betweenness':betweenness,\n",
    "              'pagerank':pagerank})"
   ]
  },
  {
   "cell_type": "code",
   "execution_count": 21,
   "metadata": {},
   "outputs": [
    {
     "name": "stdout",
     "output_type": "stream",
     "text": [
      "degree Medici\n",
      "clustering Peruzzi\n",
      "closeness Medici\n",
      "betweenness Medici\n",
      "pagerank Medici\n"
     ]
    }
   ],
   "source": [
    "for col in df.columns:\n",
    "    print(col, df.sort_values(col, ascending=False).index[0])"
   ]
  },
  {
   "cell_type": "code",
   "execution_count": null,
   "metadata": {},
   "outputs": [],
   "source": []
  }
 ],
 "metadata": {
  "kernelspec": {
   "display_name": "Python 3",
   "language": "python",
   "name": "python3"
  },
  "language_info": {
   "codemirror_mode": {
    "name": "ipython",
    "version": 3
   },
   "file_extension": ".py",
   "mimetype": "text/x-python",
   "name": "python",
   "nbconvert_exporter": "python",
   "pygments_lexer": "ipython3",
   "version": "3.7.6"
  }
 },
 "nbformat": 4,
 "nbformat_minor": 2
}
