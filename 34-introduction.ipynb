{
 "cells": [
  {
   "cell_type": "code",
   "execution_count": 9,
   "metadata": {},
   "outputs": [],
   "source": [
    "#uncomment and run to install textblob\n",
    "#import sys\n",
    "#!{sys.executable} -m pip install textblob\n",
    "#!{sys.executable} -m textblob.download_corpora"
   ]
  },
  {
   "cell_type": "code",
   "execution_count": 10,
   "metadata": {
    "slideshow": {
     "slide_type": "slide"
    }
   },
   "outputs": [],
   "source": [
    "import pandas as pd\n",
    "from textblob import TextBlob"
   ]
  },
  {
   "cell_type": "markdown",
   "metadata": {
    "slideshow": {
     "slide_type": "slide"
    }
   },
   "source": [
    "# Sentiment analysis"
   ]
  },
  {
   "cell_type": "code",
   "execution_count": 11,
   "metadata": {
    "slideshow": {
     "slide_type": "slide"
    }
   },
   "outputs": [],
   "source": [
    "song = \"\"\"It's great to learn Python. But it's hard to learn it well.\n",
    "Everything starts hard, but then becomes easy. So you should be happy,\n",
    "because it all ends soon\"\"\""
   ]
  },
  {
   "cell_type": "code",
   "execution_count": 12,
   "metadata": {},
   "outputs": [
    {
     "name": "stdout",
     "output_type": "stream",
     "text": [
      "It's great to learn Python. But it's hard to learn it well.\n",
      "Everything starts hard, but then becomes easy. So you should be happy,\n",
      "because it all ends soon\n"
     ]
    }
   ],
   "source": [
    "print(song)"
   ]
  },
  {
   "cell_type": "code",
   "execution_count": 13,
   "metadata": {
    "slideshow": {
     "slide_type": "slide"
    }
   },
   "outputs": [],
   "source": [
    "blob = TextBlob(song)"
   ]
  },
  {
   "cell_type": "code",
   "execution_count": 14,
   "metadata": {},
   "outputs": [
    {
     "data": {
      "text/plain": [
       "Sentiment(polarity=0.29, subjectivity=0.7333333333333333)"
      ]
     },
     "execution_count": 14,
     "metadata": {},
     "output_type": "execute_result"
    }
   ],
   "source": [
    "blob.sentiment"
   ]
  },
  {
   "cell_type": "code",
   "execution_count": 15,
   "metadata": {
    "slideshow": {
     "slide_type": "slide"
    }
   },
   "outputs": [
    {
     "name": "stdout",
     "output_type": "stream",
     "text": [
      "It's great to learn Python. Sentiment(polarity=0.8, subjectivity=0.75)\n",
      "But it's hard to learn it well. Sentiment(polarity=-0.2916666666666667, subjectivity=0.5416666666666666)\n",
      "Everything starts hard, but then becomes easy. Sentiment(polarity=0.07083333333333333, subjectivity=0.6875)\n",
      "So you should be happy,\n",
      "because it all ends soon Sentiment(polarity=0.8, subjectivity=1.0)\n"
     ]
    }
   ],
   "source": [
    "for sent in blob.sentences:\n",
    "    print(sent, sent.sentiment)"
   ]
  },
  {
   "cell_type": "code",
   "execution_count": 9,
   "metadata": {
    "slideshow": {
     "slide_type": "slide"
    }
   },
   "outputs": [
    {
     "data": {
      "text/plain": [
       "Sentiment(polarity=0.29, subjectivity=0.7333333333333333)"
      ]
     },
     "execution_count": 9,
     "metadata": {},
     "output_type": "execute_result"
    }
   ],
   "source": [
    "blob.sentiment"
   ]
  },
  {
   "cell_type": "markdown",
   "metadata": {
    "slideshow": {
     "slide_type": "slide"
    }
   },
   "source": [
    "# Named entity extraction"
   ]
  },
  {
   "cell_type": "markdown",
   "metadata": {
    "slideshow": {
     "slide_type": "slide"
    }
   },
   "source": [
    "[List of all named entities](https://spacy.io/api/annotation#named-entities)"
   ]
  },
  {
   "cell_type": "code",
   "execution_count": 17,
   "metadata": {},
   "outputs": [],
   "source": [
    "#uncomment and run to install spacy\n",
    "#import sys\n",
    "#!{sys.executable} -m pip install spacy\n",
    "#!{sys.executable} -m spacy download en"
   ]
  },
  {
   "cell_type": "code",
   "execution_count": 21,
   "metadata": {
    "slideshow": {
     "slide_type": "slide"
    }
   },
   "outputs": [],
   "source": [
    "import pandas as pd\n",
    "import spacy"
   ]
  },
  {
   "cell_type": "code",
   "execution_count": 22,
   "metadata": {
    "slideshow": {
     "slide_type": "slide"
    }
   },
   "outputs": [],
   "source": [
    "#import en_core_web_sm\n",
    "#nlp = en_core_web_sm.load()\n",
    "nlp = spacy.load('en_core_web_sm')"
   ]
  },
  {
   "cell_type": "code",
   "execution_count": 23,
   "metadata": {},
   "outputs": [],
   "source": [
    "doc = nlp(\"November 3rd 2019. In the Kingdom of Python, Hani Safadi is king\")"
   ]
  },
  {
   "cell_type": "code",
   "execution_count": 25,
   "metadata": {},
   "outputs": [
    {
     "name": "stdout",
     "output_type": "stream",
     "text": [
      "November 3rd 2019 DATE\n",
      "the Kingdom of Python GPE\n",
      "Hani Safadi PERSON\n"
     ]
    }
   ],
   "source": [
    "for ent in doc.ents:\n",
    "    print(ent.text, ent.label_)"
   ]
  },
  {
   "cell_type": "code",
   "execution_count": 26,
   "metadata": {
    "slideshow": {
     "slide_type": "slide"
    }
   },
   "outputs": [],
   "source": [
    "article = \"\"\"Moulton says Biden was wrong to vote in favor of Iraq War resolution in 2002\n",
    "\n",
    "Updated 1:05 PM ET, Sun June 2, 2019\n",
    "Washington (CNN) - Former Vice President Joe Biden was wrong to vote in favor of authorizing the use of military force against Iraq in 2002 when he was a senator, Democratic presidential candidate and Iraq War veteran Seth Moulton said in an interview that aired Sunday.\n",
    "\n",
    "\"It was a mistake. Because we should've been a lot more careful about going into Iraq. We should have questioned the intelligence. We should have made sure that we exhausted every opportunity before we put young American lives in danger,\" Moulton, who represents Massachusetts in the House, told CNN's Jake Tapper on \"State of the Union\" when pressed about Biden's decision to vote in favor of the US going to war in Iraq.\n",
    "\n",
    "Biden, who is also a Democratic presidential candidate, has faced criticism for his support of the war, though he later became a vocal critic of the conflict. In 2002, then a senator from Delaware, Biden voted in favor of the Iraq War resolution, which authorized President George W. Bush to attack Iraq if Saddam Hussein refused to give up weapons of mass destruction as required by UN resolutions. The Senate passed the resolution in a 77-23 vote, with support from both sides of the aisle.\n",
    "\n",
    "The intelligence used by the Bush administration that claimed Iraq possessed weapons of mass destruction has since been discredited, and support for the war has declined in the years since it began.\n",
    "\n",
    "CNN has reached out to the Biden campaign for comment.\n",
    "\n",
    "Moulton is not alone in his criticism of Biden's support for the Iraq War resolution. Vermont Sen. Bernie Sanders, who is also a 2020 presidential candidate, frequently draws a contrast between himself and the former vice president by noting that he voted against the resolution in 2002.\n",
    "\n",
    "Moulton told Tapper that he respects Biden, calling him \"a mentor and a friend,\" but added that he thinks \"it's time for the generation that fought in Iraq and Afghanistan to step in for the generation that sent us there.\" \"\"\""
   ]
  },
  {
   "cell_type": "code",
   "execution_count": 27,
   "metadata": {
    "slideshow": {
     "slide_type": "slide"
    }
   },
   "outputs": [],
   "source": [
    "doc = nlp(article)"
   ]
  },
  {
   "cell_type": "code",
   "execution_count": 28,
   "metadata": {
    "slideshow": {
     "slide_type": "slide"
    }
   },
   "outputs": [
    {
     "name": "stdout",
     "output_type": "stream",
     "text": [
      "Moulton ORG\n",
      "Biden PERSON\n",
      "Iraq War EVENT\n",
      "2002 DATE\n",
      "1:05 PM TIME\n",
      "Sun June 2, 2019 ORG\n",
      "Washington GPE\n",
      "CNN ORG\n",
      "Joe Biden PERSON\n",
      "Iraq GPE\n",
      "2002 DATE\n",
      "Democratic NORP\n",
      "Iraq War ORG\n",
      "Seth Moulton PERSON\n",
      "Sunday DATE\n",
      "Iraq GPE\n",
      "American NORP\n",
      "Moulton PERSON\n",
      "Massachusetts GPE\n",
      "House ORG\n",
      "CNN ORG\n",
      "Jake Tapper PERSON\n",
      "State of the Union WORK_OF_ART\n",
      "Biden PERSON\n",
      "US GPE\n",
      "Iraq GPE\n",
      "Democratic NORP\n",
      "2002 DATE\n",
      "Delaware GPE\n",
      "Biden GPE\n",
      "the Iraq War EVENT\n",
      "George W. Bush PERSON\n",
      "Iraq GPE\n",
      "Saddam Hussein PERSON\n",
      "UN ORG\n",
      "Senate ORG\n",
      "77 CARDINAL\n",
      "Bush PERSON\n",
      "Iraq GPE\n",
      "the years DATE\n",
      "CNN ORG\n",
      "Biden NORP\n",
      "Moulton PERSON\n",
      "Biden PERSON\n",
      "the Iraq War EVENT\n",
      "Vermont GPE\n",
      "Bernie Sanders PERSON\n",
      "2020 CARDINAL\n",
      "2002 DATE\n",
      "Moulton PERSON\n",
      "Tapper PERSON\n",
      "Biden LOC\n",
      "Iraq GPE\n",
      "Afghanistan GPE\n"
     ]
    }
   ],
   "source": [
    "for ent in doc.ents:\n",
    "    print(ent.text, ent.label_)"
   ]
  },
  {
   "cell_type": "code",
   "execution_count": null,
   "metadata": {},
   "outputs": [],
   "source": []
  }
 ],
 "metadata": {
  "kernelspec": {
   "display_name": "Python 3",
   "language": "python",
   "name": "python3"
  },
  "language_info": {
   "codemirror_mode": {
    "name": "ipython",
    "version": 3
   },
   "file_extension": ".py",
   "mimetype": "text/x-python",
   "name": "python",
   "nbconvert_exporter": "python",
   "pygments_lexer": "ipython3",
   "version": "3.7.6"
  }
 },
 "nbformat": 4,
 "nbformat_minor": 2
}
