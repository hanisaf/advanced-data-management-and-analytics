{
 "cells": [
  {
   "cell_type": "code",
   "execution_count": 1,
   "metadata": {},
   "outputs": [],
   "source": [
    "import pandas as pd"
   ]
  },
  {
   "cell_type": "markdown",
   "metadata": {},
   "source": [
    "The data frames `Customers`, `Employees`, `Offices`, `OrderDetails`, `Orders`, `Payments`, `ProductLines`, and `Products` contain data of the corresponding tables in the [ClassicModels database](https://www.richardtwatson.com/dm6e/Reader/ClassicModels.html).\n",
    "\n",
    "The entity relationship diagram is shown here ![ERD](figures/ClassicModels.png)"
   ]
  },
  {
   "cell_type": "markdown",
   "metadata": {},
   "source": [
    "- Report the total payments by date\n",
    "- Report the total payments by year\n",
    "- Report the total payments by month\n",
    "- Report the total payments by year-month\n",
    "- Report the total payments by year=quarter\n",
    "- Report the total payments in a bi-yearly basis (each six months in each year)\n",
    "\n",
    "*HINT* Convert `paymentDate` to a timestamp. Then you can extract year, month, and quarter using its properties. e.g.,"
   ]
  },
  {
   "cell_type": "code",
   "execution_count": 3,
   "metadata": {},
   "outputs": [
    {
     "name": "stdout",
     "output_type": "stream",
     "text": [
      "2019 10 6\n"
     ]
    }
   ],
   "source": [
    "text = \"6 October 2019\"\n",
    "ts = pd.to_datetime(text)\n",
    "print(ts.year, ts.month, ts.day)"
   ]
  },
  {
   "cell_type": "code",
   "execution_count": 17,
   "metadata": {},
   "outputs": [],
   "source": [
    "Customers = pd.read_csv('data/ClassicModels_Customers.csv', sep=';')\n",
    "Employees = pd.read_csv('data/ClassicModels_Employees.csv', sep=';')\n",
    "Offices = pd.read_csv('data/ClassicModels_Offices.csv', sep=';')\n",
    "OrderDetails = pd.read_csv('data/ClassicModels_OrderDetails.csv', sep=';')\n",
    "Orders = pd.read_csv('data/ClassicModels_Orders.csv', sep=';')\n",
    "Payments = pd.read_csv('data/ClassicModels_Payments.csv', sep=';')\n",
    "ProductLines = pd.read_csv('data/ClassicModels_ProductLines.csv', sep=';')\n",
    "Products = pd.read_csv('data/ClassicModels_Products.csv', sep=';')"
   ]
  },
  {
   "cell_type": "code",
   "execution_count": null,
   "metadata": {},
   "outputs": [],
   "source": []
  }
 ],
 "metadata": {
  "kernelspec": {
   "display_name": "Python 3",
   "language": "python",
   "name": "python3"
  },
  "language_info": {
   "codemirror_mode": {
    "name": "ipython",
    "version": 3
   },
   "file_extension": ".py",
   "mimetype": "text/x-python",
   "name": "python",
   "nbconvert_exporter": "python",
   "pygments_lexer": "ipython3",
   "version": "3.7.1"
  }
 },
 "nbformat": 4,
 "nbformat_minor": 2
}
