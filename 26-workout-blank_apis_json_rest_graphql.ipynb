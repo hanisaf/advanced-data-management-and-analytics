{
 "cells": [
  {
   "cell_type": "code",
   "execution_count": 1,
   "metadata": {},
   "outputs": [],
   "source": [
    "import requests\n",
    "import pandas as pd\n",
    "import json"
   ]
  },
  {
   "cell_type": "markdown",
   "metadata": {},
   "source": [
    "[OECD](https://en.wikipedia.org/wiki/OECD) countries are:\n",
    "- Australia\n",
    "- Austria\n",
    "- Belgium\n",
    "- Canada\n",
    "- Chile\n",
    "- Czech Republic\n",
    "- Denmark\n",
    "- Estonia\n",
    "- Finland\n",
    "- France\n",
    "- Germany\n",
    "- Greece\n",
    "- Hungary\n",
    "- Iceland\n",
    "- Ireland\n",
    "- Israel\n",
    "- Italy\n",
    "- Japan\n",
    "- Latvia\n",
    "- Lithuania\n",
    "- Luxembourg\n",
    "- Mexico\n",
    "- Netherlands\n",
    "- New Zealand\n",
    "- Norway\n",
    "- Poland\n",
    "- Portugal\n",
    "- Slovenia\n",
    "- Spain\n",
    "- Sweden\n",
    "- Switzerland\n",
    "- Turkey\n",
    "- United Kingdom\n",
    "- United States\n",
    "\n",
    "Using [World Bank Open Data](https://data.worldbank.org)\n",
    "- Rank these countries based on the health expenditure as % of GDP in 2016 \n",
    "- Rank these countries based on the life expectany at birth\n",
    "- Which countries spend a lot on healthcare but lag in terms of life expectancy?"
   ]
  },
  {
   "cell_type": "code",
   "execution_count": null,
   "metadata": {},
   "outputs": [],
   "source": []
  }
 ],
 "metadata": {
  "kernelspec": {
   "display_name": "Python 3",
   "language": "python",
   "name": "python3"
  },
  "language_info": {
   "codemirror_mode": {
    "name": "ipython",
    "version": 3
   },
   "file_extension": ".py",
   "mimetype": "text/x-python",
   "name": "python",
   "nbconvert_exporter": "python",
   "pygments_lexer": "ipython3",
   "version": "3.7.3"
  }
 },
 "nbformat": 4,
 "nbformat_minor": 2
}
