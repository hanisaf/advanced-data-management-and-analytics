{
 "cells": [
  {
   "cell_type": "markdown",
   "metadata": {},
   "source": [
    "The purpose of this exercise is to analyze [the political books network](http://www-personal.umich.edu/~mejn/netdata)\n",
    "\n",
    "L. A. Adamic and N. Glance, \"The political blogosphere and the 2004 US Election\", in Proceedings of the WWW-2005 Workshop on the Weblogging Ecosystem (2005).\n"
   ]
  },
  {
   "cell_type": "code",
   "execution_count": 1,
   "metadata": {},
   "outputs": [],
   "source": [
    "import networkx as nx\n",
    "from networkx.algorithms import community\n",
    "import pandas as pd\n",
    "%matplotlib inline\n"
   ]
  },
  {
   "cell_type": "code",
   "execution_count": 2,
   "metadata": {},
   "outputs": [],
   "source": [
    "# Read the network data\n",
    "net = nx.read_gml('data/polbooks.gml')"
   ]
  },
  {
   "cell_type": "code",
   "execution_count": 3,
   "metadata": {},
   "outputs": [
    {
     "data": {
      "text/plain": [
       "NodeView(('1000 Years for Revenge', 'Bush vs. the Beltway', \"Charlie Wilson's War\", 'Losing Bin Laden', 'Sleeping With the Devil', 'The Man Who Warned America', 'Why America Slept', 'Ghost Wars', 'A National Party No More', 'Bush Country', 'Dereliction of Duty', 'Legacy', 'Off with Their Heads', 'Persecution', \"Rumsfeld's War\", 'Breakdown', 'Betrayal', 'Shut Up and Sing', 'Meant To Be', 'The Right Man', 'Ten Minutes from Normal', \"Hillary's Scheme\", 'The French Betrayal of America', 'Tales from the Left Coast', 'Hating America', 'The Third Terrorist', 'Endgame', 'Spin Sisters', \"All the Shah's Men\", 'Dangerous Dimplomacy', 'The Price of Loyalty', 'House of Bush, House of Saud', 'The Death of Right and Wrong', 'Useful Idiots', \"The O'Reilly Factor\", 'Let Freedom Ring', 'Those Who Trespass', 'Bias', 'Slander', 'The Savage Nation', 'Deliver Us from Evil', 'Give Me a Break', 'The Enemy Within', 'The Real America', \"Who's Looking Out for You?\", 'The Official Handbook Vast Right Wing Conspiracy', 'Power Plays', 'Arrogance', 'The Perfect Wife', 'The Bushes', 'Things Worth Fighting For', 'Surprise, Security, the American Experience', 'Allies', 'Why Courage Matters', 'Hollywood Interrupted', 'Fighting Back', 'We Will Prevail', 'The Faith of George W Bush', 'Rise of the Vulcans', 'Downsize This!', 'Stupid White Men', 'Rush Limbaugh Is a Big Fat Idiot', 'The Best Democracy Money Can Buy', 'The Culture of Fear', 'America Unbound', 'The Choice', 'The Great Unraveling', 'Rogue Nation', 'Soft Power', 'Colossus', 'The Sorrows of Empire', 'Against All Enemies', 'American Dynasty', 'Big Lies', 'The Lies of George W. Bush', 'Worse Than Watergate', 'Plan of Attack', 'Bush at War', 'The New Pearl Harbor', 'Bushwomen', 'The Bubble of American Supremacy', 'Living History', 'The Politics of Truth', 'Fanatics and Fools', 'Bushwhacked', 'Disarming Iraq', 'Lies and the Lying Liars Who Tell Them', \"MoveOn's 50 Ways to Love Your Country\", 'The Buying of the President 2004', 'Perfectly Legal', 'Hegemony or Survival', 'The Exception to the Rulers', 'Freethinkers', 'Had Enough?', \"It's Still the Economy, Stupid!\", \"We're Right They're Wrong\", 'What Liberal Media?', 'The Clinton Wars', 'Weapons of Mass Deception', \"Dude, Where's My Country?\", 'Thieves in High Places', 'Shrub', 'Buck Up Suck Up', 'The Future of Freedom', 'Empire'))"
      ]
     },
     "execution_count": 3,
     "metadata": {},
     "output_type": "execute_result"
    }
   ],
   "source": [
    "net.nodes"
   ]
  },
  {
   "cell_type": "code",
   "execution_count": 4,
   "metadata": {},
   "outputs": [
    {
     "data": {
      "text/plain": [
       "EdgeView([('1000 Years for Revenge', 'Bush vs. the Beltway'), ('1000 Years for Revenge', \"Charlie Wilson's War\"), ('1000 Years for Revenge', 'Losing Bin Laden'), ('1000 Years for Revenge', 'Sleeping With the Devil'), ('1000 Years for Revenge', 'The Man Who Warned America'), ('1000 Years for Revenge', 'Why America Slept'), ('Bush vs. the Beltway', 'Losing Bin Laden'), ('Bush vs. the Beltway', 'The Man Who Warned America'), ('Bush vs. the Beltway', 'Why America Slept'), (\"Charlie Wilson's War\", 'Sleeping With the Devil'), (\"Charlie Wilson's War\", 'The Man Who Warned America'), (\"Charlie Wilson's War\", 'Ghost Wars'), ('Losing Bin Laden', 'The Man Who Warned America'), ('Losing Bin Laden', 'A National Party No More'), ('Losing Bin Laden', 'Bush Country'), ('Losing Bin Laden', 'Dereliction of Duty'), ('Losing Bin Laden', 'Legacy'), ('Losing Bin Laden', 'Off with Their Heads'), ('Losing Bin Laden', 'Persecution'), ('Losing Bin Laden', \"Rumsfeld's War\"), ('Losing Bin Laden', 'Breakdown'), ('Losing Bin Laden', 'Betrayal'), ('Losing Bin Laden', 'Shut Up and Sing'), ('Losing Bin Laden', 'Meant To Be'), ('Losing Bin Laden', 'The Right Man'), ('Losing Bin Laden', 'Ten Minutes from Normal'), ('Losing Bin Laden', \"Hillary's Scheme\"), ('Losing Bin Laden', 'The French Betrayal of America'), ('Losing Bin Laden', 'Tales from the Left Coast'), ('Losing Bin Laden', 'Hating America'), ('Losing Bin Laden', 'The Third Terrorist'), ('Losing Bin Laden', 'Endgame'), ('Losing Bin Laden', 'Spin Sisters'), ('Sleeping With the Devil', 'The Man Who Warned America'), ('Sleeping With the Devil', 'Why America Slept'), ('Sleeping With the Devil', \"All the Shah's Men\"), ('Sleeping With the Devil', 'Dangerous Dimplomacy'), ('Sleeping With the Devil', 'The Price of Loyalty'), ('Sleeping With the Devil', 'House of Bush, House of Saud'), ('The Man Who Warned America', 'Why America Slept'), ('The Man Who Warned America', 'Ghost Wars'), ('Why America Slept', 'Ghost Wars'), ('Why America Slept', 'Dereliction of Duty'), ('Why America Slept', 'Off with Their Heads'), ('Why America Slept', 'Meant To Be'), ('Why America Slept', 'The French Betrayal of America'), ('Why America Slept', 'The Third Terrorist'), ('Why America Slept', 'Dangerous Dimplomacy'), ('Ghost Wars', \"Rumsfeld's War\"), ('Ghost Wars', 'The Price of Loyalty'), ('Ghost Wars', 'Rise of the Vulcans'), ('Ghost Wars', 'Against All Enemies'), ('Ghost Wars', 'Disarming Iraq'), ('A National Party No More', 'Bush Country'), ('A National Party No More', 'Dereliction of Duty'), ('A National Party No More', 'Legacy'), ('A National Party No More', 'Off with Their Heads'), ('A National Party No More', 'Persecution'), ('A National Party No More', \"Rumsfeld's War\"), ('A National Party No More', 'Ten Minutes from Normal'), ('A National Party No More', \"Hillary's Scheme\"), ('A National Party No More', 'The French Betrayal of America'), ('A National Party No More', 'Tales from the Left Coast'), ('A National Party No More', 'Hating America'), ('A National Party No More', 'Endgame'), ('A National Party No More', 'Spin Sisters'), ('A National Party No More', 'The Death of Right and Wrong'), ('A National Party No More', 'Useful Idiots'), ('A National Party No More', 'Let Freedom Ring'), ('A National Party No More', 'Bias'), ('A National Party No More', 'Deliver Us from Evil'), ('A National Party No More', 'Give Me a Break'), ('A National Party No More', 'The Enemy Within'), ('A National Party No More', 'The Real America'), ('A National Party No More', \"Who's Looking Out for You?\"), ('A National Party No More', 'The Official Handbook Vast Right Wing Conspiracy'), ('A National Party No More', 'Power Plays'), ('Bush Country', 'Legacy'), ('Bush Country', 'Off with Their Heads'), ('Bush Country', \"Rumsfeld's War\"), ('Bush Country', 'Ten Minutes from Normal'), ('Bush Country', 'Hating America'), ('Bush Country', 'Spin Sisters'), ('Bush Country', 'Give Me a Break'), ('Bush Country', 'The Official Handbook Vast Right Wing Conspiracy'), ('Bush Country', 'Arrogance'), ('Bush Country', 'The Perfect Wife'), ('Bush Country', 'The Bushes'), ('Bush Country', 'Things Worth Fighting For'), ('Bush Country', 'Surprise, Security, the American Experience'), ('Bush Country', 'Allies'), ('Dereliction of Duty', 'Legacy'), ('Dereliction of Duty', 'Off with Their Heads'), ('Dereliction of Duty', 'Breakdown'), ('Dereliction of Duty', 'Betrayal'), ('Dereliction of Duty', 'The Right Man'), ('Dereliction of Duty', \"Hillary's Scheme\"), ('Dereliction of Duty', 'Useful Idiots'), ('Dereliction of Duty', 'Let Freedom Ring'), ('Dereliction of Duty', 'Bias'), ('Dereliction of Duty', 'Slander'), ('Dereliction of Duty', 'The Savage Nation'), ('Dereliction of Duty', 'Fighting Back'), ('Legacy', 'Off with Their Heads'), ('Legacy', 'Persecution'), ('Legacy', \"Rumsfeld's War\"), ('Legacy', 'Shut Up and Sing'), ('Legacy', 'Ten Minutes from Normal'), ('Legacy', \"Hillary's Scheme\"), ('Legacy', 'The French Betrayal of America'), ('Legacy', 'Endgame'), ('Legacy', 'Spin Sisters'), ('Legacy', 'Dangerous Dimplomacy'), ('Legacy', 'The Official Handbook Vast Right Wing Conspiracy'), ('Legacy', 'Arrogance'), ('Legacy', 'Things Worth Fighting For'), ('Legacy', 'We Will Prevail'), ('Off with Their Heads', 'Persecution'), ('Off with Their Heads', \"Rumsfeld's War\"), ('Off with Their Heads', 'Breakdown'), ('Off with Their Heads', 'Shut Up and Sing'), ('Off with Their Heads', 'Meant To Be'), ('Off with Their Heads', 'Tales from the Left Coast'), ('Off with Their Heads', 'Hating America'), ('Off with Their Heads', 'The Death of Right and Wrong'), ('Off with Their Heads', 'Useful Idiots'), ('Off with Their Heads', 'Those Who Trespass'), ('Off with Their Heads', 'Slander'), ('Off with Their Heads', 'The Savage Nation'), ('Off with Their Heads', 'Deliver Us from Evil'), ('Off with Their Heads', 'Give Me a Break'), ('Off with Their Heads', \"Who's Looking Out for You?\"), ('Off with Their Heads', 'Power Plays'), ('Off with Their Heads', 'Arrogance'), ('Off with Their Heads', 'Hollywood Interrupted'), ('Off with Their Heads', 'Fighting Back'), ('Persecution', 'Shut Up and Sing'), ('Persecution', 'Dangerous Dimplomacy'), ('Persecution', 'The Death of Right and Wrong'), ('Persecution', 'Deliver Us from Evil'), ('Persecution', 'The Enemy Within'), ('Persecution', 'The Real America'), ('Persecution', \"Who's Looking Out for You?\"), ('Persecution', 'Arrogance'), ('Persecution', 'The Faith of George W Bush'), (\"Rumsfeld's War\", 'The Third Terrorist'), (\"Rumsfeld's War\", 'Endgame'), (\"Rumsfeld's War\", 'Rise of the Vulcans'), ('Breakdown', 'Betrayal'), ('Breakdown', 'Fighting Back'), ('Shut Up and Sing', 'Arrogance'), ('The Right Man', 'Fighting Back'), ('The Right Man', 'We Will Prevail'), ('The Right Man', 'Bush at War'), ('Ten Minutes from Normal', 'Hating America'), ('Ten Minutes from Normal', 'Deliver Us from Evil'), ('Ten Minutes from Normal', 'The Perfect Wife'), ('Ten Minutes from Normal', 'The Bushes'), ('Ten Minutes from Normal', 'Why Courage Matters'), ('Ten Minutes from Normal', 'The Faith of George W Bush'), (\"Hillary's Scheme\", 'Tales from the Left Coast'), ('The French Betrayal of America', 'The Third Terrorist'), ('The French Betrayal of America', 'Deliver Us from Evil'), ('The French Betrayal of America', 'Allies'), ('Tales from the Left Coast', 'Spin Sisters'), ('Tales from the Left Coast', 'The Death of Right and Wrong'), ('Tales from the Left Coast', 'Useful Idiots'), ('Tales from the Left Coast', 'Arrogance'), ('Tales from the Left Coast', 'Hollywood Interrupted'), ('Hating America', 'Endgame'), ('Hating America', 'Deliver Us from Evil'), ('Hating America', 'Arrogance'), ('Hating America', 'Why Courage Matters'), ('The Third Terrorist', 'Deliver Us from Evil'), ('Endgame', 'Deliver Us from Evil'), ('Endgame', 'The Official Handbook Vast Right Wing Conspiracy'), ('Endgame', 'Arrogance'), ('Endgame', 'Why Courage Matters'), ('Spin Sisters', 'Deliver Us from Evil'), ('Spin Sisters', 'Give Me a Break'), ('Spin Sisters', 'Arrogance'), ('Spin Sisters', 'Hollywood Interrupted'), (\"All the Shah's Men\", 'The Great Unraveling'), (\"All the Shah's Men\", 'American Dynasty'), ('The Price of Loyalty', 'House of Bush, House of Saud'), ('The Price of Loyalty', 'Rise of the Vulcans'), ('The Price of Loyalty', 'The Great Unraveling'), ('The Price of Loyalty', 'Rogue Nation'), ('The Price of Loyalty', 'The Sorrows of Empire'), ('The Price of Loyalty', 'Big Lies'), ('The Price of Loyalty', 'The Lies of George W. Bush'), ('The Price of Loyalty', 'Worse Than Watergate'), ('The Price of Loyalty', 'Plan of Attack'), ('The Price of Loyalty', 'Bush at War'), ('The Price of Loyalty', 'Bushwomen'), ('The Price of Loyalty', 'The Bubble of American Supremacy'), ('The Price of Loyalty', 'The Politics of Truth'), ('The Price of Loyalty', 'Fanatics and Fools'), ('The Price of Loyalty', 'Bushwhacked'), ('The Price of Loyalty', 'Lies and the Lying Liars Who Tell Them'), ('The Price of Loyalty', 'Had Enough?'), ('The Price of Loyalty', \"Dude, Where's My Country?\"), ('House of Bush, House of Saud', 'The Bushes'), ('House of Bush, House of Saud', 'Big Lies'), ('House of Bush, House of Saud', 'The Lies of George W. Bush'), ('House of Bush, House of Saud', 'Worse Than Watergate'), ('House of Bush, House of Saud', 'Plan of Attack'), ('House of Bush, House of Saud', 'Bush at War'), ('House of Bush, House of Saud', 'The New Pearl Harbor'), ('House of Bush, House of Saud', 'The Politics of Truth'), ('House of Bush, House of Saud', 'The Exception to the Rulers'), ('The Death of Right and Wrong', 'Useful Idiots'), ('Useful Idiots', 'Bias'), ('Useful Idiots', 'Slander'), ('Useful Idiots', 'The Savage Nation'), ('Useful Idiots', 'Arrogance'), (\"The O'Reilly Factor\", 'Let Freedom Ring'), (\"The O'Reilly Factor\", 'Those Who Trespass'), (\"The O'Reilly Factor\", 'Bias'), (\"The O'Reilly Factor\", 'Slander'), (\"The O'Reilly Factor\", 'The Savage Nation'), ('Let Freedom Ring', 'Those Who Trespass'), ('Let Freedom Ring', 'Bias'), ('Let Freedom Ring', 'Slander'), ('Let Freedom Ring', 'The Savage Nation'), ('Let Freedom Ring', 'Deliver Us from Evil'), ('Let Freedom Ring', 'The Real America'), ('Let Freedom Ring', \"Who's Looking Out for You?\"), ('Those Who Trespass', 'Give Me a Break'), ('Those Who Trespass', 'Arrogance'), ('Bias', 'Slander'), ('Bias', 'Arrogance'), ('Slander', 'The Savage Nation'), ('The Savage Nation', 'Deliver Us from Evil'), ('The Savage Nation', 'The Enemy Within'), ('Deliver Us from Evil', 'Give Me a Break'), ('Deliver Us from Evil', 'The Enemy Within'), ('Deliver Us from Evil', \"Who's Looking Out for You?\"), ('Deliver Us from Evil', 'The Official Handbook Vast Right Wing Conspiracy'), ('Deliver Us from Evil', 'Arrogance'), ('Deliver Us from Evil', 'Why Courage Matters'), ('Deliver Us from Evil', 'Hollywood Interrupted'), ('Give Me a Break', 'Arrogance'), ('Give Me a Break', 'Hollywood Interrupted'), ('The Enemy Within', 'The Real America'), ('The Enemy Within', 'Arrogance'), ('The Real America', 'We Will Prevail'), ('The Official Handbook Vast Right Wing Conspiracy', 'Arrogance'), ('Power Plays', 'Arrogance'), ('Power Plays', 'Buck Up Suck Up'), ('Arrogance', 'Hollywood Interrupted'), ('The Perfect Wife', 'The Bushes'), ('The Perfect Wife', 'The Faith of George W Bush'), ('The Bushes', 'The Faith of George W Bush'), ('The Bushes', 'Rise of the Vulcans'), ('The Bushes', 'American Dynasty'), ('The Bushes', 'Plan of Attack'), ('Things Worth Fighting For', 'Rise of the Vulcans'), ('Surprise, Security, the American Experience', 'Allies'), ('Surprise, Security, the American Experience', 'Rise of the Vulcans'), ('Surprise, Security, the American Experience', 'America Unbound'), ('Surprise, Security, the American Experience', 'The Choice'), ('Surprise, Security, the American Experience', 'Colossus'), ('Allies', 'Rise of the Vulcans'), ('Allies', 'America Unbound'), ('Why Courage Matters', 'Plan of Attack'), ('We Will Prevail', 'The Faith of George W Bush'), ('Rise of the Vulcans', 'America Unbound'), ('Rise of the Vulcans', 'The Choice'), ('Rise of the Vulcans', 'Soft Power'), ('Rise of the Vulcans', 'Colossus'), ('Rise of the Vulcans', 'Bush at War'), ('Rise of the Vulcans', 'Disarming Iraq'), ('Downsize This!', 'Stupid White Men'), ('Downsize This!', 'Rush Limbaugh Is a Big Fat Idiot'), ('Downsize This!', 'The Best Democracy Money Can Buy'), ('Downsize This!', 'The Culture of Fear'), ('Downsize This!', \"Dude, Where's My Country?\"), ('Stupid White Men', 'The Best Democracy Money Can Buy'), ('Stupid White Men', 'The Culture of Fear'), ('Stupid White Men', 'Bushwhacked'), ('Stupid White Men', 'Lies and the Lying Liars Who Tell Them'), ('Stupid White Men', \"Dude, Where's My Country?\"), ('Rush Limbaugh Is a Big Fat Idiot', 'Lies and the Lying Liars Who Tell Them'), ('Rush Limbaugh Is a Big Fat Idiot', \"We're Right They're Wrong\"), ('Rush Limbaugh Is a Big Fat Idiot', 'Shrub'), ('The Best Democracy Money Can Buy', 'The Culture of Fear'), ('The Best Democracy Money Can Buy', 'Bushwhacked'), ('The Best Democracy Money Can Buy', \"Dude, Where's My Country?\"), ('The Best Democracy Money Can Buy', 'Thieves in High Places'), ('The Culture of Fear', \"Dude, Where's My Country?\"), ('America Unbound', 'The Choice'), ('America Unbound', 'The Great Unraveling'), ('America Unbound', 'Rogue Nation'), ('America Unbound', 'Soft Power'), ('America Unbound', 'Colossus'), ('America Unbound', 'The Sorrows of Empire'), ('The Choice', 'Rogue Nation'), ('The Choice', 'Soft Power'), ('The Choice', 'Colossus'), ('The Choice', 'Disarming Iraq'), ('The Great Unraveling', 'Rogue Nation'), ('The Great Unraveling', 'The Sorrows of Empire'), ('The Great Unraveling', 'American Dynasty'), ('The Great Unraveling', 'Big Lies'), ('The Great Unraveling', 'The Lies of George W. Bush'), ('The Great Unraveling', 'Plan of Attack'), ('The Great Unraveling', 'The Bubble of American Supremacy'), ('The Great Unraveling', 'Bushwhacked'), ('The Great Unraveling', 'Disarming Iraq'), ('The Great Unraveling', 'Lies and the Lying Liars Who Tell Them'), ('The Great Unraveling', 'The Buying of the President 2004'), ('The Great Unraveling', 'Perfectly Legal'), ('The Great Unraveling', 'Hegemony or Survival'), ('The Great Unraveling', 'Had Enough?'), ('The Great Unraveling', 'What Liberal Media?'), ('The Great Unraveling', 'The Clinton Wars'), ('The Great Unraveling', \"Dude, Where's My Country?\"), ('The Great Unraveling', 'Thieves in High Places'), ('Rogue Nation', 'The Future of Freedom'), ('Rogue Nation', 'Empire'), ('Soft Power', 'Against All Enemies'), ('Colossus', 'Empire'), ('The Sorrows of Empire', 'Against All Enemies'), ('The Sorrows of Empire', 'American Dynasty'), ('The Sorrows of Empire', 'Worse Than Watergate'), ('The Sorrows of Empire', 'Hegemony or Survival'), ('Against All Enemies', 'American Dynasty'), ('Against All Enemies', 'Big Lies'), ('Against All Enemies', 'The Lies of George W. Bush'), ('Against All Enemies', 'Worse Than Watergate'), ('Against All Enemies', 'Plan of Attack'), ('Against All Enemies', 'Bush at War'), ('Against All Enemies', 'The New Pearl Harbor'), ('Against All Enemies', 'Bushwomen'), ('Against All Enemies', 'The Bubble of American Supremacy'), ('Against All Enemies', 'Living History'), ('Against All Enemies', 'The Politics of Truth'), ('Against All Enemies', 'Fanatics and Fools'), ('American Dynasty', 'Big Lies'), ('American Dynasty', 'The Lies of George W. Bush'), ('American Dynasty', 'Worse Than Watergate'), ('American Dynasty', 'Plan of Attack'), ('American Dynasty', 'The New Pearl Harbor'), ('American Dynasty', 'Bushwomen'), ('American Dynasty', 'The Bubble of American Supremacy'), ('American Dynasty', 'The Politics of Truth'), ('American Dynasty', 'Bushwhacked'), ('American Dynasty', 'Disarming Iraq'), ('American Dynasty', 'Lies and the Lying Liars Who Tell Them'), ('American Dynasty', \"MoveOn's 50 Ways to Love Your Country\"), ('American Dynasty', 'The Buying of the President 2004'), ('American Dynasty', 'Perfectly Legal'), ('American Dynasty', 'Hegemony or Survival'), ('American Dynasty', 'The Exception to the Rulers'), ('American Dynasty', 'Freethinkers'), ('Big Lies', 'The Lies of George W. Bush'), ('Big Lies', 'Worse Than Watergate'), ('Big Lies', 'The Politics of Truth'), ('Big Lies', 'Fanatics and Fools'), ('Big Lies', 'Bushwhacked'), ('Big Lies', 'Lies and the Lying Liars Who Tell Them'), ('Big Lies', 'Perfectly Legal'), ('Big Lies', 'Freethinkers'), ('Big Lies', 'Had Enough?'), ('Big Lies', \"It's Still the Economy, Stupid!\"), ('Big Lies', \"We're Right They're Wrong\"), ('Big Lies', 'What Liberal Media?'), ('Big Lies', 'The Clinton Wars'), ('Big Lies', 'Weapons of Mass Deception'), ('Big Lies', \"Dude, Where's My Country?\"), ('Big Lies', 'Thieves in High Places'), ('The Lies of George W. Bush', 'Worse Than Watergate'), ('The Lies of George W. Bush', 'The New Pearl Harbor'), ('The Lies of George W. Bush', 'Bushwomen'), ('The Lies of George W. Bush', 'The Politics of Truth'), ('The Lies of George W. Bush', 'Bushwhacked'), ('The Lies of George W. Bush', \"MoveOn's 50 Ways to Love Your Country\"), ('The Lies of George W. Bush', 'The Buying of the President 2004'), ('The Lies of George W. Bush', 'The Exception to the Rulers'), ('The Lies of George W. Bush', 'Weapons of Mass Deception'), ('The Lies of George W. Bush', \"Dude, Where's My Country?\"), ('Worse Than Watergate', 'Plan of Attack'), ('Worse Than Watergate', 'Bush at War'), ('Worse Than Watergate', 'The New Pearl Harbor'), ('Worse Than Watergate', 'Bushwomen'), ('Worse Than Watergate', 'The Politics of Truth'), ('Worse Than Watergate', 'Fanatics and Fools'), ('Worse Than Watergate', 'Bushwhacked'), ('Worse Than Watergate', 'The Exception to the Rulers'), ('Worse Than Watergate', 'Freethinkers'), ('Plan of Attack', 'Bush at War'), ('Plan of Attack', 'The Politics of Truth'), ('Plan of Attack', 'Fanatics and Fools'), ('Plan of Attack', 'Bushwhacked'), ('Plan of Attack', 'Lies and the Lying Liars Who Tell Them'), ('Bushwomen', 'Bushwhacked'), ('Bushwomen', 'The Exception to the Rulers'), ('Bushwomen', 'Thieves in High Places'), ('Living History', 'Bushwhacked'), ('Living History', 'Lies and the Lying Liars Who Tell Them'), ('Living History', 'The Clinton Wars'), ('The Politics of Truth', 'Bushwhacked'), ('Fanatics and Fools', 'Bushwhacked'), ('Fanatics and Fools', \"MoveOn's 50 Ways to Love Your Country\"), ('Fanatics and Fools', 'Thieves in High Places'), ('Bushwhacked', 'Lies and the Lying Liars Who Tell Them'), ('Bushwhacked', \"MoveOn's 50 Ways to Love Your Country\"), ('Bushwhacked', 'The Buying of the President 2004'), ('Bushwhacked', 'Perfectly Legal'), ('Bushwhacked', \"It's Still the Economy, Stupid!\"), ('Bushwhacked', 'What Liberal Media?'), ('Bushwhacked', 'The Clinton Wars'), ('Bushwhacked', \"Dude, Where's My Country?\"), ('Bushwhacked', 'Thieves in High Places'), ('Bushwhacked', 'Shrub'), ('Lies and the Lying Liars Who Tell Them', 'Perfectly Legal'), ('Lies and the Lying Liars Who Tell Them', 'Had Enough?'), ('Lies and the Lying Liars Who Tell Them', 'The Clinton Wars'), ('Lies and the Lying Liars Who Tell Them', 'Thieves in High Places'), ('Lies and the Lying Liars Who Tell Them', 'Shrub'), (\"MoveOn's 50 Ways to Love Your Country\", 'Weapons of Mass Deception'), ('The Buying of the President 2004', 'Perfectly Legal'), ('Hegemony or Survival', 'The Exception to the Rulers'), ('Hegemony or Survival', \"Dude, Where's My Country?\"), ('The Exception to the Rulers', 'Weapons of Mass Deception'), ('The Exception to the Rulers', 'Thieves in High Places'), ('Had Enough?', \"It's Still the Economy, Stupid!\"), ('Had Enough?', \"Dude, Where's My Country?\"), ('Had Enough?', 'Buck Up Suck Up'), (\"It's Still the Economy, Stupid!\", \"We're Right They're Wrong\"), (\"It's Still the Economy, Stupid!\", 'What Liberal Media?'), (\"It's Still the Economy, Stupid!\", 'Shrub'), (\"It's Still the Economy, Stupid!\", 'Buck Up Suck Up'), (\"We're Right They're Wrong\", 'Buck Up Suck Up'), ('What Liberal Media?', 'The Clinton Wars'), ('What Liberal Media?', 'Thieves in High Places'), ('Weapons of Mass Deception', 'Thieves in High Places'), (\"Dude, Where's My Country?\", 'Thieves in High Places'), ('Thieves in High Places', 'Shrub'), ('The Future of Freedom', 'Empire')])"
      ]
     },
     "execution_count": 4,
     "metadata": {},
     "output_type": "execute_result"
    }
   ],
   "source": [
    "net.edges"
   ]
  },
  {
   "cell_type": "markdown",
   "metadata": {},
   "source": [
    "# What books are purchased with `Worse Than Watergate`?"
   ]
  },
  {
   "cell_type": "code",
   "execution_count": null,
   "metadata": {},
   "outputs": [],
   "source": []
  },
  {
   "cell_type": "markdown",
   "metadata": {},
   "source": [
    "# What is the shortest path between `MoveOn's 50 Ways to Love Your Country` and `Empire`?"
   ]
  },
  {
   "cell_type": "code",
   "execution_count": null,
   "metadata": {},
   "outputs": [],
   "source": []
  },
  {
   "cell_type": "markdown",
   "metadata": {},
   "source": [
    "# What are the top 5 central books? Use different centrality measures and compare"
   ]
  },
  {
   "cell_type": "code",
   "execution_count": null,
   "metadata": {},
   "outputs": [],
   "source": []
  },
  {
   "cell_type": "markdown",
   "metadata": {},
   "source": [
    "# Using community detection, uncover communities from the network, what do they mean?"
   ]
  },
  {
   "cell_type": "code",
   "execution_count": null,
   "metadata": {},
   "outputs": [],
   "source": []
  }
 ],
 "metadata": {
  "kernelspec": {
   "display_name": "Python 3",
   "language": "python",
   "name": "python3"
  },
  "language_info": {
   "codemirror_mode": {
    "name": "ipython",
    "version": 3
   },
   "file_extension": ".py",
   "mimetype": "text/x-python",
   "name": "python",
   "nbconvert_exporter": "python",
   "pygments_lexer": "ipython3",
   "version": "3.8.3"
  }
 },
 "nbformat": 4,
 "nbformat_minor": 2
}
