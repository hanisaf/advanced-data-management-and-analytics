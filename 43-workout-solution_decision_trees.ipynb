{
 "cells": [
  {
   "cell_type": "code",
   "execution_count": 1,
   "metadata": {},
   "outputs": [],
   "source": [
    "import pandas as pd\n",
    "from sklearn.tree import DecisionTreeClassifier\n",
    "from sklearn.model_selection import train_test_split, GridSearchCV\n",
    "from sklearn.metrics import accuracy_score, confusion_matrix\n",
    "from sklearn.tree import export_text"
   ]
  },
  {
   "cell_type": "markdown",
   "metadata": {},
   "source": [
    "This example uses the [Universal Bank](https://www.kaggle.com/sriharipramod/bank-loan-classification) data set and some example code of running classification trees from chapter 9 of [Data Mining for Business Analytics](https://www.dataminingbook.com/book/python-edition)\n",
    "\n",
    "> The data include customer demographic information (age, income, etc.), the customer's relationship with the bank (mortgage, securities account, etc.), and the customer response to the last personal loan campaign (Personal Loan). Among these 5000 customers, only 480 (= 9.6%) accepted the personal loan that was offered to them in the earlier campaign\n",
    "[Source](https://www.kaggle.com/itsmesunil/campaign-for-selling-personal-loans)\n",
    "\n",
    "1. Train a decision tree classifier, print the tree and evaluate its accuracy.\n",
    "2. Prune the tree by changing its hyper parameters, evaluate the accuracy of the new tree.\n",
    "3. Using [grid search](https://scikit-learn.org/stable/modules/grid_search.html), perform a systematic tuning of the decision tree hyper parameters."
   ]
  },
  {
   "cell_type": "code",
   "execution_count": 2,
   "metadata": {},
   "outputs": [
    {
     "data": {
      "text/html": [
       "<div>\n",
       "<style scoped>\n",
       "    .dataframe tbody tr th:only-of-type {\n",
       "        vertical-align: middle;\n",
       "    }\n",
       "\n",
       "    .dataframe tbody tr th {\n",
       "        vertical-align: top;\n",
       "    }\n",
       "\n",
       "    .dataframe thead th {\n",
       "        text-align: right;\n",
       "    }\n",
       "</style>\n",
       "<table border=\"1\" class=\"dataframe\">\n",
       "  <thead>\n",
       "    <tr style=\"text-align: right;\">\n",
       "      <th></th>\n",
       "      <th>ID</th>\n",
       "      <th>Age</th>\n",
       "      <th>Experience</th>\n",
       "      <th>Income</th>\n",
       "      <th>ZIP Code</th>\n",
       "      <th>Family</th>\n",
       "      <th>CCAvg</th>\n",
       "      <th>Education</th>\n",
       "      <th>Mortgage</th>\n",
       "      <th>Personal Loan</th>\n",
       "      <th>Securities Account</th>\n",
       "      <th>CD Account</th>\n",
       "      <th>Online</th>\n",
       "      <th>CreditCard</th>\n",
       "    </tr>\n",
       "  </thead>\n",
       "  <tbody>\n",
       "    <tr>\n",
       "      <th>0</th>\n",
       "      <td>1</td>\n",
       "      <td>25</td>\n",
       "      <td>1</td>\n",
       "      <td>49</td>\n",
       "      <td>91107</td>\n",
       "      <td>4</td>\n",
       "      <td>1.6</td>\n",
       "      <td>1</td>\n",
       "      <td>0</td>\n",
       "      <td>0</td>\n",
       "      <td>1</td>\n",
       "      <td>0</td>\n",
       "      <td>0</td>\n",
       "      <td>0</td>\n",
       "    </tr>\n",
       "    <tr>\n",
       "      <th>1</th>\n",
       "      <td>2</td>\n",
       "      <td>45</td>\n",
       "      <td>19</td>\n",
       "      <td>34</td>\n",
       "      <td>90089</td>\n",
       "      <td>3</td>\n",
       "      <td>1.5</td>\n",
       "      <td>1</td>\n",
       "      <td>0</td>\n",
       "      <td>0</td>\n",
       "      <td>1</td>\n",
       "      <td>0</td>\n",
       "      <td>0</td>\n",
       "      <td>0</td>\n",
       "    </tr>\n",
       "    <tr>\n",
       "      <th>2</th>\n",
       "      <td>3</td>\n",
       "      <td>39</td>\n",
       "      <td>15</td>\n",
       "      <td>11</td>\n",
       "      <td>94720</td>\n",
       "      <td>1</td>\n",
       "      <td>1.0</td>\n",
       "      <td>1</td>\n",
       "      <td>0</td>\n",
       "      <td>0</td>\n",
       "      <td>0</td>\n",
       "      <td>0</td>\n",
       "      <td>0</td>\n",
       "      <td>0</td>\n",
       "    </tr>\n",
       "    <tr>\n",
       "      <th>3</th>\n",
       "      <td>4</td>\n",
       "      <td>35</td>\n",
       "      <td>9</td>\n",
       "      <td>100</td>\n",
       "      <td>94112</td>\n",
       "      <td>1</td>\n",
       "      <td>2.7</td>\n",
       "      <td>2</td>\n",
       "      <td>0</td>\n",
       "      <td>0</td>\n",
       "      <td>0</td>\n",
       "      <td>0</td>\n",
       "      <td>0</td>\n",
       "      <td>0</td>\n",
       "    </tr>\n",
       "    <tr>\n",
       "      <th>4</th>\n",
       "      <td>5</td>\n",
       "      <td>35</td>\n",
       "      <td>8</td>\n",
       "      <td>45</td>\n",
       "      <td>91330</td>\n",
       "      <td>4</td>\n",
       "      <td>1.0</td>\n",
       "      <td>2</td>\n",
       "      <td>0</td>\n",
       "      <td>0</td>\n",
       "      <td>0</td>\n",
       "      <td>0</td>\n",
       "      <td>0</td>\n",
       "      <td>1</td>\n",
       "    </tr>\n",
       "  </tbody>\n",
       "</table>\n",
       "</div>"
      ],
      "text/plain": [
       "   ID  Age  Experience  Income  ZIP Code  Family  CCAvg  Education  Mortgage  \\\n",
       "0   1   25           1      49     91107       4    1.6          1         0   \n",
       "1   2   45          19      34     90089       3    1.5          1         0   \n",
       "2   3   39          15      11     94720       1    1.0          1         0   \n",
       "3   4   35           9     100     94112       1    2.7          2         0   \n",
       "4   5   35           8      45     91330       4    1.0          2         0   \n",
       "\n",
       "   Personal Loan  Securities Account  CD Account  Online  CreditCard  \n",
       "0              0                   1           0       0           0  \n",
       "1              0                   1           0       0           0  \n",
       "2              0                   0           0       0           0  \n",
       "3              0                   0           0       0           0  \n",
       "4              0                   0           0       0           1  "
      ]
     },
     "execution_count": 2,
     "metadata": {},
     "output_type": "execute_result"
    }
   ],
   "source": [
    "data = pd.read_csv('data/UniversalBank.csv')\n",
    "data.head()"
   ]
  },
  {
   "cell_type": "raw",
   "metadata": {},
   "source": [
    "Courtesy - Statistics.com    \n",
    "\n",
    "Data Description:\n",
    "ID   \t\t \t Customer ID\n",
    "Age   \t\t Customer's age in completed years\n",
    "Experience   \t #years of professional experience\n",
    "Income   \t\t Annual income of the customer ($000)\n",
    "ZIPCode   \t\t Home Address ZIP code.\n",
    "Family   \t\t Family size of the customer\n",
    "CCAvg   \t\t Avg. spending on credit cards per month ($000)\n",
    "Education   \t \t Education Level. 1: Undergrad; 2: Graduate; 3: Advanced/Professional\n",
    "Mortgage   \t \t Value of house mortgage if any. ($000)\n",
    "Personal Loan   \t Did this customer accept the personal loan offered in the last campaign?\n",
    "Securities Account   Does the customer have a securities account with the bank?\n",
    "CD Account   \t Does the customer have a certificate of deposit (CD) account with the bank?\n",
    "Online   \t\t Does the customer use internet banking facilities?\n",
    "CreditCard   \t Does the customer use a credit card issued by UniversalBank?"
   ]
  },
  {
   "cell_type": "code",
   "execution_count": 3,
   "metadata": {
    "scrolled": false
   },
   "outputs": [
    {
     "name": "stdout",
     "output_type": "stream",
     "text": [
      "|--- Income <= 110.50\n",
      "|   |--- CCAvg <= 2.95\n",
      "|   |   |--- Income <= 106.50\n",
      "|   |   |   |--- class: 0\n",
      "|   |   |--- Income >  106.50\n",
      "|   |   |   |--- Family <= 3.50\n",
      "|   |   |   |   |--- class: 0\n",
      "|   |   |   |--- Family >  3.50\n",
      "|   |   |   |   |--- Age <= 38.00\n",
      "|   |   |   |   |   |--- class: 0\n",
      "|   |   |   |   |--- Age >  38.00\n",
      "|   |   |   |   |   |--- class: 1\n",
      "|   |--- CCAvg >  2.95\n",
      "|   |   |--- CD Account <= 0.50\n",
      "|   |   |   |--- Income <= 92.50\n",
      "|   |   |   |   |--- Age <= 26.50\n",
      "|   |   |   |   |   |--- class: 1\n",
      "|   |   |   |   |--- Age >  26.50\n",
      "|   |   |   |   |   |--- CCAvg <= 3.55\n",
      "|   |   |   |   |   |   |--- CCAvg <= 3.35\n",
      "|   |   |   |   |   |   |   |--- CCAvg <= 3.05\n",
      "|   |   |   |   |   |   |   |   |--- class: 0\n",
      "|   |   |   |   |   |   |   |--- CCAvg >  3.05\n",
      "|   |   |   |   |   |   |   |   |--- CCAvg <= 3.15\n",
      "|   |   |   |   |   |   |   |   |   |--- Mortgage <= 89.00\n",
      "|   |   |   |   |   |   |   |   |   |   |--- class: 1\n",
      "|   |   |   |   |   |   |   |   |   |--- Mortgage >  89.00\n",
      "|   |   |   |   |   |   |   |   |   |   |--- class: 0\n",
      "|   |   |   |   |   |   |   |   |--- CCAvg >  3.15\n",
      "|   |   |   |   |   |   |   |   |   |--- class: 0\n",
      "|   |   |   |   |   |   |--- CCAvg >  3.35\n",
      "|   |   |   |   |   |   |   |--- Family <= 3.00\n",
      "|   |   |   |   |   |   |   |   |--- class: 1\n",
      "|   |   |   |   |   |   |   |--- Family >  3.00\n",
      "|   |   |   |   |   |   |   |   |--- class: 0\n",
      "|   |   |   |   |   |--- CCAvg >  3.55\n",
      "|   |   |   |   |   |   |--- Income <= 81.50\n",
      "|   |   |   |   |   |   |   |--- class: 0\n",
      "|   |   |   |   |   |   |--- Income >  81.50\n",
      "|   |   |   |   |   |   |   |--- Income <= 83.50\n",
      "|   |   |   |   |   |   |   |   |--- Experience <= 20.00\n",
      "|   |   |   |   |   |   |   |   |   |--- class: 0\n",
      "|   |   |   |   |   |   |   |   |--- Experience >  20.00\n",
      "|   |   |   |   |   |   |   |   |   |--- Family <= 3.50\n",
      "|   |   |   |   |   |   |   |   |   |   |--- class: 1\n",
      "|   |   |   |   |   |   |   |   |   |--- Family >  3.50\n",
      "|   |   |   |   |   |   |   |   |   |   |--- class: 0\n",
      "|   |   |   |   |   |   |   |--- Income >  83.50\n",
      "|   |   |   |   |   |   |   |   |--- class: 0\n",
      "|   |   |   |--- Income >  92.50\n",
      "|   |   |   |   |--- Education <= 1.50\n",
      "|   |   |   |   |   |--- Experience <= 33.50\n",
      "|   |   |   |   |   |   |--- class: 0\n",
      "|   |   |   |   |   |--- Experience >  33.50\n",
      "|   |   |   |   |   |   |--- Online <= 0.50\n",
      "|   |   |   |   |   |   |   |--- class: 1\n",
      "|   |   |   |   |   |   |--- Online >  0.50\n",
      "|   |   |   |   |   |   |   |--- class: 0\n",
      "|   |   |   |   |--- Education >  1.50\n",
      "|   |   |   |   |   |--- CCAvg <= 4.30\n",
      "|   |   |   |   |   |   |--- Experience <= 37.50\n",
      "|   |   |   |   |   |   |   |--- class: 1\n",
      "|   |   |   |   |   |   |--- Experience >  37.50\n",
      "|   |   |   |   |   |   |   |--- Education <= 2.50\n",
      "|   |   |   |   |   |   |   |   |--- class: 0\n",
      "|   |   |   |   |   |   |   |--- Education >  2.50\n",
      "|   |   |   |   |   |   |   |   |--- class: 1\n",
      "|   |   |   |   |   |--- CCAvg >  4.30\n",
      "|   |   |   |   |   |   |--- Mortgage <= 149.00\n",
      "|   |   |   |   |   |   |   |--- class: 1\n",
      "|   |   |   |   |   |   |--- Mortgage >  149.00\n",
      "|   |   |   |   |   |   |   |--- class: 0\n",
      "|   |   |--- CD Account >  0.50\n",
      "|   |   |   |--- Family <= 1.50\n",
      "|   |   |   |   |--- Mortgage <= 250.50\n",
      "|   |   |   |   |   |--- class: 0\n",
      "|   |   |   |   |--- Mortgage >  250.50\n",
      "|   |   |   |   |   |--- class: 1\n",
      "|   |   |   |--- Family >  1.50\n",
      "|   |   |   |   |--- class: 1\n",
      "|--- Income >  110.50\n",
      "|   |--- Education <= 1.50\n",
      "|   |   |--- Family <= 2.50\n",
      "|   |   |   |--- class: 0\n",
      "|   |   |--- Family >  2.50\n",
      "|   |   |   |--- Age <= 26.00\n",
      "|   |   |   |   |--- class: 0\n",
      "|   |   |   |--- Age >  26.00\n",
      "|   |   |   |   |--- Income <= 113.50\n",
      "|   |   |   |   |   |--- CD Account <= 0.50\n",
      "|   |   |   |   |   |   |--- class: 0\n",
      "|   |   |   |   |   |--- CD Account >  0.50\n",
      "|   |   |   |   |   |   |--- class: 1\n",
      "|   |   |   |   |--- Income >  113.50\n",
      "|   |   |   |   |   |--- class: 1\n",
      "|   |--- Education >  1.50\n",
      "|   |   |--- Income <= 116.50\n",
      "|   |   |   |--- CCAvg <= 3.50\n",
      "|   |   |   |   |--- CCAvg <= 2.80\n",
      "|   |   |   |   |   |--- Mortgage <= 231.00\n",
      "|   |   |   |   |   |   |--- CCAvg <= 1.55\n",
      "|   |   |   |   |   |   |   |--- class: 0\n",
      "|   |   |   |   |   |   |--- CCAvg >  1.55\n",
      "|   |   |   |   |   |   |   |--- CCAvg <= 1.75\n",
      "|   |   |   |   |   |   |   |   |--- Age <= 51.50\n",
      "|   |   |   |   |   |   |   |   |   |--- class: 1\n",
      "|   |   |   |   |   |   |   |   |--- Age >  51.50\n",
      "|   |   |   |   |   |   |   |   |   |--- class: 0\n",
      "|   |   |   |   |   |   |   |--- CCAvg >  1.75\n",
      "|   |   |   |   |   |   |   |   |--- Family <= 1.50\n",
      "|   |   |   |   |   |   |   |   |   |--- class: 1\n",
      "|   |   |   |   |   |   |   |   |--- Family >  1.50\n",
      "|   |   |   |   |   |   |   |   |   |--- class: 0\n",
      "|   |   |   |   |   |--- Mortgage >  231.00\n",
      "|   |   |   |   |   |   |--- Experience <= 11.50\n",
      "|   |   |   |   |   |   |   |--- class: 0\n",
      "|   |   |   |   |   |   |--- Experience >  11.50\n",
      "|   |   |   |   |   |   |   |--- class: 1\n",
      "|   |   |   |   |--- CCAvg >  2.80\n",
      "|   |   |   |   |   |--- CCAvg <= 3.35\n",
      "|   |   |   |   |   |   |--- class: 1\n",
      "|   |   |   |   |   |--- CCAvg >  3.35\n",
      "|   |   |   |   |   |   |--- class: 0\n",
      "|   |   |   |--- CCAvg >  3.50\n",
      "|   |   |   |   |--- class: 1\n",
      "|   |   |--- Income >  116.50\n",
      "|   |   |   |--- class: 1\n",
      "\n"
     ]
    }
   ],
   "source": [
    "bank_df = data.drop(columns=['ID', 'ZIP Code'])\n",
    "\n",
    "X = bank_df.drop(columns=['Personal Loan'])\n",
    "y = bank_df['Personal Loan']\n",
    "train_X, valid_X, train_y, valid_y = train_test_split(X, y, test_size=0.4, random_state=1)\n",
    "\n",
    "dtree = DecisionTreeClassifier()\n",
    "dtree.fit(train_X, train_y)\n",
    "\n",
    "print(export_text(dtree, feature_names=list(X.columns)))"
   ]
  },
  {
   "cell_type": "code",
   "execution_count": 4,
   "metadata": {},
   "outputs": [
    {
     "name": "stdout",
     "output_type": "stream",
     "text": [
      "[[2713    0]\n",
      " [   0  287]]\n",
      "[[1794   13]\n",
      " [  25  168]]\n"
     ]
    },
    {
     "data": {
      "text/plain": [
       "(1.0, 0.981)"
      ]
     },
     "execution_count": 4,
     "metadata": {},
     "output_type": "execute_result"
    }
   ],
   "source": [
    "print(confusion_matrix(train_y, dtree.predict(train_X)))\n",
    "print(confusion_matrix(valid_y, dtree.predict(valid_X)))\n",
    "accuracy_score(train_y, dtree.predict(train_X)), accuracy_score(valid_y, dtree.predict(valid_X))"
   ]
  },
  {
   "cell_type": "code",
   "execution_count": 5,
   "metadata": {},
   "outputs": [
    {
     "name": "stdout",
     "output_type": "stream",
     "text": [
      "|--- Income <= 110.50\n",
      "|   |--- class: 0\n",
      "|--- Income >  110.50\n",
      "|   |--- Education <= 1.50\n",
      "|   |   |--- Family <= 2.50\n",
      "|   |   |   |--- class: 0\n",
      "|   |   |--- Family >  2.50\n",
      "|   |   |   |--- class: 1\n",
      "|   |--- Education >  1.50\n",
      "|   |   |--- Income <= 116.50\n",
      "|   |   |   |--- class: 0\n",
      "|   |   |--- Income >  116.50\n",
      "|   |   |   |--- class: 1\n",
      "\n"
     ]
    }
   ],
   "source": [
    "dtree = DecisionTreeClassifier(max_depth=30, min_samples_split=20, min_impurity_decrease=0.01)\n",
    "dtree.fit(train_X, train_y)\n",
    "print(export_text(dtree, feature_names=list(X.columns)))"
   ]
  },
  {
   "cell_type": "code",
   "execution_count": 6,
   "metadata": {},
   "outputs": [
    {
     "name": "stdout",
     "output_type": "stream",
     "text": [
      "[[2711    2]\n",
      " [  51  236]]\n",
      "[[1804    3]\n",
      " [  43  150]]\n"
     ]
    },
    {
     "data": {
      "text/plain": [
       "(0.9823333333333333, 0.977)"
      ]
     },
     "execution_count": 6,
     "metadata": {},
     "output_type": "execute_result"
    }
   ],
   "source": [
    "print(confusion_matrix(train_y, dtree.predict(train_X)))\n",
    "print(confusion_matrix(valid_y, dtree.predict(valid_X)))\n",
    "accuracy_score(train_y, dtree.predict(train_X)), accuracy_score(valid_y, dtree.predict(valid_X))"
   ]
  },
  {
   "cell_type": "code",
   "execution_count": 7,
   "metadata": {},
   "outputs": [
    {
     "name": "stdout",
     "output_type": "stream",
     "text": [
      "Score:  0.988\n",
      "Parameters:  {'max_depth': 10, 'min_impurity_decrease': 0.001, 'min_samples_split': 20}\n"
     ]
    }
   ],
   "source": [
    "# Start with an initial guess for parameters\n",
    "param_grid = {\n",
    "    'max_depth': [10, 20, 30, 40], \n",
    "    'min_samples_split': [20, 40, 60, 80, 100], \n",
    "    'min_impurity_decrease': [0, 0.0005, 0.001, 0.005, 0.01], \n",
    "}\n",
    "gridSearch = GridSearchCV(DecisionTreeClassifier(), param_grid, cv=5, n_jobs=-1)\n",
    "gridSearch.fit(train_X, train_y)\n",
    "print('Score: ', gridSearch.best_score_)\n",
    "print('Parameters: ', gridSearch.best_params_)\n",
    "\n",
    "\n",
    "\n",
    "dtree = gridSearch.best_estimator_"
   ]
  },
  {
   "cell_type": "code",
   "execution_count": 8,
   "metadata": {},
   "outputs": [
    {
     "name": "stdout",
     "output_type": "stream",
     "text": [
      "[[2703   10]\n",
      " [  20  267]]\n",
      "[[1793   14]\n",
      " [  21  172]]\n"
     ]
    },
    {
     "data": {
      "text/plain": [
       "(0.99, 0.9825)"
      ]
     },
     "execution_count": 8,
     "metadata": {},
     "output_type": "execute_result"
    }
   ],
   "source": [
    "print(confusion_matrix(train_y, dtree.predict(train_X)))\n",
    "print(confusion_matrix(valid_y, dtree.predict(valid_X)))\n",
    "accuracy_score(train_y, dtree.predict(train_X)), accuracy_score(valid_y, dtree.predict(valid_X))"
   ]
  },
  {
   "cell_type": "code",
   "execution_count": 9,
   "metadata": {},
   "outputs": [
    {
     "name": "stdout",
     "output_type": "stream",
     "text": [
      "|--- Income <= 110.50\n",
      "|   |--- CCAvg <= 2.95\n",
      "|   |   |--- class: 0\n",
      "|   |--- CCAvg >  2.95\n",
      "|   |   |--- CD Account <= 0.50\n",
      "|   |   |   |--- Income <= 92.50\n",
      "|   |   |   |   |--- class: 0\n",
      "|   |   |   |--- Income >  92.50\n",
      "|   |   |   |   |--- Education <= 1.50\n",
      "|   |   |   |   |   |--- class: 0\n",
      "|   |   |   |   |--- Education >  1.50\n",
      "|   |   |   |   |   |--- class: 1\n",
      "|   |   |--- CD Account >  0.50\n",
      "|   |   |   |--- class: 1\n",
      "|--- Income >  110.50\n",
      "|   |--- Education <= 1.50\n",
      "|   |   |--- Family <= 2.50\n",
      "|   |   |   |--- class: 0\n",
      "|   |   |--- Family >  2.50\n",
      "|   |   |   |--- class: 1\n",
      "|   |--- Education >  1.50\n",
      "|   |   |--- Income <= 116.50\n",
      "|   |   |   |--- CCAvg <= 3.50\n",
      "|   |   |   |   |--- class: 0\n",
      "|   |   |   |--- CCAvg >  3.50\n",
      "|   |   |   |   |--- class: 1\n",
      "|   |   |--- Income >  116.50\n",
      "|   |   |   |--- class: 1\n",
      "\n"
     ]
    }
   ],
   "source": [
    "print(export_text(dtree, feature_names=list(X.columns)))"
   ]
  },
  {
   "cell_type": "code",
   "execution_count": null,
   "metadata": {},
   "outputs": [],
   "source": []
  }
 ],
 "metadata": {
  "kernelspec": {
   "display_name": "Python 3",
   "language": "python",
   "name": "python3"
  },
  "language_info": {
   "codemirror_mode": {
    "name": "ipython",
    "version": 3
   },
   "file_extension": ".py",
   "mimetype": "text/x-python",
   "name": "python",
   "nbconvert_exporter": "python",
   "pygments_lexer": "ipython3",
   "version": "3.8.3"
  }
 },
 "nbformat": 4,
 "nbformat_minor": 2
}
