{
 "cells": [
  {
   "cell_type": "code",
   "execution_count": 1,
   "metadata": {},
   "outputs": [],
   "source": [
    "import pandas as pd\n",
    "import altair as alt\n",
    "from sklearn.cluster import KMeans"
   ]
  },
  {
   "cell_type": "markdown",
   "metadata": {},
   "source": [
    "This example uses the [Utilities](https://github.com/GauthamBest/Training_Data/blob/master/utilities.csv) data set and some example code of running classification trees from chapter 15 of [Data Mining for Business Analytics](https://www.dataminingbook.com/book/python-edition)\n",
    "\n",
    "The data dictionary\n",
    "\n",
    "Variable \t|\t\tDescription\n",
    "------------|  ----------------\n",
    "Company\t|\t    \tCompany name\n",
    "Fixed_charge    |\t\tFixed-charge coverage ratio (income/debt)|\n",
    "RoR    |\t\t\t\tPercent rate of return on capital\n",
    "Cost    |\t\t\t\tCost per KW capacity in place\n",
    "Load_factor   | \t\t\tAnnual load factor\n",
    "Demand_growth |   \t\tPercent demand growth\n",
    "Sales    |\t\t\tSales (KWH use per year)\n",
    "Nuclear   | \t\t\tPercent nuclear\n",
    "Fuel_Cost\t|\t\tTotal fuel costs (cents per KWH)\n",
    "\n",
    "Using k-means clustering:\n",
    "\n",
    "1. Cluster the data into two clusters. What do these clusters represent?\n",
    "2. Cluster the data into six clusters. What do these clusters represent?\n",
    "3. Using the [inertia](https://scikit-learn.org/stable/modules/clustering.html?highlight=inertia) as a criteria, select the optimal number of clusters\n",
    "\n",
    "The K-means algorithm aims to choose centroids that minimise the inertia, or within-cluster sum-of-squares criterion: $\\sum_{i=0}^{n}\\min_{\\mu_j \\in C}(||x_i - \\mu_j||^2)$"
   ]
  },
  {
   "cell_type": "code",
   "execution_count": 2,
   "metadata": {},
   "outputs": [
    {
     "data": {
      "text/html": [
       "<div>\n",
       "<style scoped>\n",
       "    .dataframe tbody tr th:only-of-type {\n",
       "        vertical-align: middle;\n",
       "    }\n",
       "\n",
       "    .dataframe tbody tr th {\n",
       "        vertical-align: top;\n",
       "    }\n",
       "\n",
       "    .dataframe thead th {\n",
       "        text-align: right;\n",
       "    }\n",
       "</style>\n",
       "<table border=\"1\" class=\"dataframe\">\n",
       "  <thead>\n",
       "    <tr style=\"text-align: right;\">\n",
       "      <th></th>\n",
       "      <th>Company</th>\n",
       "      <th>Fixed_charge</th>\n",
       "      <th>RoR</th>\n",
       "      <th>Cost</th>\n",
       "      <th>Load_factor</th>\n",
       "      <th>Demand_growth</th>\n",
       "      <th>Sales</th>\n",
       "      <th>Nuclear</th>\n",
       "      <th>Fuel_Cost</th>\n",
       "    </tr>\n",
       "  </thead>\n",
       "  <tbody>\n",
       "    <tr>\n",
       "      <th>0</th>\n",
       "      <td>Arizona</td>\n",
       "      <td>1.06</td>\n",
       "      <td>9.2</td>\n",
       "      <td>151</td>\n",
       "      <td>54.4</td>\n",
       "      <td>1.6</td>\n",
       "      <td>9077</td>\n",
       "      <td>0.0</td>\n",
       "      <td>0.628</td>\n",
       "    </tr>\n",
       "    <tr>\n",
       "      <th>1</th>\n",
       "      <td>Boston</td>\n",
       "      <td>0.89</td>\n",
       "      <td>10.3</td>\n",
       "      <td>202</td>\n",
       "      <td>57.9</td>\n",
       "      <td>2.2</td>\n",
       "      <td>5088</td>\n",
       "      <td>25.3</td>\n",
       "      <td>1.555</td>\n",
       "    </tr>\n",
       "    <tr>\n",
       "      <th>2</th>\n",
       "      <td>Central</td>\n",
       "      <td>1.43</td>\n",
       "      <td>15.4</td>\n",
       "      <td>113</td>\n",
       "      <td>53.0</td>\n",
       "      <td>3.4</td>\n",
       "      <td>9212</td>\n",
       "      <td>0.0</td>\n",
       "      <td>1.058</td>\n",
       "    </tr>\n",
       "    <tr>\n",
       "      <th>3</th>\n",
       "      <td>Commonwealth</td>\n",
       "      <td>1.02</td>\n",
       "      <td>11.2</td>\n",
       "      <td>168</td>\n",
       "      <td>56.0</td>\n",
       "      <td>0.3</td>\n",
       "      <td>6423</td>\n",
       "      <td>34.3</td>\n",
       "      <td>0.700</td>\n",
       "    </tr>\n",
       "    <tr>\n",
       "      <th>4</th>\n",
       "      <td>NY</td>\n",
       "      <td>1.49</td>\n",
       "      <td>8.8</td>\n",
       "      <td>192</td>\n",
       "      <td>51.2</td>\n",
       "      <td>1.0</td>\n",
       "      <td>3300</td>\n",
       "      <td>15.6</td>\n",
       "      <td>2.044</td>\n",
       "    </tr>\n",
       "  </tbody>\n",
       "</table>\n",
       "</div>"
      ],
      "text/plain": [
       "        Company  Fixed_charge   RoR  Cost  Load_factor  Demand_growth  Sales  \\\n",
       "0      Arizona           1.06   9.2   151         54.4            1.6   9077   \n",
       "1       Boston           0.89  10.3   202         57.9            2.2   5088   \n",
       "2      Central           1.43  15.4   113         53.0            3.4   9212   \n",
       "3  Commonwealth          1.02  11.2   168         56.0            0.3   6423   \n",
       "4            NY          1.49   8.8   192         51.2            1.0   3300   \n",
       "\n",
       "   Nuclear  Fuel_Cost  \n",
       "0      0.0      0.628  \n",
       "1     25.3      1.555  \n",
       "2      0.0      1.058  \n",
       "3     34.3      0.700  \n",
       "4     15.6      2.044  "
      ]
     },
     "execution_count": 2,
     "metadata": {},
     "output_type": "execute_result"
    }
   ],
   "source": [
    "data = pd.read_csv('data/Utilities.csv')\n",
    "data.head()"
   ]
  },
  {
   "cell_type": "code",
   "execution_count": 3,
   "metadata": {},
   "outputs": [],
   "source": [
    "utilities_df = data.set_index('Company')\n",
    "kmeans = KMeans(n_clusters=2, random_state=0)"
   ]
  },
  {
   "cell_type": "code",
   "execution_count": 6,
   "metadata": {},
   "outputs": [
    {
     "data": {
      "text/plain": [
       "KMeans(algorithm='auto', copy_x=True, init='k-means++', max_iter=300,\n",
       "       n_clusters=2, n_init=10, n_jobs=None, precompute_distances='auto',\n",
       "       random_state=0, tol=0.0001, verbose=0)"
      ]
     },
     "execution_count": 6,
     "metadata": {},
     "output_type": "execute_result"
    }
   ],
   "source": [
    "kmeans.fit(utilities_df)"
   ]
  },
  {
   "cell_type": "code",
   "execution_count": 7,
   "metadata": {},
   "outputs": [
    {
     "data": {
      "text/plain": [
       "array([1, 1, 1, 1, 1, 0, 1, 0, 1, 1, 0, 1, 1, 1, 1, 0, 1, 1, 0, 1, 1, 1],\n",
       "      dtype=int32)"
      ]
     },
     "execution_count": 7,
     "metadata": {},
     "output_type": "execute_result"
    }
   ],
   "source": [
    "kmeans.labels_"
   ]
  },
  {
   "cell_type": "code",
   "execution_count": 14,
   "metadata": {},
   "outputs": [
    {
     "data": {
      "text/plain": [
       "0              [Florida , Idaho, Nevada, Puget, Texas]\n",
       "1    [Arizona , Boston , Central , Commonwealth, NY...\n",
       "Name: Company, dtype: object"
      ]
     },
     "execution_count": 14,
     "metadata": {},
     "output_type": "execute_result"
    }
   ],
   "source": [
    "utilities_df.reset_index().groupby(kmeans.labels_)['Company'].apply(list)"
   ]
  },
  {
   "cell_type": "code",
   "execution_count": 15,
   "metadata": {},
   "outputs": [
    {
     "data": {
      "text/plain": [
       "['Arizona ',\n",
       " 'Boston ',\n",
       " 'Central ',\n",
       " 'Commonwealth',\n",
       " 'NY',\n",
       " 'Hawaiian ',\n",
       " 'Kentucky',\n",
       " 'Madison ',\n",
       " 'New England',\n",
       " 'Northern',\n",
       " 'Oklahoma',\n",
       " 'Pacific ',\n",
       " 'San Diego',\n",
       " 'Southern',\n",
       " 'Wisconsin',\n",
       " 'United',\n",
       " 'Virginia']"
      ]
     },
     "execution_count": 15,
     "metadata": {},
     "output_type": "execute_result"
    }
   ],
   "source": [
    "_.to_list()[1]"
   ]
  },
  {
   "cell_type": "code",
   "execution_count": 17,
   "metadata": {},
   "outputs": [
    {
     "data": {
      "text/html": [
       "<div>\n",
       "<style scoped>\n",
       "    .dataframe tbody tr th:only-of-type {\n",
       "        vertical-align: middle;\n",
       "    }\n",
       "\n",
       "    .dataframe tbody tr th {\n",
       "        vertical-align: top;\n",
       "    }\n",
       "\n",
       "    .dataframe thead th {\n",
       "        text-align: right;\n",
       "    }\n",
       "</style>\n",
       "<table border=\"1\" class=\"dataframe\">\n",
       "  <thead>\n",
       "    <tr style=\"text-align: right;\">\n",
       "      <th></th>\n",
       "      <th>Fixed_charge</th>\n",
       "      <th>RoR</th>\n",
       "      <th>Cost</th>\n",
       "      <th>Load_factor</th>\n",
       "      <th>Demand_growth</th>\n",
       "      <th>Sales</th>\n",
       "      <th>Nuclear</th>\n",
       "      <th>Fuel_Cost</th>\n",
       "    </tr>\n",
       "  </thead>\n",
       "  <tbody>\n",
       "    <tr>\n",
       "      <th>0</th>\n",
       "      <td>1.098000</td>\n",
       "      <td>10.360000</td>\n",
       "      <td>177.000000</td>\n",
       "      <td>55.700000</td>\n",
       "      <td>2.940000</td>\n",
       "      <td>14229.600000</td>\n",
       "      <td>4.500000</td>\n",
       "      <td>0.714800</td>\n",
       "    </tr>\n",
       "    <tr>\n",
       "      <th>1</th>\n",
       "      <td>1.118824</td>\n",
       "      <td>10.847059</td>\n",
       "      <td>165.588235</td>\n",
       "      <td>57.352941</td>\n",
       "      <td>3.329412</td>\n",
       "      <td>7350.647059</td>\n",
       "      <td>14.205882</td>\n",
       "      <td>1.216824</td>\n",
       "    </tr>\n",
       "  </tbody>\n",
       "</table>\n",
       "</div>"
      ],
      "text/plain": [
       "   Fixed_charge        RoR        Cost  Load_factor  Demand_growth  \\\n",
       "0      1.098000  10.360000  177.000000    55.700000       2.940000   \n",
       "1      1.118824  10.847059  165.588235    57.352941       3.329412   \n",
       "\n",
       "          Sales    Nuclear  Fuel_Cost  \n",
       "0  14229.600000   4.500000   0.714800  \n",
       "1   7350.647059  14.205882   1.216824  "
      ]
     },
     "execution_count": 17,
     "metadata": {},
     "output_type": "execute_result"
    }
   ],
   "source": [
    "utilities_df.groupby(kmeans.labels_).mean()"
   ]
  },
  {
   "cell_type": "code",
   "execution_count": 18,
   "metadata": {},
   "outputs": [
    {
     "data": {
      "text/plain": [
       "81864278.6270715"
      ]
     },
     "execution_count": 18,
     "metadata": {},
     "output_type": "execute_result"
    }
   ],
   "source": [
    "kmeans.inertia_"
   ]
  },
  {
   "cell_type": "code",
   "execution_count": 19,
   "metadata": {},
   "outputs": [
    {
     "data": {
      "text/plain": [
       "KMeans(algorithm='auto', copy_x=True, init='k-means++', max_iter=300,\n",
       "       n_clusters=6, n_init=10, n_jobs=None, precompute_distances='auto',\n",
       "       random_state=0, tol=0.0001, verbose=0)"
      ]
     },
     "execution_count": 19,
     "metadata": {},
     "output_type": "execute_result"
    }
   ],
   "source": [
    "kmeans = KMeans(n_clusters=6, random_state=0)\n",
    "kmeans.fit(utilities_df)"
   ]
  },
  {
   "cell_type": "code",
   "execution_count": 20,
   "metadata": {},
   "outputs": [
    {
     "data": {
      "text/plain": [
       "0           [Hawaiian , Kentucky, Northern, Wisconsin]\n",
       "1                                       [Idaho, Texas]\n",
       "2    [Boston , Commonwealth, Madison , New England,...\n",
       "3                                      [Nevada, Puget]\n",
       "4    [Arizona , Central , Florida , Oklahoma, South...\n",
       "5                                                 [NY]\n",
       "Name: Company, dtype: object"
      ]
     },
     "execution_count": 20,
     "metadata": {},
     "output_type": "execute_result"
    }
   ],
   "source": [
    "utilities_df.reset_index().groupby(kmeans.labels_)['Company'].apply(list)"
   ]
  },
  {
   "cell_type": "code",
   "execution_count": 21,
   "metadata": {},
   "outputs": [
    {
     "data": {
      "text/html": [
       "<div>\n",
       "<style scoped>\n",
       "    .dataframe tbody tr th:only-of-type {\n",
       "        vertical-align: middle;\n",
       "    }\n",
       "\n",
       "    .dataframe tbody tr th {\n",
       "        vertical-align: top;\n",
       "    }\n",
       "\n",
       "    .dataframe thead th {\n",
       "        text-align: right;\n",
       "    }\n",
       "</style>\n",
       "<table border=\"1\" class=\"dataframe\">\n",
       "  <thead>\n",
       "    <tr style=\"text-align: right;\">\n",
       "      <th></th>\n",
       "      <th>Fixed_charge</th>\n",
       "      <th>RoR</th>\n",
       "      <th>Cost</th>\n",
       "      <th>Load_factor</th>\n",
       "      <th>Demand_growth</th>\n",
       "      <th>Sales</th>\n",
       "      <th>Nuclear</th>\n",
       "      <th>Fuel_Cost</th>\n",
       "    </tr>\n",
       "  </thead>\n",
       "  <tbody>\n",
       "    <tr>\n",
       "      <th>0</th>\n",
       "      <td>1.227500</td>\n",
       "      <td>12.425000</td>\n",
       "      <td>172.500000</td>\n",
       "      <td>60.400000</td>\n",
       "      <td>4.825000</td>\n",
       "      <td>7628.5</td>\n",
       "      <td>22.825000</td>\n",
       "      <td>0.935750</td>\n",
       "    </tr>\n",
       "    <tr>\n",
       "      <th>1</th>\n",
       "      <td>1.130000</td>\n",
       "      <td>10.450000</td>\n",
       "      <td>174.500000</td>\n",
       "      <td>55.500000</td>\n",
       "      <td>0.600000</td>\n",
       "      <td>13294.5</td>\n",
       "      <td>0.000000</td>\n",
       "      <td>0.472500</td>\n",
       "    </tr>\n",
       "    <tr>\n",
       "      <th>2</th>\n",
       "      <td>0.988571</td>\n",
       "      <td>9.628571</td>\n",
       "      <td>178.428571</td>\n",
       "      <td>59.142857</td>\n",
       "      <td>3.042857</td>\n",
       "      <td>6136.0</td>\n",
       "      <td>15.428571</td>\n",
       "      <td>1.458714</td>\n",
       "    </tr>\n",
       "    <tr>\n",
       "      <th>3</th>\n",
       "      <td>0.955000</td>\n",
       "      <td>8.700000</td>\n",
       "      <td>212.500000</td>\n",
       "      <td>53.750000</td>\n",
       "      <td>7.850000</td>\n",
       "      <td>16716.0</td>\n",
       "      <td>0.000000</td>\n",
       "      <td>0.694000</td>\n",
       "    </tr>\n",
       "    <tr>\n",
       "      <th>4</th>\n",
       "      <td>1.170000</td>\n",
       "      <td>12.000000</td>\n",
       "      <td>132.500000</td>\n",
       "      <td>54.700000</td>\n",
       "      <td>2.133333</td>\n",
       "      <td>9887.0</td>\n",
       "      <td>8.183333</td>\n",
       "      <td>0.988167</td>\n",
       "    </tr>\n",
       "    <tr>\n",
       "      <th>5</th>\n",
       "      <td>1.490000</td>\n",
       "      <td>8.800000</td>\n",
       "      <td>192.000000</td>\n",
       "      <td>51.200000</td>\n",
       "      <td>1.000000</td>\n",
       "      <td>3300.0</td>\n",
       "      <td>15.600000</td>\n",
       "      <td>2.044000</td>\n",
       "    </tr>\n",
       "  </tbody>\n",
       "</table>\n",
       "</div>"
      ],
      "text/plain": [
       "   Fixed_charge        RoR        Cost  Load_factor  Demand_growth    Sales  \\\n",
       "0      1.227500  12.425000  172.500000    60.400000       4.825000   7628.5   \n",
       "1      1.130000  10.450000  174.500000    55.500000       0.600000  13294.5   \n",
       "2      0.988571   9.628571  178.428571    59.142857       3.042857   6136.0   \n",
       "3      0.955000   8.700000  212.500000    53.750000       7.850000  16716.0   \n",
       "4      1.170000  12.000000  132.500000    54.700000       2.133333   9887.0   \n",
       "5      1.490000   8.800000  192.000000    51.200000       1.000000   3300.0   \n",
       "\n",
       "     Nuclear  Fuel_Cost  \n",
       "0  22.825000   0.935750  \n",
       "1   0.000000   0.472500  \n",
       "2  15.428571   1.458714  \n",
       "3   0.000000   0.694000  \n",
       "4   8.183333   0.988167  \n",
       "5  15.600000   2.044000  "
      ]
     },
     "execution_count": 21,
     "metadata": {},
     "output_type": "execute_result"
    }
   ],
   "source": [
    "utilities_df.groupby(kmeans.labels_).mean()"
   ]
  },
  {
   "cell_type": "code",
   "execution_count": 22,
   "metadata": {},
   "outputs": [
    {
     "data": {
      "text/plain": [
       "6729494.02062575"
      ]
     },
     "execution_count": 22,
     "metadata": {},
     "output_type": "execute_result"
    }
   ],
   "source": [
    "kmeans.inertia_\n"
   ]
  },
  {
   "cell_type": "code",
   "execution_count": 23,
   "metadata": {},
   "outputs": [
    {
     "data": {
      "application/javascript": [
       "var spec = {\"config\": {\"view\": {\"width\": 400, \"height\": 300}, \"mark\": {\"tooltip\": null}}, \"data\": {\"name\": \"data-0cd8abb8867fee823691f0967314020a\"}, \"mark\": \"line\", \"encoding\": {\"x\": {\"type\": \"quantitative\", \"field\": \"n_clusters\"}, \"y\": {\"type\": \"quantitative\", \"field\": \"inertia\"}}, \"$schema\": \"https://vega.github.io/schema/vega-lite/v3.3.0.json\", \"datasets\": {\"data-0cd8abb8867fee823691f0967314020a\": [{\"n_clusters\": 1, \"inertia\": 264692406.65907818}, {\"n_clusters\": 2, \"inertia\": 40932139.31353575}, {\"n_clusters\": 3, \"inertia\": 10683774.41265874}, {\"n_clusters\": 4, \"inertia\": 5085789.555197242}, {\"n_clusters\": 5, \"inertia\": 2177855.9405133985}, {\"n_clusters\": 6, \"inertia\": 1121582.3367709583}]}};\n",
       "var opt = {};\n",
       "var type = \"vega-lite\";\n",
       "var id = \"df1532ba-353f-4f52-8ce0-8328fae30be9\";\n",
       "\n",
       "var output_area = this;\n",
       "\n",
       "require([\"nbextensions/jupyter-vega/index\"], function(vega) {\n",
       "  var target = document.createElement(\"div\");\n",
       "  target.id = id;\n",
       "  target.className = \"vega-embed\";\n",
       "\n",
       "  var style = document.createElement(\"style\");\n",
       "  style.textContent = [\n",
       "    \".vega-embed .error p {\",\n",
       "    \"  color: firebrick;\",\n",
       "    \"  font-size: 14px;\",\n",
       "    \"}\",\n",
       "  ].join(\"\\\\n\");\n",
       "\n",
       "  // element is a jQuery wrapped DOM element inside the output area\n",
       "  // see http://ipython.readthedocs.io/en/stable/api/generated/\\\n",
       "  // IPython.display.html#IPython.display.Javascript.__init__\n",
       "  element[0].appendChild(target);\n",
       "  element[0].appendChild(style);\n",
       "\n",
       "  vega.render(\"#\" + id, spec, type, opt, output_area);\n",
       "}, function (err) {\n",
       "  if (err.requireType !== \"scripterror\") {\n",
       "    throw(err);\n",
       "  }\n",
       "});\n"
      ],
      "text/plain": [
       "<vega.vegalite.VegaLite at 0x1a1d921898>"
      ]
     },
     "metadata": {
      "jupyter-vega": "#df1532ba-353f-4f52-8ce0-8328fae30be9"
     },
     "output_type": "display_data"
    },
    {
     "data": {
      "text/plain": []
     },
     "execution_count": 23,
     "metadata": {},
     "output_type": "execute_result"
    },
    {
     "data": {
      "image/png": "[encoded data removed]"
     },
     "metadata": {
      "jupyter-vega": "#df1532ba-353f-4f52-8ce0-8328fae30be9"
     },
     "output_type": "display_data"
    }
   ],
   "source": [
    "inertia = []\n",
    "for n_clusters in range(1, 7):\n",
    "    kmeans = KMeans(n_clusters=n_clusters, random_state=0).fit(utilities_df)\n",
    "    inertia.append(kmeans.inertia_ / n_clusters)\n",
    "inertias = pd.DataFrame({'n_clusters': range(1, 7), 'inertia': inertia})\n",
    "alt.Chart(inertias).mark_line().encode(\n",
    "     x='n_clusters', y='inertia')"
   ]
  },
  {
   "cell_type": "code",
   "execution_count": 25,
   "metadata": {},
   "outputs": [
    {
     "data": {
      "text/html": [
       "<div>\n",
       "<style scoped>\n",
       "    .dataframe tbody tr th:only-of-type {\n",
       "        vertical-align: middle;\n",
       "    }\n",
       "\n",
       "    .dataframe tbody tr th {\n",
       "        vertical-align: top;\n",
       "    }\n",
       "\n",
       "    .dataframe thead th {\n",
       "        text-align: right;\n",
       "    }\n",
       "</style>\n",
       "<table border=\"1\" class=\"dataframe\">\n",
       "  <thead>\n",
       "    <tr style=\"text-align: right;\">\n",
       "      <th></th>\n",
       "      <th>Fixed_charge</th>\n",
       "      <th>RoR</th>\n",
       "      <th>Cost</th>\n",
       "      <th>Load_factor</th>\n",
       "      <th>Demand_growth</th>\n",
       "      <th>Sales</th>\n",
       "      <th>Nuclear</th>\n",
       "      <th>Fuel_Cost</th>\n",
       "    </tr>\n",
       "  </thead>\n",
       "  <tbody>\n",
       "    <tr>\n",
       "      <th>0</th>\n",
       "      <td>1.089091</td>\n",
       "      <td>10.263636</td>\n",
       "      <td>178.454545</td>\n",
       "      <td>58.763636</td>\n",
       "      <td>3.127273</td>\n",
       "      <td>6214.545455</td>\n",
       "      <td>19.536364</td>\n",
       "      <td>1.376000</td>\n",
       "    </tr>\n",
       "    <tr>\n",
       "      <th>1</th>\n",
       "      <td>1.042500</td>\n",
       "      <td>9.575000</td>\n",
       "      <td>193.500000</td>\n",
       "      <td>54.625000</td>\n",
       "      <td>4.225000</td>\n",
       "      <td>15005.250000</td>\n",
       "      <td>0.000000</td>\n",
       "      <td>0.583250</td>\n",
       "    </tr>\n",
       "    <tr>\n",
       "      <th>2</th>\n",
       "      <td>1.194286</td>\n",
       "      <td>12.142857</td>\n",
       "      <td>137.571429</td>\n",
       "      <td>55.514286</td>\n",
       "      <td>2.857143</td>\n",
       "      <td>9675.428571</td>\n",
       "      <td>7.014286</td>\n",
       "      <td>0.970143</td>\n",
       "    </tr>\n",
       "  </tbody>\n",
       "</table>\n",
       "</div>"
      ],
      "text/plain": [
       "   Fixed_charge        RoR        Cost  Load_factor  Demand_growth  \\\n",
       "0      1.089091  10.263636  178.454545    58.763636       3.127273   \n",
       "1      1.042500   9.575000  193.500000    54.625000       4.225000   \n",
       "2      1.194286  12.142857  137.571429    55.514286       2.857143   \n",
       "\n",
       "          Sales    Nuclear  Fuel_Cost  \n",
       "0   6214.545455  19.536364   1.376000  \n",
       "1  15005.250000   0.000000   0.583250  \n",
       "2   9675.428571   7.014286   0.970143  "
      ]
     },
     "execution_count": 25,
     "metadata": {},
     "output_type": "execute_result"
    }
   ],
   "source": [
    "utilities_df = data.set_index('Company')\n",
    "kmeans = KMeans(n_clusters=3, random_state=0).fit(utilities_df)\n",
    "utilities_df.groupby(kmeans.labels_).mean()"
   ]
  },
  {
   "cell_type": "code",
   "execution_count": null,
   "metadata": {},
   "outputs": [],
   "source": []
  }
 ],
 "metadata": {
  "kernelspec": {
   "display_name": "Python 3",
   "language": "python",
   "name": "python3"
  },
  "language_info": {
   "codemirror_mode": {
    "name": "ipython",
    "version": 3
   },
   "file_extension": ".py",
   "mimetype": "text/x-python",
   "name": "python",
   "nbconvert_exporter": "python",
   "pygments_lexer": "ipython3",
   "version": "3.8.3"
  }
 },
 "nbformat": 4,
 "nbformat_minor": 2
}
