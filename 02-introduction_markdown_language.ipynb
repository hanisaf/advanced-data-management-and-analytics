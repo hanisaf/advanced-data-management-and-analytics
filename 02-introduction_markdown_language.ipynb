{
 "cells": [
  {
   "cell_type": "markdown",
   "metadata": {
    "slideshow": {
     "slide_type": "slide"
    }
   },
   "source": [
    "[Mastering Markdown](https://guides.github.com/features/mastering-markdown/)\n",
    "\n",
    "Markdown is a way to style text on the web. You control the display of the document; formatting words as bold or italic, adding images, and creating lists are just a few of the things we can do with Markdown. Mostly, Markdown is just regular text with a few non-alphabetic characters thrown in, like `#` or `*`."
   ]
  },
  {
   "cell_type": "code",
   "execution_count": null,
   "metadata": {},
   "outputs": [],
   "source": [
    "1 + 2"
   ]
  },
  {
   "cell_type": "code",
   "execution_count": null,
   "metadata": {},
   "outputs": [],
   "source": []
  },
  {
   "cell_type": "raw",
   "metadata": {
    "slideshow": {
     "slide_type": "slide"
    }
   },
   "source": [
    "# Text\n",
    "\n",
    "It's very easy to make some words **bold** and other words *italic* with Markdown. You can even [link to Google!](http://google.com)"
   ]
  },
  {
   "cell_type": "markdown",
   "metadata": {
    "slideshow": {
     "slide_type": "slide"
    }
   },
   "source": [
    "# Text\n",
    "\n",
    "It's very easy to make some words **bold** and other words *italic* with Markdown. You can even [link to Google!](http://google.com)"
   ]
  },
  {
   "cell_type": "raw",
   "metadata": {
    "slideshow": {
     "slide_type": "slide"
    }
   },
   "source": [
    "# Lists\n",
    "\n",
    "Sometimes you want numbered lists:\n",
    "\n",
    "1. One\n",
    "2. Two\n",
    "3. Three\n",
    "\n",
    "Sometimes you want bullet points:\n",
    "\n",
    "* Start a line with a star\n",
    "* Profit!\n",
    "\n",
    "Alternatively,\n",
    "\n",
    "- Dashes work just as well\n",
    "- And if you have sub points, put two spaces before the dash or star:\n",
    "  - Like this\n",
    "  - And this\n"
   ]
  },
  {
   "cell_type": "markdown",
   "metadata": {
    "slideshow": {
     "slide_type": "slide"
    }
   },
   "source": [
    "# Lists\n",
    "\n",
    "Sometimes you want numbered lists:\n",
    "\n",
    "1. One\n",
    "2. Two\n",
    "3. Three\n",
    "\n",
    "Sometimes you want bullet points:\n",
    "\n",
    "* Start a line with a star\n",
    "* Profit!\n",
    "\n",
    "Alternatively,\n",
    "\n",
    "- Dashes work just as well\n",
    "- And if you have sub points, put two spaces before the dash or star:\n",
    "  - Like this\n",
    "  - And this\n"
   ]
  },
  {
   "cell_type": "raw",
   "metadata": {
    "slideshow": {
     "slide_type": "slide"
    }
   },
   "source": [
    "# Images\n",
    "\n",
    "If you want to embed images, this is how you do it:\n",
    "\n",
    "![Image of Yaktocat](https://octodex.github.com/images/yaktocat.png)\n",
    "\n"
   ]
  },
  {
   "cell_type": "markdown",
   "metadata": {
    "slideshow": {
     "slide_type": "slide"
    }
   },
   "source": [
    "# Images\n",
    "\n",
    "If you want to embed images, this is how you do it:\n",
    "\n",
    "![Image of Yaktocat](https://octodex.github.com/images/yaktocat.png)\n"
   ]
  },
  {
   "cell_type": "raw",
   "metadata": {
    "slideshow": {
     "slide_type": "slide"
    }
   },
   "source": [
    "# Headers & Quotes\n",
    "\n",
    "Sometimes it's useful to have different levels of headings to structure your documents. Start lines with a `#` to create headings. Multiple `##` in a row denote smaller heading sizes.\n",
    "\n",
    "### This is a third-tier heading\n",
    "\n",
    "You can use one `#` all the way up to `######` six for different heading sizes.\n",
    "\n",
    "If you'd like to quote someone, use the > character before the line:\n",
    "\n",
    "> Coffee. The finest organic suspension ever devised... I beat the Borg with it.\n",
    "> - Captain Janeway"
   ]
  },
  {
   "cell_type": "markdown",
   "metadata": {
    "slideshow": {
     "slide_type": "slide"
    }
   },
   "source": [
    "# Headers & Quotes\n",
    "\n",
    "Sometimes it's useful to have different levels of headings to structure your documents. Start lines with a `#` to create headings. Multiple `##` in a row denote smaller heading sizes.\n",
    "\n",
    "### This is a third-tier heading\n",
    "\n",
    "You can use one `#` all the way up to `######` six for different heading sizes.\n",
    "\n",
    "If you'd like to quote someone, use the > character before the line:\n",
    "\n",
    "> Coffee. The finest organic suspension ever devised... I beat the Borg with it.\n",
    "> - Captain Janeway"
   ]
  },
  {
   "cell_type": "markdown",
   "metadata": {},
   "source": [
    "# Tables\n",
    "\n",
    "Tables aren't part of the core Markdown spec, but they are part of GFM and Markdown Here supports them. They are an easy way of adding tables to your email -- a task that would otherwise require copy-pasting from another application.\n",
    "\n",
    "| A | B |\n",
    "| - | - |\n",
    "| 1 | 2 |\n",
    "| 3 | 4 | \n",
    "\n",
    "Colons can be used to align columns.\n",
    "\n",
    "| Tables        | Are           | Cool  |\n",
    "| ------------- |:-------------:| -----:|\n",
    "| col 3 is      | right-aligned | \\$1600 |\n",
    "| col 2 is      | centered      |   \\$12 |\n",
    "| zebra stripes | are neat      |    \\$1 |\n",
    "\n",
    "There must be at least 3 dashes separating each header cell.\n",
    "The outer pipes (|) are optional, and you don't need to make the \n",
    "raw Markdown line up prettily. You can also use inline Markdown.\n",
    "\n",
    "Markdown | Less | Pretty\n",
    "--- | --- | ---\n",
    "*Still* | `renders` | **nicely**\n",
    "1 | 2 | 3\n"
   ]
  },
  {
   "cell_type": "markdown",
   "metadata": {},
   "source": [
    "# Math\n",
    "\n",
    "$e=mc^2$\n",
    "\n",
    "\\begin{align*}\n",
    "  f(x) &= x^2\\\\\n",
    "  g(x) &= \\frac{1}{x}\\\\\n",
    "  F(x) &= \\int^a_b \\frac{1}{3}x^3\n",
    "\\end{align*}"
   ]
  },
  {
   "cell_type": "code",
   "execution_count": null,
   "metadata": {},
   "outputs": [],
   "source": []
  }
 ],
 "metadata": {
  "kernelspec": {
   "display_name": "Python 3",
   "language": "python",
   "name": "python3"
  },
  "language_info": {
   "codemirror_mode": {
    "name": "ipython",
    "version": 3
   },
   "file_extension": ".py",
   "mimetype": "text/x-python",
   "name": "python",
   "nbconvert_exporter": "python",
   "pygments_lexer": "ipython3",
   "version": "3.7.3"
  }
 },
 "nbformat": 4,
 "nbformat_minor": 2
}
