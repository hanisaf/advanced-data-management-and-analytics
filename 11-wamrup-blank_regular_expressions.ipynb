{
 "cells": [
  {
   "cell_type": "code",
   "execution_count": 1,
   "metadata": {},
   "outputs": [],
   "source": [
    "email = \"\"\"Hi Jane, \n",
    "I hope you are doing well. As I explained in my previous message, \n",
    "Mr. James' social is 134-44-3212. His email is james.bond@secret.org\n",
    "Please get in touch with him ASAP.\n",
    "\n",
    "Also, Mr. Bond will be dribing his Aston Martin, it has a 3-way revolving front number \n",
    "plate showing LU-6789, 4711-EA-62 or BMT-216A. Please ensure paying tolls\n",
    "for all. If you have any questions, please contact me: +44 (0)345 363 3630\n",
    "\"\"\""
   ]
  },
  {
   "cell_type": "markdown",
   "metadata": {},
   "source": [
    "Using regular expressions, extract from the email\n",
    "- numbers (e.g. social and phone numbers)\n",
    "- email address\n",
    "- license plates"
   ]
  },
  {
   "cell_type": "code",
   "execution_count": null,
   "metadata": {},
   "outputs": [],
   "source": []
  },
  {
   "cell_type": "markdown",
   "metadata": {},
   "source": [
    "Blank out this sensitive information using *"
   ]
  },
  {
   "cell_type": "code",
   "execution_count": null,
   "metadata": {},
   "outputs": [],
   "source": []
  }
 ],
 "metadata": {
  "kernelspec": {
   "display_name": "Python 3",
   "language": "python",
   "name": "python3"
  },
  "language_info": {
   "codemirror_mode": {
    "name": "ipython",
    "version": 3
   },
   "file_extension": ".py",
   "mimetype": "text/x-python",
   "name": "python",
   "nbconvert_exporter": "python",
   "pygments_lexer": "ipython3",
   "version": "3.7.6"
  }
 },
 "nbformat": 4,
 "nbformat_minor": 2
}
