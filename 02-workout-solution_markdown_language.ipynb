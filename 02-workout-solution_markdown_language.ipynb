{
 "cells": [
  {
   "cell_type": "markdown",
   "metadata": {},
   "source": [
    "Convert the [MIS faculty directory](https://www.terry.uga.edu/directory/mis/) to Markdown\n",
    "\n",
    "*You don't need to convert the whole table just few entries*"
   ]
  },
  {
   "cell_type": "markdown",
   "metadata": {},
   "source": [
    "|                                                          Image                                                          |         Name         |      Title       |    Type     |    Phone     |                    Email                    |                  Office                   |\n",
    "| ----------------------------------------------------------------------------------------------------------------------- | -------------------- | ---------------- | ----------- | ------------ | ------------------------------------------- | ----------------------------------------- |\n",
    "| ![](http://directory.domain-account.com/_resources/images/directory/faculty/Karen%20Aguar.jpg)                          | Karen Aguar          | Lecturer         | Faculty     | .            | [kaguar@uga.edu](mailto:kaguar@uga.edu)     | 630 South Lumpkin Street C428 Benson Hall |\n",
    "| ![](http://directory.domain-account.com/_resources/images/directory/faculty/JanineAronson_29143-014_portrait_large.jpg) | Janine Elyse Aronson | Professor        | Faculty     | 706-542-0991 | [jaronson@uga.edu](mailto:jaronson@uga.edu) | 630 South Lumpkin Street C418 Benson Hall |\n",
    "| ![](http://directory.domain-account.com/_resources/images/directory/students/eric%20bogert_portrait_large.jpg)          | Eric Bogert          | Doctoral Student | PhD Student | .            | [etbogert@uga.edu](mailto:etbogert@uga.edu) | 620 South Lumpkin Street B423 Amos Hall   |\n"
   ]
  },
  {
   "cell_type": "code",
   "execution_count": null,
   "metadata": {},
   "outputs": [],
   "source": []
  },
  {
   "cell_type": "markdown",
   "metadata": {},
   "source": [
    "Another table"
   ]
  },
  {
   "cell_type": "markdown",
   "metadata": {},
   "source": [
    "| Name           | Title     | Type    | Phone      | Email    |  Office   |\n",
    "| -------------- | --------- | ------- | ---------- | -------- | ---------- |\n",
    "| [Karen Aguar](https://www.terry.uga.edu/directory/mis/karen-aguar) | Lecturer | Faculty | . | [kaguar@uga.edu](mailto:kaguar@uga.edu) | 630 S. Lumpkin St. C428 Benson Hall |\n",
    "| [Parham Amiri](https://www.terry.uga.edu/directory/mis/parham-amiri) | Doctoral Student | PhD Student | . | [amiri@uga.edu](mailto:amiri@uga.edu) | . |"
   ]
  },
  {
   "cell_type": "code",
   "execution_count": null,
   "metadata": {},
   "outputs": [],
   "source": []
  }
 ],
 "metadata": {
  "kernelspec": {
   "display_name": "Python 3",
   "language": "python",
   "name": "python3"
  },
  "language_info": {
   "codemirror_mode": {
    "name": "ipython",
    "version": 3
   },
   "file_extension": ".py",
   "mimetype": "text/x-python",
   "name": "python",
   "nbconvert_exporter": "python",
   "pygments_lexer": "ipython3",
   "version": "3.7.3"
  }
 },
 "nbformat": 4,
 "nbformat_minor": 2
}
