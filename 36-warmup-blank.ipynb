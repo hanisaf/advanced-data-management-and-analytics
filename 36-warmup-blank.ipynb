{
 "cells": [
  {
   "cell_type": "code",
   "execution_count": 4,
   "metadata": {},
   "outputs": [],
   "source": [
    "from textblob import TextBlob\n",
    "import pandas as pd"
   ]
  },
  {
   "cell_type": "markdown",
   "metadata": {},
   "source": [
    "### Create a  summary for the earning calls\n",
    "\n",
    "Two ways:\n",
    "- Select noun phrases in each, rank by frequency\n",
    "- Select nouns from the text (NN, NNP, NNPS, NNS). Display the most frequent 10 nouns in each call"
   ]
  },
  {
   "cell_type": "code",
   "execution_count": 5,
   "metadata": {},
   "outputs": [],
   "source": [
    "data = pd.read_csv('data/EC10.csv')"
   ]
  },
  {
   "cell_type": "code",
   "execution_count": 6,
   "metadata": {},
   "outputs": [
    {
     "data": {
      "text/html": [
       "<div>\n",
       "<style scoped>\n",
       "    .dataframe tbody tr th:only-of-type {\n",
       "        vertical-align: middle;\n",
       "    }\n",
       "\n",
       "    .dataframe tbody tr th {\n",
       "        vertical-align: top;\n",
       "    }\n",
       "\n",
       "    .dataframe thead th {\n",
       "        text-align: right;\n",
       "    }\n",
       "</style>\n",
       "<table border=\"1\" class=\"dataframe\">\n",
       "  <thead>\n",
       "    <tr style=\"text-align: right;\">\n",
       "      <th></th>\n",
       "      <th>id</th>\n",
       "      <th>text</th>\n",
       "      <th>date</th>\n",
       "      <th>company</th>\n",
       "      <th>sector</th>\n",
       "    </tr>\n",
       "  </thead>\n",
       "  <tbody>\n",
       "    <tr>\n",
       "      <td>0</td>\n",
       "      <td>32934</td>\n",
       "      <td>Zoe's Kitchen, Inc. (NYSE:ZOES)\\nQ2 2015 Earni...</td>\n",
       "      <td>2015-08-28 00:11:00</td>\n",
       "      <td>Zoe's Kitchen, Inc.</td>\n",
       "      <td>Consumer Services</td>\n",
       "    </tr>\n",
       "    <tr>\n",
       "      <td>1</td>\n",
       "      <td>32905</td>\n",
       "      <td>Autodesk, Inc. (NASDAQ:ADSK)\\nQ2 2016 Earnings...</td>\n",
       "      <td>2015-08-28 00:07:00</td>\n",
       "      <td>Autodesk, Inc.</td>\n",
       "      <td>Technology</td>\n",
       "    </tr>\n",
       "    <tr>\n",
       "      <td>2</td>\n",
       "      <td>32926</td>\n",
       "      <td>Smith &amp; Wesson Holding Corp. (NASDAQ:SWHC)\\nQ1...</td>\n",
       "      <td>2015-08-27 23:25:00</td>\n",
       "      <td>Smith &amp; Wesson Holding Corporation</td>\n",
       "      <td>Capital Goods</td>\n",
       "    </tr>\n",
       "    <tr>\n",
       "      <td>3</td>\n",
       "      <td>32930</td>\n",
       "      <td>Ulta Salon, Cosmetics &amp; Fragrance, Inc. (NASDA...</td>\n",
       "      <td>2015-08-27 23:09:00</td>\n",
       "      <td>Ulta Salon, Cosmetics &amp; Fragrance, Inc.</td>\n",
       "      <td>Consumer Services</td>\n",
       "    </tr>\n",
       "    <tr>\n",
       "      <td>4</td>\n",
       "      <td>32907</td>\n",
       "      <td>Splunk Inc. (NASDAQ:SPLK)\\nQ2 2016 Earnings Co...</td>\n",
       "      <td>2015-08-27 22:56:00</td>\n",
       "      <td>Splunk Inc.</td>\n",
       "      <td>Technology</td>\n",
       "    </tr>\n",
       "  </tbody>\n",
       "</table>\n",
       "</div>"
      ],
      "text/plain": [
       "      id                                               text  \\\n",
       "0  32934  Zoe's Kitchen, Inc. (NYSE:ZOES)\\nQ2 2015 Earni...   \n",
       "1  32905  Autodesk, Inc. (NASDAQ:ADSK)\\nQ2 2016 Earnings...   \n",
       "2  32926  Smith & Wesson Holding Corp. (NASDAQ:SWHC)\\nQ1...   \n",
       "3  32930  Ulta Salon, Cosmetics & Fragrance, Inc. (NASDA...   \n",
       "4  32907  Splunk Inc. (NASDAQ:SPLK)\\nQ2 2016 Earnings Co...   \n",
       "\n",
       "                  date                                  company  \\\n",
       "0  2015-08-28 00:11:00                      Zoe's Kitchen, Inc.   \n",
       "1  2015-08-28 00:07:00                           Autodesk, Inc.   \n",
       "2  2015-08-27 23:25:00       Smith & Wesson Holding Corporation   \n",
       "3  2015-08-27 23:09:00  Ulta Salon, Cosmetics & Fragrance, Inc.   \n",
       "4  2015-08-27 22:56:00                              Splunk Inc.   \n",
       "\n",
       "              sector  \n",
       "0  Consumer Services  \n",
       "1         Technology  \n",
       "2      Capital Goods  \n",
       "3  Consumer Services  \n",
       "4         Technology  "
      ]
     },
     "execution_count": 6,
     "metadata": {},
     "output_type": "execute_result"
    }
   ],
   "source": [
    "data.head()"
   ]
  },
  {
   "cell_type": "code",
   "execution_count": null,
   "metadata": {},
   "outputs": [],
   "source": []
  }
 ],
 "metadata": {
  "kernelspec": {
   "display_name": "Python 3",
   "language": "python",
   "name": "python3"
  },
  "language_info": {
   "codemirror_mode": {
    "name": "ipython",
    "version": 3
   },
   "file_extension": ".py",
   "mimetype": "text/x-python",
   "name": "python",
   "nbconvert_exporter": "python",
   "pygments_lexer": "ipython3",
   "version": "3.8.3"
  }
 },
 "nbformat": 4,
 "nbformat_minor": 2
}
