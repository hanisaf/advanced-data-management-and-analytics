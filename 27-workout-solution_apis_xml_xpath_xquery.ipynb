{
 "cells": [
  {
   "cell_type": "markdown",
   "metadata": {},
   "source": [
    "The following URL pulls the total population in the USA over time in XML format\n",
    "`http://api.worldbank.org/v2/country/US/indicator/SP.POP.TOTL?per_page=100`\n",
    "\n",
    "What year was the largest growth since the year before?"
   ]
  },
  {
   "cell_type": "code",
   "execution_count": 4,
   "metadata": {},
   "outputs": [],
   "source": [
    "import requests\n",
    "import pandas as pd\n",
    "import xml.etree.ElementTree as ET"
   ]
  },
  {
   "cell_type": "code",
   "execution_count": 5,
   "metadata": {},
   "outputs": [
    {
     "name": "stdout",
     "output_type": "stream",
     "text": [
      "200\n"
     ]
    }
   ],
   "source": [
    "response = requests.get(\"http://api.worldbank.org/v2/country/US/indicator/SP.POP.TOTL?per_page=100\")\n",
    "print(response.status_code)\n",
    "if response.status_code == 200:\n",
    "    text = response.text"
   ]
  },
  {
   "cell_type": "code",
   "execution_count": 7,
   "metadata": {},
   "outputs": [],
   "source": [
    "root = ET.fromstring(text)"
   ]
  },
  {
   "cell_type": "code",
   "execution_count": 21,
   "metadata": {},
   "outputs": [],
   "source": [
    "res = []\n",
    "for datapoint in root.findall(\"./{http://www.worldbank.org}data\"):\n",
    "    year = datapoint.find(\"{http://www.worldbank.org}date\").text\n",
    "    population = datapoint.find(\"{http://www.worldbank.org}value\").text\n",
    "    res.append({\"year\":year, \"population\":population})"
   ]
  },
  {
   "cell_type": "code",
   "execution_count": 26,
   "metadata": {},
   "outputs": [],
   "source": [
    "df = pd.DataFrame(res)"
   ]
  },
  {
   "cell_type": "code",
   "execution_count": 28,
   "metadata": {},
   "outputs": [
    {
     "data": {
      "text/plain": [
       "year          object\n",
       "population    object\n",
       "dtype: object"
      ]
     },
     "execution_count": 28,
     "metadata": {},
     "output_type": "execute_result"
    }
   ],
   "source": [
    "df.dtypes"
   ]
  },
  {
   "cell_type": "code",
   "execution_count": 29,
   "metadata": {},
   "outputs": [],
   "source": [
    "df['population'] = pd.to_numeric(df['population'])"
   ]
  },
  {
   "cell_type": "code",
   "execution_count": 31,
   "metadata": {},
   "outputs": [],
   "source": [
    "df['year'] = pd.to_datetime(df['year'])"
   ]
  },
  {
   "cell_type": "code",
   "execution_count": 36,
   "metadata": {},
   "outputs": [
    {
     "data": {
      "text/plain": [
       "year\n",
       "1960-01-01    180671000\n",
       "1961-01-01    183691000\n",
       "1962-01-01    186538000\n",
       "1963-01-01    189242000\n",
       "1964-01-01    191889000\n",
       "1965-01-01    194303000\n",
       "1966-01-01    196560000\n",
       "1967-01-01    198712000\n",
       "1968-01-01    200706000\n",
       "1969-01-01    202677000\n",
       "1970-01-01    205052000\n",
       "1971-01-01    207661000\n",
       "1972-01-01    209896000\n",
       "1973-01-01    211909000\n",
       "1974-01-01    213854000\n",
       "1975-01-01    215973000\n",
       "1976-01-01    218035000\n",
       "1977-01-01    220239000\n",
       "1978-01-01    222585000\n",
       "1979-01-01    225055000\n",
       "1980-01-01    227225000\n",
       "1981-01-01    229466000\n",
       "1982-01-01    231664000\n",
       "1983-01-01    233792000\n",
       "1984-01-01    235825000\n",
       "1985-01-01    237924000\n",
       "1986-01-01    240133000\n",
       "1987-01-01    242289000\n",
       "1988-01-01    244499000\n",
       "1989-01-01    246819000\n",
       "1990-01-01    249623000\n",
       "1991-01-01    252981000\n",
       "1992-01-01    256514000\n",
       "1993-01-01    259919000\n",
       "1994-01-01    263126000\n",
       "1995-01-01    266278000\n",
       "1996-01-01    269394000\n",
       "1997-01-01    272657000\n",
       "1998-01-01    275854000\n",
       "1999-01-01    279040000\n",
       "2000-01-01    282162411\n",
       "2001-01-01    284968955\n",
       "2002-01-01    287625193\n",
       "2003-01-01    290107933\n",
       "2004-01-01    292805298\n",
       "2005-01-01    295516599\n",
       "2006-01-01    298379912\n",
       "2007-01-01    301231207\n",
       "2008-01-01    304093966\n",
       "2009-01-01    306771529\n",
       "2010-01-01    309326085\n",
       "2011-01-01    311580009\n",
       "2012-01-01    313874218\n",
       "2013-01-01    316057727\n",
       "2014-01-01    318386421\n",
       "2015-01-01    320742673\n",
       "2016-01-01    323071342\n",
       "2017-01-01    325147121\n",
       "2018-01-01    327167434\n",
       "Name: population, dtype: int64"
      ]
     },
     "execution_count": 36,
     "metadata": {},
     "output_type": "execute_result"
    }
   ],
   "source": [
    "series = df.set_index('year')['population'].sort_index()\n",
    "series"
   ]
  },
  {
   "cell_type": "code",
   "execution_count": 43,
   "metadata": {},
   "outputs": [],
   "source": [
    "delta_pop = 100* ( series - series.shift() ) / series.shift()"
   ]
  },
  {
   "cell_type": "code",
   "execution_count": 45,
   "metadata": {},
   "outputs": [
    {
     "data": {
      "text/plain": [
       "year\n",
       "1961-01-01    1.671547\n",
       "1962-01-01    1.549885\n",
       "1963-01-01    1.449571\n",
       "1964-01-01    1.398738\n",
       "1992-01-01    1.396548\n",
       "Name: population, dtype: float64"
      ]
     },
     "execution_count": 45,
     "metadata": {},
     "output_type": "execute_result"
    }
   ],
   "source": [
    "delta_pop.sort_values(ascending=False).head()"
   ]
  },
  {
   "cell_type": "code",
   "execution_count": null,
   "metadata": {},
   "outputs": [],
   "source": []
  }
 ],
 "metadata": {
  "kernelspec": {
   "display_name": "Python 3",
   "language": "python",
   "name": "python3"
  },
  "language_info": {
   "codemirror_mode": {
    "name": "ipython",
    "version": 3
   },
   "file_extension": ".py",
   "mimetype": "text/x-python",
   "name": "python",
   "nbconvert_exporter": "python",
   "pygments_lexer": "ipython3",
   "version": "3.7.3"
  }
 },
 "nbformat": 4,
 "nbformat_minor": 2
}
