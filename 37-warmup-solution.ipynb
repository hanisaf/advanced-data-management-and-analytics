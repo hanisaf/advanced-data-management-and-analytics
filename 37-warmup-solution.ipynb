{
 "cells": [
  {
   "cell_type": "code",
   "execution_count": null,
   "metadata": {},
   "outputs": [],
   "source": [
    "#uncomment and run to install textblob\n",
    "#import sys\n",
    "#!{sys.executable} -m pip install textblob\n",
    "#!{sys.executable} -m textblob.download_corpora"
   ]
  },
  {
   "cell_type": "code",
   "execution_count": 1,
   "metadata": {},
   "outputs": [],
   "source": [
    "import pandas as pd\n",
    "from textblob import TextBlob"
   ]
  },
  {
   "cell_type": "markdown",
   "metadata": {},
   "source": [
    "### What is the most positive sentence, and the most negative sentence in the earning calls?\n",
    "\n",
    "### Incorporate subjectivity and select objective sentiments (low subjectivity)"
   ]
  },
  {
   "cell_type": "code",
   "execution_count": 2,
   "metadata": {},
   "outputs": [],
   "source": [
    "data = pd.read_csv('data/EC10.csv')"
   ]
  },
  {
   "cell_type": "code",
   "execution_count": 3,
   "metadata": {},
   "outputs": [
    {
     "data": {
      "text/html": [
       "<div>\n",
       "<style scoped>\n",
       "    .dataframe tbody tr th:only-of-type {\n",
       "        vertical-align: middle;\n",
       "    }\n",
       "\n",
       "    .dataframe tbody tr th {\n",
       "        vertical-align: top;\n",
       "    }\n",
       "\n",
       "    .dataframe thead th {\n",
       "        text-align: right;\n",
       "    }\n",
       "</style>\n",
       "<table border=\"1\" class=\"dataframe\">\n",
       "  <thead>\n",
       "    <tr style=\"text-align: right;\">\n",
       "      <th></th>\n",
       "      <th>id</th>\n",
       "      <th>text</th>\n",
       "      <th>date</th>\n",
       "      <th>company</th>\n",
       "      <th>sector</th>\n",
       "    </tr>\n",
       "  </thead>\n",
       "  <tbody>\n",
       "    <tr>\n",
       "      <th>0</th>\n",
       "      <td>32934</td>\n",
       "      <td>Zoe's Kitchen, Inc. (NYSE:ZOES)\\r\\nQ2 2015 Ear...</td>\n",
       "      <td>2015-08-28 00:11:00</td>\n",
       "      <td>Zoe's Kitchen, Inc.</td>\n",
       "      <td>Consumer Services</td>\n",
       "    </tr>\n",
       "    <tr>\n",
       "      <th>1</th>\n",
       "      <td>32905</td>\n",
       "      <td>Autodesk, Inc. (NASDAQ:ADSK)\\r\\nQ2 2016 Earnin...</td>\n",
       "      <td>2015-08-28 00:07:00</td>\n",
       "      <td>Autodesk, Inc.</td>\n",
       "      <td>Technology</td>\n",
       "    </tr>\n",
       "    <tr>\n",
       "      <th>2</th>\n",
       "      <td>32926</td>\n",
       "      <td>Smith &amp; Wesson Holding Corp. (NASDAQ:SWHC)\\r\\n...</td>\n",
       "      <td>2015-08-27 23:25:00</td>\n",
       "      <td>Smith &amp; Wesson Holding Corporation</td>\n",
       "      <td>Capital Goods</td>\n",
       "    </tr>\n",
       "    <tr>\n",
       "      <th>3</th>\n",
       "      <td>32930</td>\n",
       "      <td>Ulta Salon, Cosmetics &amp; Fragrance, Inc. (NASDA...</td>\n",
       "      <td>2015-08-27 23:09:00</td>\n",
       "      <td>Ulta Salon, Cosmetics &amp; Fragrance, Inc.</td>\n",
       "      <td>Consumer Services</td>\n",
       "    </tr>\n",
       "    <tr>\n",
       "      <th>4</th>\n",
       "      <td>32907</td>\n",
       "      <td>Splunk Inc. (NASDAQ:SPLK)\\r\\nQ2 2016 Earnings ...</td>\n",
       "      <td>2015-08-27 22:56:00</td>\n",
       "      <td>Splunk Inc.</td>\n",
       "      <td>Technology</td>\n",
       "    </tr>\n",
       "  </tbody>\n",
       "</table>\n",
       "</div>"
      ],
      "text/plain": [
       "      id                                               text  \\\n",
       "0  32934  Zoe's Kitchen, Inc. (NYSE:ZOES)\\r\\nQ2 2015 Ear...   \n",
       "1  32905  Autodesk, Inc. (NASDAQ:ADSK)\\r\\nQ2 2016 Earnin...   \n",
       "2  32926  Smith & Wesson Holding Corp. (NASDAQ:SWHC)\\r\\n...   \n",
       "3  32930  Ulta Salon, Cosmetics & Fragrance, Inc. (NASDA...   \n",
       "4  32907  Splunk Inc. (NASDAQ:SPLK)\\r\\nQ2 2016 Earnings ...   \n",
       "\n",
       "                  date                                  company  \\\n",
       "0  2015-08-28 00:11:00                      Zoe's Kitchen, Inc.   \n",
       "1  2015-08-28 00:07:00                           Autodesk, Inc.   \n",
       "2  2015-08-27 23:25:00       Smith & Wesson Holding Corporation   \n",
       "3  2015-08-27 23:09:00  Ulta Salon, Cosmetics & Fragrance, Inc.   \n",
       "4  2015-08-27 22:56:00                              Splunk Inc.   \n",
       "\n",
       "              sector  \n",
       "0  Consumer Services  \n",
       "1         Technology  \n",
       "2      Capital Goods  \n",
       "3  Consumer Services  \n",
       "4         Technology  "
      ]
     },
     "execution_count": 3,
     "metadata": {},
     "output_type": "execute_result"
    }
   ],
   "source": [
    "data.head()"
   ]
  },
  {
   "cell_type": "code",
   "execution_count": 70,
   "metadata": {
    "scrolled": false
   },
   "outputs": [],
   "source": [
    "def most_polarized(text, direction=\"positive\", objectivity=False):\n",
    "    blob = TextBlob(text)\n",
    "    polarities = {\n",
    "        sentence.raw:sentence.sentiment[0] if not objectivity else sentence.sentiment[0] * (1 - sentence.sentiment[1]) \n",
    "    for sentence in blob.sentences}\n",
    "    if direction==\"positive\":\n",
    "        most_polarized = pd.Series(polarities).idxmax()\n",
    "    elif direction==\"negative\":\n",
    "        most_polarized = pd.Series(polarities).idxmin()\n",
    "    else:\n",
    "        most_polarized = None\n",
    "    return most_polarized"
   ]
  },
  {
   "cell_type": "code",
   "execution_count": 71,
   "metadata": {},
   "outputs": [],
   "source": [
    "data['most positive'] = data['text'].apply(most_polarized)"
   ]
  },
  {
   "cell_type": "code",
   "execution_count": 72,
   "metadata": {},
   "outputs": [],
   "source": [
    "data['most negative'] = data['text'].apply(\n",
    "    lambda text:  most_polarized(text, direction=\"negative\")\n",
    ")"
   ]
  },
  {
   "cell_type": "code",
   "execution_count": 74,
   "metadata": {},
   "outputs": [],
   "source": [
    "#data['most negative'].to_list()"
   ]
  },
  {
   "cell_type": "code",
   "execution_count": 75,
   "metadata": {},
   "outputs": [],
   "source": [
    "data['most positive objective'] = data['text'].apply(\n",
    "    lambda text:  most_polarized(text, direction=\"positive\", objectivity=True)\n",
    ")"
   ]
  },
  {
   "cell_type": "code",
   "execution_count": 76,
   "metadata": {},
   "outputs": [],
   "source": [
    "data['most negative objective'] = data['text'].apply(\n",
    "    lambda text:  most_polarized(text, direction=\"negative\", objectivity=True)\n",
    ")"
   ]
  },
  {
   "cell_type": "code",
   "execution_count": 78,
   "metadata": {},
   "outputs": [
    {
     "data": {
      "text/plain": [
       "[\"Also during today's call, we will discuss non-GAAP measures, which we believe can be useful in evaluating our performance.\",\n",
       " 'Good afternoon.',\n",
       " 'We have what we believe the best margins in the industry, so why not leverage that.',\n",
       " 'Now turning to Ultamate Rewards loyalty program, we continue to reward our best guests with a differentiated experience, driving increased engagement and satisfaction.',\n",
       " 'We continue to improve the core Splunk enterprise and all the core platform elements so that it can be the very best indexing engine and data analytics device known to man.',\n",
       " \"Tony D. Bartel - Chief Operating Officer\\r\\nIt's probably the best indicator we have.\",\n",
       " 'Our Board of Directors unanimously concluded that this arrangement is the best way to maximize value of our stockholders, providing them with immediate cash value for their investment.',\n",
       " 'Rudy Sankovic\\r\\nThank you, Operator and good afternoon, everyone.',\n",
       " 'Todd Noden\\r\\nGood afternoon, everyone.',\n",
       " 'So I think its best I could talk about a couple of examples.']"
      ]
     },
     "execution_count": 78,
     "metadata": {},
     "output_type": "execute_result"
    }
   ],
   "source": [
    "data['most positive objective'].to_list()"
   ]
  },
  {
   "cell_type": "code",
   "execution_count": 80,
   "metadata": {},
   "outputs": [
    {
     "data": {
      "text/plain": [
       "['And then secondarily, any thoughts on small-order delivery?',\n",
       " 'If I just compare the press releases over the past couple of quarters here, in Q4 you talked about the majority of the subscriber additions being maintenance subscriptions.',\n",
       " \"And then the promotional activity – promotional discounting that you're doing, given the dramatic rise in NICS data, why continue the promotional activity?\",\n",
       " 'Or what has that looked like in the past?',\n",
       " 'Splunk helped them failed customer transactions by 95%, increased customer satisfaction and doubled the revenue through their mobile point of sales systems, Sephora said, “Splunk has helped us to move from ambiguity to transparency.',\n",
       " \"Rob and Tony will provide color on the video game business and the Tech Brands' metrics.\",\n",
       " 'During this past 20 years, we have seen the coming to dominance of CMOS as a technological basis for image sensors and the exploding of the imaging market.',\n",
       " 'From a competitive standpoint, though you guys being forced to chase the terms that are being pushed out?',\n",
       " 'Depreciation and amortization expense decreased $476,000 to $3.9 million in the second quarter from $4.4 million in the prior-year quarter.',\n",
       " 'As we think about the rest of the year you reiterated approximate 30% growth in billings for the rest of the year.']"
      ]
     },
     "execution_count": 80,
     "metadata": {},
     "output_type": "execute_result"
    }
   ],
   "source": [
    "data['most negative objective'].to_list()"
   ]
  },
  {
   "cell_type": "code",
   "execution_count": null,
   "metadata": {},
   "outputs": [],
   "source": []
  }
 ],
 "metadata": {
  "kernelspec": {
   "display_name": "Python 3",
   "language": "python",
   "name": "python3"
  },
  "language_info": {
   "codemirror_mode": {
    "name": "ipython",
    "version": 3
   },
   "file_extension": ".py",
   "mimetype": "text/x-python",
   "name": "python",
   "nbconvert_exporter": "python",
   "pygments_lexer": "ipython3",
   "version": "3.7.6"
  }
 },
 "nbformat": 4,
 "nbformat_minor": 2
}
