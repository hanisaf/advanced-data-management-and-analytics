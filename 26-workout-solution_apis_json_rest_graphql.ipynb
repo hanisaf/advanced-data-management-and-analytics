{
 "cells": [
  {
   "cell_type": "code",
   "execution_count": 11,
   "metadata": {},
   "outputs": [],
   "source": [
    "import requests\n",
    "import pandas as pd\n",
    "import json"
   ]
  },
  {
   "cell_type": "markdown",
   "metadata": {},
   "source": [
    "[OECD](https://en.wikipedia.org/wiki/OECD) countries are:\n",
    "- Australia\n",
    "- Austria\n",
    "- Belgium\n",
    "- Canada\n",
    "- Chile\n",
    "- Czech Republic\n",
    "- Denmark\n",
    "- Estonia\n",
    "- Finland\n",
    "- France\n",
    "- Germany\n",
    "- Greece\n",
    "- Hungary\n",
    "- Iceland\n",
    "- Ireland\n",
    "- Israel\n",
    "- Italy\n",
    "- Japan\n",
    "- Latvia\n",
    "- Lithuania\n",
    "- Luxembourg\n",
    "- Mexico\n",
    "- Netherlands\n",
    "- New Zealand\n",
    "- Norway\n",
    "- Poland\n",
    "- Portugal\n",
    "- Slovenia\n",
    "- Spain\n",
    "- Sweden\n",
    "- Switzerland\n",
    "- Turkey\n",
    "- United Kingdom\n",
    "- United States\n",
    "\n",
    "Using [World Bank Open Data](https://data.worldbank.org)\n",
    "- Rank these countries based on the health expenditure as % of GDP in 2016 \n",
    "- Rank these countries based on the life expectany at birth\n",
    "- Which countries spend a lot on healthcare but lag in terms of life expectancy?"
   ]
  },
  {
   "cell_type": "code",
   "execution_count": 51,
   "metadata": {},
   "outputs": [],
   "source": [
    "countries = \"\"\"- Australia\n",
    "- Austria\n",
    "- Belgium\n",
    "- Canada\n",
    "- Chile\n",
    "- Czech Republic\n",
    "- Denmark\n",
    "- Estonia\n",
    "- Finland\n",
    "- France\n",
    "- Germany\n",
    "- Greece\n",
    "- Hungary\n",
    "- Iceland\n",
    "- Ireland\n",
    "- Israel\n",
    "- Italy\n",
    "- Japan\n",
    "- Latvia\n",
    "- Lithuania\n",
    "- Luxembourg\n",
    "- Mexico\n",
    "- Netherlands\n",
    "- New Zealand\n",
    "- Norway\n",
    "- Poland\n",
    "- Portugal\n",
    "- Slovenia\n",
    "- Spain\n",
    "- Sweden\n",
    "- Switzerland\n",
    "- Turkey\n",
    "- United Kingdom\n",
    "- United States\"\"\""
   ]
  },
  {
   "cell_type": "code",
   "execution_count": 52,
   "metadata": {},
   "outputs": [],
   "source": [
    "import re"
   ]
  },
  {
   "cell_type": "code",
   "execution_count": 53,
   "metadata": {},
   "outputs": [],
   "source": [
    "countries=re.compile(\"\\w[\\w ]+\").findall(countries)"
   ]
  },
  {
   "cell_type": "code",
   "execution_count": 13,
   "metadata": {},
   "outputs": [],
   "source": [
    "indicators = [\"SH.XPD.CHEX.GD.ZS\", \"SP.DYN.LE00.IN\"]"
   ]
  },
  {
   "cell_type": "code",
   "execution_count": 25,
   "metadata": {},
   "outputs": [],
   "source": [
    "endpoints = [f\"http://api.worldbank.org/v2/country/all/indicator/{indicator}?date=2016&format=json&per_page=300\" \n",
    "             for indicator in indicators]"
   ]
  },
  {
   "cell_type": "code",
   "execution_count": 26,
   "metadata": {},
   "outputs": [
    {
     "data": {
      "text/plain": [
       "['http://api.worldbank.org/v2/country/all/indicator/SH.XPD.CHEX.GD.ZS?date=2016&format=json&per_page=300',\n",
       " 'http://api.worldbank.org/v2/country/all/indicator/SP.DYN.LE00.IN?date=2016&format=json&per_page=300']"
      ]
     },
     "execution_count": 26,
     "metadata": {},
     "output_type": "execute_result"
    }
   ],
   "source": [
    "endpoints"
   ]
  },
  {
   "cell_type": "code",
   "execution_count": 32,
   "metadata": {},
   "outputs": [],
   "source": [
    "data=[requests.get(endpoint).json()[1] for endpoint in endpoints]"
   ]
  },
  {
   "cell_type": "code",
   "execution_count": 35,
   "metadata": {},
   "outputs": [],
   "source": [
    "health = pd.DataFrame(data[0])\n",
    "life = pd.DataFrame(data[1])"
   ]
  },
  {
   "cell_type": "code",
   "execution_count": 37,
   "metadata": {},
   "outputs": [],
   "source": [
    "health['country'] = health['country'].apply(lambda x: x['value'])\n",
    "health_series = health.set_index('country').loc[countries]['value']"
   ]
  },
  {
   "cell_type": "code",
   "execution_count": 58,
   "metadata": {},
   "outputs": [],
   "source": [
    "life['country'] = life['country'].apply(lambda x: x['value'])\n",
    "life_series = life.set_index('country').loc[countries]['value']"
   ]
  },
  {
   "cell_type": "code",
   "execution_count": 60,
   "metadata": {},
   "outputs": [
    {
     "data": {
      "text/plain": [
       "country\n",
       "United States     17.073415\n",
       "Switzerland       12.247604\n",
       "France            11.539295\n",
       "Germany           11.139168\n",
       "Sweden            10.934793\n",
       "Japan             10.926123\n",
       "Canada            10.534655\n",
       "Norway            10.500630\n",
       "Austria           10.437626\n",
       "Netherlands       10.359320\n",
       "Denmark           10.350040\n",
       "Belgium           10.038418\n",
       "United Kingdom     9.762348\n",
       "Finland            9.493058\n",
       "Australia          9.252092\n",
       "New Zealand        9.221936\n",
       "Portugal           9.076361\n",
       "Spain              8.970389\n",
       "Italy              8.935493\n",
       "Chile              8.528940\n",
       "Slovenia           8.468295\n",
       "Greece             8.454293\n",
       "Iceland            8.291515\n",
       "Ireland            7.378304\n",
       "Hungary            7.364794\n",
       "Israel             7.314411\n",
       "Czech Republic     7.149599\n",
       "Estonia            6.683684\n",
       "Lithuania          6.671583\n",
       "Poland             6.516479\n",
       "Latvia             6.242930\n",
       "Luxembourg         6.163786\n",
       "Mexico             5.469001\n",
       "Turkey             4.314320\n",
       "Name: value, dtype: float64"
      ]
     },
     "execution_count": 60,
     "metadata": {},
     "output_type": "execute_result"
    }
   ],
   "source": [
    "health_series.sort_values(ascending=False)"
   ]
  },
  {
   "cell_type": "code",
   "execution_count": 61,
   "metadata": {},
   "outputs": [
    {
     "data": {
      "text/plain": [
       "country\n",
       "Japan             83.984878\n",
       "Switzerland       83.602439\n",
       "Spain             83.329268\n",
       "Italy             83.243902\n",
       "Luxembourg        82.685366\n",
       "France            82.524390\n",
       "Australia         82.448780\n",
       "Norway            82.407317\n",
       "Israel            82.407317\n",
       "Sweden            82.307317\n",
       "Iceland           82.204878\n",
       "Canada            82.142244\n",
       "Ireland           81.704878\n",
       "Austria           81.641463\n",
       "New Zealand       81.612439\n",
       "Netherlands       81.560976\n",
       "Belgium           81.439024\n",
       "Finland           81.429268\n",
       "Greece            81.387805\n",
       "Slovenia          81.175610\n",
       "United Kingdom    81.156098\n",
       "Portugal          81.124390\n",
       "Germany           80.990244\n",
       "Denmark           80.853659\n",
       "Chile             79.779000\n",
       "Czech Republic    79.026829\n",
       "United States     78.539024\n",
       "Poland            77.851220\n",
       "Estonia           77.641463\n",
       "Turkey            76.860000\n",
       "Hungary           76.063415\n",
       "Mexico            74.917000\n",
       "Lithuania         74.670732\n",
       "Latvia            74.580488\n",
       "Name: value, dtype: float64"
      ]
     },
     "execution_count": 61,
     "metadata": {},
     "output_type": "execute_result"
    }
   ],
   "source": [
    "life_series.sort_values(ascending=False)"
   ]
  },
  {
   "cell_type": "code",
   "execution_count": 62,
   "metadata": {},
   "outputs": [],
   "source": [
    "health_efficiency = life_series / health_series"
   ]
  },
  {
   "cell_type": "code",
   "execution_count": 63,
   "metadata": {},
   "outputs": [
    {
     "data": {
      "text/plain": [
       "country\n",
       "Turkey            17.815091\n",
       "Mexico            13.698479\n",
       "Luxembourg        13.414705\n",
       "Poland            11.946823\n",
       "Latvia            11.946393\n",
       "Estonia           11.616566\n",
       "Israel            11.266432\n",
       "Lithuania         11.192357\n",
       "Ireland           11.073666\n",
       "Czech Republic    11.053323\n",
       "Hungary           10.327976\n",
       "Iceland            9.914338\n",
       "Greece             9.626801\n",
       "Slovenia           9.585827\n",
       "Chile              9.353918\n",
       "Italy              9.316095\n",
       "Spain              9.289370\n",
       "Portugal           8.937986\n",
       "Australia          8.911366\n",
       "New Zealand        8.849817\n",
       "Finland            8.577770\n",
       "United Kingdom     8.313174\n",
       "Belgium            8.112735\n",
       "Netherlands        7.873198\n",
       "Norway             7.847845\n",
       "Austria            7.821842\n",
       "Denmark            7.811917\n",
       "Canada             7.797336\n",
       "Japan              7.686613\n",
       "Sweden             7.527103\n",
       "Germany            7.270763\n",
       "France             7.151597\n",
       "Switzerland        6.826024\n",
       "United States      4.600077\n",
       "Name: value, dtype: float64"
      ]
     },
     "execution_count": 63,
     "metadata": {},
     "output_type": "execute_result"
    }
   ],
   "source": [
    "health_efficiency.sort_values(ascending=False)"
   ]
  },
  {
   "cell_type": "code",
   "execution_count": null,
   "metadata": {},
   "outputs": [],
   "source": []
  }
 ],
 "metadata": {
  "kernelspec": {
   "display_name": "Python 3",
   "language": "python",
   "name": "python3"
  },
  "language_info": {
   "codemirror_mode": {
    "name": "ipython",
    "version": 3
   },
   "file_extension": ".py",
   "mimetype": "text/x-python",
   "name": "python",
   "nbconvert_exporter": "python",
   "pygments_lexer": "ipython3",
   "version": "3.7.3"
  }
 },
 "nbformat": 4,
 "nbformat_minor": 2
}
