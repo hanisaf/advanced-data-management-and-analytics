{
 "cells": [
  {
   "cell_type": "code",
   "execution_count": 1,
   "metadata": {},
   "outputs": [],
   "source": [
    "import pandas as pd\n",
    "import numpy as np"
   ]
  },
  {
   "cell_type": "markdown",
   "metadata": {},
   "source": [
    "This exercise uses data from: \n",
    " Zaker, Farzin, 2019, \"Online Shopping Store - Web Server Logs\", https://doi.org/10.7910/DVN/3QBYB5, Harvard Dataverse, V1 \n",
    " \n",
    "The files `server_log_00.txt` `server_log_01.txt` `server_log_02.txt` `server_log_03.txt` `server_log_04.txt` `server_log_05.txt` `server_log_06.txt` `server_log_07.txt` `server_log_08.txt` `server_log_09.txt` contain logs of an online shopping store web server\n",
    "\n",
    "Each file contains 100 lines for a total of 1000 transaction logs\n",
    "\n",
    "# Part 1\n",
    "\n",
    "Let us focus on one file, the code below reads the first file"
   ]
  },
  {
   "cell_type": "code",
   "execution_count": 2,
   "metadata": {},
   "outputs": [
    {
     "data": {
      "text/html": [
       "<div>\n",
       "<style scoped>\n",
       "    .dataframe tbody tr th:only-of-type {\n",
       "        vertical-align: middle;\n",
       "    }\n",
       "\n",
       "    .dataframe tbody tr th {\n",
       "        vertical-align: top;\n",
       "    }\n",
       "\n",
       "    .dataframe thead th {\n",
       "        text-align: right;\n",
       "    }\n",
       "</style>\n",
       "<table border=\"1\" class=\"dataframe\">\n",
       "  <thead>\n",
       "    <tr style=\"text-align: right;\">\n",
       "      <th></th>\n",
       "      <th>0</th>\n",
       "    </tr>\n",
       "  </thead>\n",
       "  <tbody>\n",
       "    <tr>\n",
       "      <th>0</th>\n",
       "      <td>54.36.149.41 - - [22/Jan/2019:03:56:14 +0330] ...</td>\n",
       "    </tr>\n",
       "    <tr>\n",
       "      <th>1</th>\n",
       "      <td>31.56.96.51 - - [22/Jan/2019:03:56:16 +0330] \"...</td>\n",
       "    </tr>\n",
       "    <tr>\n",
       "      <th>2</th>\n",
       "      <td>31.56.96.51 - - [22/Jan/2019:03:56:16 +0330] \"...</td>\n",
       "    </tr>\n",
       "    <tr>\n",
       "      <th>3</th>\n",
       "      <td>40.77.167.129 - - [22/Jan/2019:03:56:17 +0330]...</td>\n",
       "    </tr>\n",
       "    <tr>\n",
       "      <th>4</th>\n",
       "      <td>91.99.72.15 - - [22/Jan/2019:03:56:17 +0330] \"...</td>\n",
       "    </tr>\n",
       "  </tbody>\n",
       "</table>\n",
       "</div>"
      ],
      "text/plain": [
       "                                                   0\n",
       "0  54.36.149.41 - - [22/Jan/2019:03:56:14 +0330] ...\n",
       "1  31.56.96.51 - - [22/Jan/2019:03:56:16 +0330] \"...\n",
       "2  31.56.96.51 - - [22/Jan/2019:03:56:16 +0330] \"...\n",
       "3  40.77.167.129 - - [22/Jan/2019:03:56:17 +0330]...\n",
       "4  91.99.72.15 - - [22/Jan/2019:03:56:17 +0330] \"..."
      ]
     },
     "execution_count": 2,
     "metadata": {},
     "output_type": "execute_result"
    }
   ],
   "source": [
    "df_00 = pd.read_csv('data/server_log_00.txt', sep='\\n', header=None)\n",
    "df_00.head()"
   ]
  },
  {
   "cell_type": "markdown",
   "metadata": {},
   "source": [
    "Each row is one big string containing the server log. The [log contains multiple fields](https://docs.nginx.com/nginx/admin-guide/monitoring/logging/)\n",
    "In this exercise we are interested in the IP address (the first field) and the timestamp. For example, the first row"
   ]
  },
  {
   "cell_type": "code",
   "execution_count": 3,
   "metadata": {},
   "outputs": [
    {
     "data": {
      "text/plain": [
       "'54.36.149.41 - - [22/Jan/2019:03:56:14 +0330] \"GET /filter/27|13%20%D9%85%DA%AF%D8%A7%D9%BE%DB%8C%DA%A9%D8%B3%D9%84,27|%DA%A9%D9%85%D8%AA%D8%B1%20%D8%A7%D8%B2%205%20%D9%85%DA%AF%D8%A7%D9%BE%DB%8C%DA%A9%D8%B3%D9%84,p53 HTTP/1.1\" 200 30577 \"-\" \"Mozilla/5.0 (compatible; AhrefsBot/6.1; +http://ahrefs.com/robot/)\" \"-\"'"
      ]
     },
     "execution_count": 3,
     "metadata": {},
     "output_type": "execute_result"
    }
   ],
   "source": [
    "df_00.iloc[0, 0]"
   ]
  },
  {
   "cell_type": "markdown",
   "metadata": {},
   "source": [
    "is a request coming from `54.36.149.41` on `22/Jan/2019:03:56:14 +0330`. \n",
    "\n",
    "1. Extract the IP and timestamp in two separate columns. Discard the original column `0`."
   ]
  },
  {
   "cell_type": "code",
   "execution_count": null,
   "metadata": {},
   "outputs": [],
   "source": []
  },
  {
   "cell_type": "markdown",
   "metadata": {},
   "source": [
    "The data frame should look like"
   ]
  },
  {
   "cell_type": "code",
   "execution_count": 8,
   "metadata": {},
   "outputs": [
    {
     "data": {
      "text/html": [
       "<div>\n",
       "<style scoped>\n",
       "    .dataframe tbody tr th:only-of-type {\n",
       "        vertical-align: middle;\n",
       "    }\n",
       "\n",
       "    .dataframe tbody tr th {\n",
       "        vertical-align: top;\n",
       "    }\n",
       "\n",
       "    .dataframe thead th {\n",
       "        text-align: right;\n",
       "    }\n",
       "</style>\n",
       "<table border=\"1\" class=\"dataframe\">\n",
       "  <thead>\n",
       "    <tr style=\"text-align: right;\">\n",
       "      <th></th>\n",
       "      <th>ip</th>\n",
       "      <th>timestamp</th>\n",
       "    </tr>\n",
       "  </thead>\n",
       "  <tbody>\n",
       "    <tr>\n",
       "      <th>0</th>\n",
       "      <td>54.36.149.41</td>\n",
       "      <td>22/Jan/2019:03:56:14 +0330</td>\n",
       "    </tr>\n",
       "    <tr>\n",
       "      <th>1</th>\n",
       "      <td>31.56.96.51</td>\n",
       "      <td>22/Jan/2019:03:56:16 +0330</td>\n",
       "    </tr>\n",
       "    <tr>\n",
       "      <th>2</th>\n",
       "      <td>31.56.96.51</td>\n",
       "      <td>22/Jan/2019:03:56:16 +0330</td>\n",
       "    </tr>\n",
       "    <tr>\n",
       "      <th>3</th>\n",
       "      <td>40.77.167.129</td>\n",
       "      <td>22/Jan/2019:03:56:17 +0330</td>\n",
       "    </tr>\n",
       "    <tr>\n",
       "      <th>4</th>\n",
       "      <td>91.99.72.15</td>\n",
       "      <td>22/Jan/2019:03:56:17 +0330</td>\n",
       "    </tr>\n",
       "  </tbody>\n",
       "</table>\n",
       "</div>"
      ],
      "text/plain": [
       "              ip                   timestamp\n",
       "0   54.36.149.41  22/Jan/2019:03:56:14 +0330\n",
       "1    31.56.96.51  22/Jan/2019:03:56:16 +0330\n",
       "2    31.56.96.51  22/Jan/2019:03:56:16 +0330\n",
       "3  40.77.167.129  22/Jan/2019:03:56:17 +0330\n",
       "4    91.99.72.15  22/Jan/2019:03:56:17 +0330"
      ]
     },
     "execution_count": 8,
     "metadata": {},
     "output_type": "execute_result"
    }
   ],
   "source": [
    "df_00.head()"
   ]
  },
  {
   "cell_type": "markdown",
   "metadata": {},
   "source": [
    "# Part 2\n",
    "2. Repeat the same operations for all of the files. In total you should have ten data frames\n",
    "3. Combine the ten data frames in one master data frame"
   ]
  },
  {
   "cell_type": "code",
   "execution_count": null,
   "metadata": {},
   "outputs": [],
   "source": []
  }
 ],
 "metadata": {
  "kernelspec": {
   "display_name": "Python 3",
   "language": "python",
   "name": "python3"
  },
  "language_info": {
   "codemirror_mode": {
    "name": "ipython",
    "version": 3
   },
   "file_extension": ".py",
   "mimetype": "text/x-python",
   "name": "python",
   "nbconvert_exporter": "python",
   "pygments_lexer": "ipython3",
   "version": "3.7.3"
  }
 },
 "nbformat": 4,
 "nbformat_minor": 2
}
