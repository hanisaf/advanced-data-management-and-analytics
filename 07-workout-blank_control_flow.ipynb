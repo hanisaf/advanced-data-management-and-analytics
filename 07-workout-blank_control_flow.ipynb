{
 "cells": [
  {
   "cell_type": "markdown",
   "metadata": {},
   "source": [
    "0- use a loop to extract numbers from the secret message below.\n",
    "Note that numbers can contain the extra character `-`\n",
    "\n",
    "Write a loop to go over the words in the secrect message.\n",
    "Then write an inner loop to go over each character in the word.\n",
    "If all characters are numbers or `-` then the word is a number.\n",
    "Print it!\n"
   ]
  },
  {
   "cell_type": "code",
   "execution_count": null,
   "metadata": {},
   "outputs": [],
   "source": [
    "msg = \"\"\"some secret information\n",
    "the client number is 444-222-5555 and her social\n",
    "is 345-22-5556\"\"\""
   ]
  },
  {
   "cell_type": "code",
   "execution_count": null,
   "metadata": {},
   "outputs": [],
   "source": []
  },
  {
   "cell_type": "markdown",
   "metadata": {},
   "source": [
    "1- Write a loop that prints numbers from 1 to 31, append the prefix \"1-\" to the numbers, these are day of January, see sample output below"
   ]
  },
  {
   "cell_type": "raw",
   "metadata": {},
   "source": [
    "1-1\n",
    "1-2\n",
    "1-3\n",
    "1-4\n",
    "1-5\n",
    "1-6\n",
    "1-7\n",
    "1-8\n",
    "1-9\n",
    "1-10\n",
    "1-11\n",
    "1-12\n",
    "1-13\n",
    "1-14\n",
    "1-15\n",
    "1-16\n",
    "1-17\n",
    "1-18\n",
    "1-19\n",
    "1-20\n",
    "1-21\n",
    "1-22\n",
    "1-23\n",
    "1-24\n",
    "1-25\n",
    "1-26\n",
    "1-27\n",
    "1-28\n",
    "1-29\n",
    "1-30\n",
    "1-31"
   ]
  },
  {
   "cell_type": "code",
   "execution_count": null,
   "metadata": {},
   "outputs": [],
   "source": []
  },
  {
   "cell_type": "markdown",
   "metadata": {},
   "source": [
    "2- Vary the prefix from 1- to 12- to print all days of the year, do not worry about incorrect dates for now"
   ]
  },
  {
   "cell_type": "code",
   "execution_count": null,
   "metadata": {},
   "outputs": [],
   "source": []
  },
  {
   "cell_type": "markdown",
   "metadata": {},
   "source": [
    "3- now, address the issue of some months being only 30 days and february if 29 days (in 2020)"
   ]
  },
  {
   "cell_type": "code",
   "execution_count": null,
   "metadata": {},
   "outputs": [],
   "source": []
  }
 ],
 "metadata": {
  "kernelspec": {
   "display_name": "Python 3",
   "language": "python",
   "name": "python3"
  },
  "language_info": {
   "codemirror_mode": {
    "name": "ipython",
    "version": 3
   },
   "file_extension": ".py",
   "mimetype": "text/x-python",
   "name": "python",
   "nbconvert_exporter": "python",
   "pygments_lexer": "ipython3",
   "version": "3.7.3"
  }
 },
 "nbformat": 4,
 "nbformat_minor": 2
}
