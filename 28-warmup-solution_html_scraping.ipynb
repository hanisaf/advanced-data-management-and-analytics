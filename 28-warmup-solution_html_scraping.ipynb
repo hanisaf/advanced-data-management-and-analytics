{
 "cells": [
  {
   "cell_type": "code",
   "execution_count": 27,
   "metadata": {},
   "outputs": [],
   "source": [
    "from bs4 import BeautifulSoup\n",
    "import requests\n",
    "import pandas as pd\n",
    "import re"
   ]
  },
  {
   "cell_type": "markdown",
   "metadata": {},
   "source": [
    "## Exercise\n",
    "\n",
    "Extract the names, parties and states of [the US Senate](https://www.congress.gov/members?pageSize=100&q={%22congress%22:%22116%22,%22chamber%22:%22Senate%22})\n",
    "\n",
    "What are the states that have R and D senators?"
   ]
  },
  {
   "cell_type": "code",
   "execution_count": 2,
   "metadata": {},
   "outputs": [],
   "source": [
    "r = requests.get('https://www.congress.gov/members?pageSize=100&q={%22congress%22:%22116%22,%22chamber%22:%22Senate%22')"
   ]
  },
  {
   "cell_type": "code",
   "execution_count": 3,
   "metadata": {},
   "outputs": [
    {
     "data": {
      "text/plain": [
       "200"
      ]
     },
     "execution_count": 3,
     "metadata": {},
     "output_type": "execute_result"
    }
   ],
   "source": [
    "r.status_code"
   ]
  },
  {
   "cell_type": "code",
   "execution_count": 4,
   "metadata": {},
   "outputs": [],
   "source": [
    "html = r.text"
   ]
  },
  {
   "cell_type": "code",
   "execution_count": 5,
   "metadata": {},
   "outputs": [],
   "source": [
    "soup = BeautifulSoup(html, 'html')"
   ]
  },
  {
   "cell_type": "code",
   "execution_count": 6,
   "metadata": {},
   "outputs": [],
   "source": [
    "# extract members data\n",
    "members = soup.find_all('li', class_=\"expanded\")"
   ]
  },
  {
   "cell_type": "code",
   "execution_count": 18,
   "metadata": {},
   "outputs": [],
   "source": [
    "#does not work given inconsistency in the data\n",
    "def parse_member(member):\n",
    "    name = member.find(\"span\", class_=\"result-heading\").text    \n",
    "    # the remaining items are\n",
    "    remaining_items = member.find_all(\"span\", class_=\"result-item\")\n",
    "    # extract state and party\n",
    "    state = remaining_items[0].find(\"span\").text\n",
    "    party = remaining_items[1].find(\"span\").text\n",
    "    return {'Name': name, 'State': state, 'Party': party}"
   ]
  },
  {
   "cell_type": "code",
   "execution_count": 45,
   "metadata": {},
   "outputs": [],
   "source": [
    "def parse_member2(member):\n",
    "    name = member.find(\"span\", class_=\"result-heading\").text  \n",
    "    remaining_text = member.text\n",
    "    party = re.compile(\"Party:\\s+([\\w ]+)\").findall(remaining_text)[0]\n",
    "    state = re.compile(\"State:\\s+([\\w ]+)\").findall(remaining_text)[0]\n",
    "    return {'Name': name, 'State': state, 'Party': party}"
   ]
  },
  {
   "cell_type": "code",
   "execution_count": 46,
   "metadata": {},
   "outputs": [],
   "source": [
    "data = [parse_member2(m) for m in members]"
   ]
  },
  {
   "cell_type": "code",
   "execution_count": 47,
   "metadata": {},
   "outputs": [
    {
     "data": {
      "text/html": [
       "<div>\n",
       "<style scoped>\n",
       "    .dataframe tbody tr th:only-of-type {\n",
       "        vertical-align: middle;\n",
       "    }\n",
       "\n",
       "    .dataframe tbody tr th {\n",
       "        vertical-align: top;\n",
       "    }\n",
       "\n",
       "    .dataframe thead th {\n",
       "        text-align: right;\n",
       "    }\n",
       "</style>\n",
       "<table border=\"1\" class=\"dataframe\">\n",
       "  <thead>\n",
       "    <tr style=\"text-align: right;\">\n",
       "      <th></th>\n",
       "      <th>Name</th>\n",
       "      <th>Party</th>\n",
       "      <th>State</th>\n",
       "    </tr>\n",
       "  </thead>\n",
       "  <tbody>\n",
       "    <tr>\n",
       "      <th>0</th>\n",
       "      <td>Senator Abdnor, James</td>\n",
       "      <td>Republican</td>\n",
       "      <td>South Dakota</td>\n",
       "    </tr>\n",
       "    <tr>\n",
       "      <th>1</th>\n",
       "      <td>Representative Abercrombie, Neil</td>\n",
       "      <td>Democratic</td>\n",
       "      <td>Hawaii</td>\n",
       "    </tr>\n",
       "    <tr>\n",
       "      <th>2</th>\n",
       "      <td>Senator Abourezk, James</td>\n",
       "      <td>Democratic</td>\n",
       "      <td>South Dakota</td>\n",
       "    </tr>\n",
       "    <tr>\n",
       "      <th>3</th>\n",
       "      <td>Representative Abraham, Ralph Lee</td>\n",
       "      <td>Republican</td>\n",
       "      <td>Louisiana</td>\n",
       "    </tr>\n",
       "    <tr>\n",
       "      <th>4</th>\n",
       "      <td>Senator Abraham, Spencer</td>\n",
       "      <td>Republican</td>\n",
       "      <td>Michigan</td>\n",
       "    </tr>\n",
       "  </tbody>\n",
       "</table>\n",
       "</div>"
      ],
      "text/plain": [
       "                                Name       Party         State\n",
       "0              Senator Abdnor, James  Republican  South Dakota\n",
       "1   Representative Abercrombie, Neil  Democratic        Hawaii\n",
       "2            Senator Abourezk, James  Democratic  South Dakota\n",
       "3  Representative Abraham, Ralph Lee  Republican     Louisiana\n",
       "4           Senator Abraham, Spencer  Republican      Michigan"
      ]
     },
     "execution_count": 47,
     "metadata": {},
     "output_type": "execute_result"
    }
   ],
   "source": [
    "df = pd.DataFrame(data)\n",
    "df.head()"
   ]
  },
  {
   "cell_type": "code",
   "execution_count": 48,
   "metadata": {},
   "outputs": [],
   "source": [
    "# What are the states that have R and D senators?"
   ]
  },
  {
   "cell_type": "code",
   "execution_count": 50,
   "metadata": {},
   "outputs": [],
   "source": [
    "df2 = df.groupby([\"Party\", \"State\"])['Name'].count().unstack(\"Party\").fillna(0)"
   ]
  },
  {
   "cell_type": "code",
   "execution_count": 54,
   "metadata": {},
   "outputs": [
    {
     "data": {
      "text/plain": [
       "Index(['Alabama', 'California', 'Florida', 'Georgia', 'Illinois', 'Kentucky',\n",
       "       'Michigan', 'Minnesota', 'Nebraska', 'North Carolina', 'Ohio',\n",
       "       'Pennsylvania', 'South Dakota', 'Tennessee', 'Texas'],\n",
       "      dtype='object', name='State')"
      ]
     },
     "execution_count": 54,
     "metadata": {},
     "output_type": "execute_result"
    }
   ],
   "source": [
    "df2[df2['Democratic'] * df2['Republican'] > 0].index"
   ]
  },
  {
   "cell_type": "code",
   "execution_count": null,
   "metadata": {},
   "outputs": [],
   "source": []
  }
 ],
 "metadata": {
  "kernelspec": {
   "display_name": "Python 3",
   "language": "python",
   "name": "python3"
  },
  "language_info": {
   "codemirror_mode": {
    "name": "ipython",
    "version": 3
   },
   "file_extension": ".py",
   "mimetype": "text/x-python",
   "name": "python",
   "nbconvert_exporter": "python",
   "pygments_lexer": "ipython3",
   "version": "3.7.3"
  }
 },
 "nbformat": 4,
 "nbformat_minor": 2
}
