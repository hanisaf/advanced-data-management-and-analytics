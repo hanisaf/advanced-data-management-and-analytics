{
 "cells": [
  {
   "cell_type": "code",
   "execution_count": 2,
   "metadata": {},
   "outputs": [],
   "source": [
    "import pandas as pd"
   ]
  },
  {
   "cell_type": "markdown",
   "metadata": {},
   "source": [
    "The data frames `Customers`, `Employees`, `Offices`, `OrderDetails`, `Orders`, `Payments`, `ProductLines`, and `Products` contain data of the corresponding tables in the [ClassicModels database](https://www.richardtwatson.com/dm6e/Reader/ClassicModels.html).\n",
    "\n",
    "The entity relationship diagram is shown here ![ERD](figures/ClassicModels.png)"
   ]
  },
  {
   "cell_type": "markdown",
   "metadata": {},
   "source": [
    "- Report the total payments by date\n",
    "- Report the total payments by year\n",
    "- Report the total payments by month\n",
    "- Report the total payments by year-month\n",
    "- Report the total payments by year-quarter\n",
    "- Report the total payments in a bi-yearly basis (each six months in each year)\n",
    "\n",
    "*HINT* Convert `paymentDate` to a timestamp. Then you can extract year, month, and quarter using its properties. e.g.,"
   ]
  },
  {
   "cell_type": "code",
   "execution_count": 3,
   "metadata": {},
   "outputs": [
    {
     "name": "stdout",
     "output_type": "stream",
     "text": [
      "2019 10 6\n"
     ]
    }
   ],
   "source": [
    "text = \"6 October 2019\"\n",
    "ts = pd.to_datetime(text)\n",
    "print(ts.year, ts.month, ts.day)"
   ]
  },
  {
   "cell_type": "code",
   "execution_count": 4,
   "metadata": {},
   "outputs": [],
   "source": [
    "Customers = pd.read_csv('data/ClassicModels_Customers.csv', sep=';')\n",
    "Employees = pd.read_csv('data/ClassicModels_Employees.csv', sep=';')\n",
    "Offices = pd.read_csv('data/ClassicModels_Offices.csv', sep=';')\n",
    "OrderDetails = pd.read_csv('data/ClassicModels_OrderDetails.csv', sep=';')\n",
    "Orders = pd.read_csv('data/ClassicModels_Orders.csv', sep=';')\n",
    "Payments = pd.read_csv('data/ClassicModels_Payments.csv', sep=';')\n",
    "ProductLines = pd.read_csv('data/ClassicModels_ProductLines.csv', sep=';')\n",
    "Products = pd.read_csv('data/ClassicModels_Products.csv', sep=';')"
   ]
  },
  {
   "cell_type": "code",
   "execution_count": 6,
   "metadata": {},
   "outputs": [
    {
     "data": {
      "text/html": [
       "<div>\n",
       "<style scoped>\n",
       "    .dataframe tbody tr th:only-of-type {\n",
       "        vertical-align: middle;\n",
       "    }\n",
       "\n",
       "    .dataframe tbody tr th {\n",
       "        vertical-align: top;\n",
       "    }\n",
       "\n",
       "    .dataframe thead th {\n",
       "        text-align: right;\n",
       "    }\n",
       "</style>\n",
       "<table border=\"1\" class=\"dataframe\">\n",
       "  <thead>\n",
       "    <tr style=\"text-align: right;\">\n",
       "      <th></th>\n",
       "      <th>checkNumber</th>\n",
       "      <th>paymentDate</th>\n",
       "      <th>amount</th>\n",
       "      <th>customerNumber</th>\n",
       "    </tr>\n",
       "  </thead>\n",
       "  <tbody>\n",
       "    <tr>\n",
       "      <th>167</th>\n",
       "      <td>IS232033</td>\n",
       "      <td>2003-01-16 00:00:00</td>\n",
       "      <td>10223.83</td>\n",
       "      <td>363</td>\n",
       "    </tr>\n",
       "    <tr>\n",
       "      <th>65</th>\n",
       "      <td>DI925118</td>\n",
       "      <td>2003-01-28 00:00:00</td>\n",
       "      <td>10549.01</td>\n",
       "      <td>128</td>\n",
       "    </tr>\n",
       "    <tr>\n",
       "      <th>122</th>\n",
       "      <td>GQ132144</td>\n",
       "      <td>2003-01-30 00:00:00</td>\n",
       "      <td>5494.78</td>\n",
       "      <td>181</td>\n",
       "    </tr>\n",
       "    <tr>\n",
       "      <th>58</th>\n",
       "      <td>DB889831</td>\n",
       "      <td>2003-02-16 00:00:00</td>\n",
       "      <td>50218.95</td>\n",
       "      <td>121</td>\n",
       "    </tr>\n",
       "    <tr>\n",
       "      <th>173</th>\n",
       "      <td>JJ246391</td>\n",
       "      <td>2003-02-20 00:00:00</td>\n",
       "      <td>53959.21</td>\n",
       "      <td>145</td>\n",
       "    </tr>\n",
       "    <tr>\n",
       "      <th>177</th>\n",
       "      <td>JN722010</td>\n",
       "      <td>2003-02-25 00:00:00</td>\n",
       "      <td>40206.20</td>\n",
       "      <td>141</td>\n",
       "    </tr>\n",
       "    <tr>\n",
       "      <th>121</th>\n",
       "      <td>GP636783</td>\n",
       "      <td>2003-03-02 00:00:00</td>\n",
       "      <td>52151.81</td>\n",
       "      <td>278</td>\n",
       "    </tr>\n",
       "    <tr>\n",
       "      <th>82</th>\n",
       "      <td>EK785462</td>\n",
       "      <td>2003-03-09 00:00:00</td>\n",
       "      <td>51001.22</td>\n",
       "      <td>385</td>\n",
       "    </tr>\n",
       "    <tr>\n",
       "      <th>47</th>\n",
       "      <td>CL442705</td>\n",
       "      <td>2003-03-12 00:00:00</td>\n",
       "      <td>22292.62</td>\n",
       "      <td>131</td>\n",
       "    </tr>\n",
       "    <tr>\n",
       "      <th>169</th>\n",
       "      <td>JB117768</td>\n",
       "      <td>2003-03-20 00:00:00</td>\n",
       "      <td>25833.14</td>\n",
       "      <td>486</td>\n",
       "    </tr>\n",
       "    <tr>\n",
       "      <th>191</th>\n",
       "      <td>KL124726</td>\n",
       "      <td>2003-03-27 00:00:00</td>\n",
       "      <td>48425.69</td>\n",
       "      <td>187</td>\n",
       "    </tr>\n",
       "    <tr>\n",
       "      <th>267</th>\n",
       "      <td>PI42991</td>\n",
       "      <td>2003-04-09 00:00:00</td>\n",
       "      <td>16537.85</td>\n",
       "      <td>129</td>\n",
       "    </tr>\n",
       "    <tr>\n",
       "      <th>198</th>\n",
       "      <td>LA685678</td>\n",
       "      <td>2003-04-09 00:00:00</td>\n",
       "      <td>7674.94</td>\n",
       "      <td>144</td>\n",
       "    </tr>\n",
       "    <tr>\n",
       "      <th>53</th>\n",
       "      <td>CQ287967</td>\n",
       "      <td>2003-04-11 00:00:00</td>\n",
       "      <td>11044.30</td>\n",
       "      <td>124</td>\n",
       "    </tr>\n",
       "    <tr>\n",
       "      <th>207</th>\n",
       "      <td>LM271923</td>\n",
       "      <td>2003-04-16 00:00:00</td>\n",
       "      <td>21665.98</td>\n",
       "      <td>424</td>\n",
       "    </tr>\n",
       "    <tr>\n",
       "      <th>41</th>\n",
       "      <td>CC475233</td>\n",
       "      <td>2003-04-19 00:00:00</td>\n",
       "      <td>1627.56</td>\n",
       "      <td>381</td>\n",
       "    </tr>\n",
       "    <tr>\n",
       "      <th>81</th>\n",
       "      <td>EH208589</td>\n",
       "      <td>2003-04-20 00:00:00</td>\n",
       "      <td>33383.14</td>\n",
       "      <td>172</td>\n",
       "    </tr>\n",
       "    <tr>\n",
       "      <th>23</th>\n",
       "      <td>BI507030</td>\n",
       "      <td>2003-04-22 00:00:00</td>\n",
       "      <td>44380.15</td>\n",
       "      <td>148</td>\n",
       "    </tr>\n",
       "    <tr>\n",
       "      <th>21</th>\n",
       "      <td>BG407567</td>\n",
       "      <td>2003-05-09 00:00:00</td>\n",
       "      <td>3101.40</td>\n",
       "      <td>216</td>\n",
       "    </tr>\n",
       "    <tr>\n",
       "      <th>42</th>\n",
       "      <td>CC871084</td>\n",
       "      <td>2003-05-12 00:00:00</td>\n",
       "      <td>35826.33</td>\n",
       "      <td>382</td>\n",
       "    </tr>\n",
       "    <tr>\n",
       "      <th>113</th>\n",
       "      <td>GG31455</td>\n",
       "      <td>2003-05-20 00:00:00</td>\n",
       "      <td>45864.03</td>\n",
       "      <td>114</td>\n",
       "    </tr>\n",
       "    <tr>\n",
       "      <th>123</th>\n",
       "      <td>GT878649</td>\n",
       "      <td>2003-05-21 00:00:00</td>\n",
       "      <td>16700.47</td>\n",
       "      <td>353</td>\n",
       "    </tr>\n",
       "    <tr>\n",
       "      <th>45</th>\n",
       "      <td>CI471510</td>\n",
       "      <td>2003-05-25 00:00:00</td>\n",
       "      <td>50824.66</td>\n",
       "      <td>350</td>\n",
       "    </tr>\n",
       "    <tr>\n",
       "      <th>240</th>\n",
       "      <td>NP603840</td>\n",
       "      <td>2003-05-31 00:00:00</td>\n",
       "      <td>7565.08</td>\n",
       "      <td>114</td>\n",
       "    </tr>\n",
       "    <tr>\n",
       "      <th>175</th>\n",
       "      <td>JM555205</td>\n",
       "      <td>2003-06-05 00:00:00</td>\n",
       "      <td>14571.44</td>\n",
       "      <td>103</td>\n",
       "    </tr>\n",
       "    <tr>\n",
       "      <th>144</th>\n",
       "      <td>HQ55022</td>\n",
       "      <td>2003-06-06 00:00:00</td>\n",
       "      <td>32641.98</td>\n",
       "      <td>112</td>\n",
       "    </tr>\n",
       "    <tr>\n",
       "      <th>258</th>\n",
       "      <td>OO606861</td>\n",
       "      <td>2003-06-13 00:00:00</td>\n",
       "      <td>57131.92</td>\n",
       "      <td>458</td>\n",
       "    </tr>\n",
       "    <tr>\n",
       "      <th>162</th>\n",
       "      <td>IP568906</td>\n",
       "      <td>2003-06-18 00:00:00</td>\n",
       "      <td>58841.35</td>\n",
       "      <td>151</td>\n",
       "    </tr>\n",
       "    <tr>\n",
       "      <th>88</th>\n",
       "      <td>ER615123</td>\n",
       "      <td>2003-06-25 00:00:00</td>\n",
       "      <td>17032.29</td>\n",
       "      <td>447</td>\n",
       "    </tr>\n",
       "    <tr>\n",
       "      <th>130</th>\n",
       "      <td>HG738664</td>\n",
       "      <td>2003-07-05 00:00:00</td>\n",
       "      <td>2880.00</td>\n",
       "      <td>323</td>\n",
       "    </tr>\n",
       "    <tr>\n",
       "      <th>...</th>\n",
       "      <td>...</td>\n",
       "      <td>...</td>\n",
       "      <td>...</td>\n",
       "      <td>...</td>\n",
       "    </tr>\n",
       "    <tr>\n",
       "      <th>237</th>\n",
       "      <td>NM739638</td>\n",
       "      <td>2005-02-06 00:00:00</td>\n",
       "      <td>39580.60</td>\n",
       "      <td>205</td>\n",
       "    </tr>\n",
       "    <tr>\n",
       "      <th>83</th>\n",
       "      <td>EM979878</td>\n",
       "      <td>2005-02-09 00:00:00</td>\n",
       "      <td>27083.78</td>\n",
       "      <td>276</td>\n",
       "    </tr>\n",
       "    <tr>\n",
       "      <th>40</th>\n",
       "      <td>CA762595</td>\n",
       "      <td>2005-02-12 00:00:00</td>\n",
       "      <td>28322.83</td>\n",
       "      <td>379</td>\n",
       "    </tr>\n",
       "    <tr>\n",
       "      <th>9</th>\n",
       "      <td>AJ478695</td>\n",
       "      <td>2005-02-14 00:00:00</td>\n",
       "      <td>33967.73</td>\n",
       "      <td>398</td>\n",
       "    </tr>\n",
       "    <tr>\n",
       "      <th>63</th>\n",
       "      <td>DG336041</td>\n",
       "      <td>2005-02-15 00:00:00</td>\n",
       "      <td>46770.52</td>\n",
       "      <td>311</td>\n",
       "    </tr>\n",
       "    <tr>\n",
       "      <th>232</th>\n",
       "      <td>NG94694</td>\n",
       "      <td>2005-02-22 00:00:00</td>\n",
       "      <td>49523.67</td>\n",
       "      <td>119</td>\n",
       "    </tr>\n",
       "    <tr>\n",
       "      <th>231</th>\n",
       "      <td>NF959653</td>\n",
       "      <td>2005-03-01 00:00:00</td>\n",
       "      <td>21432.31</td>\n",
       "      <td>333</td>\n",
       "    </tr>\n",
       "    <tr>\n",
       "      <th>28</th>\n",
       "      <td>BN17870</td>\n",
       "      <td>2005-03-02 00:00:00</td>\n",
       "      <td>3452.75</td>\n",
       "      <td>219</td>\n",
       "    </tr>\n",
       "    <tr>\n",
       "      <th>4</th>\n",
       "      <td>AE215433</td>\n",
       "      <td>2005-03-05 00:00:00</td>\n",
       "      <td>101244.59</td>\n",
       "      <td>124</td>\n",
       "    </tr>\n",
       "    <tr>\n",
       "      <th>3</th>\n",
       "      <td>AE192287</td>\n",
       "      <td>2005-03-10 00:00:00</td>\n",
       "      <td>23602.90</td>\n",
       "      <td>186</td>\n",
       "    </tr>\n",
       "    <tr>\n",
       "      <th>197</th>\n",
       "      <td>LA556321</td>\n",
       "      <td>2005-03-15 00:00:00</td>\n",
       "      <td>46781.66</td>\n",
       "      <td>321</td>\n",
       "    </tr>\n",
       "    <tr>\n",
       "      <th>170</th>\n",
       "      <td>JE105477</td>\n",
       "      <td>2005-03-18 00:00:00</td>\n",
       "      <td>120166.58</td>\n",
       "      <td>141</td>\n",
       "    </tr>\n",
       "    <tr>\n",
       "      <th>158</th>\n",
       "      <td>IN446258</td>\n",
       "      <td>2005-03-25 00:00:00</td>\n",
       "      <td>65071.26</td>\n",
       "      <td>141</td>\n",
       "    </tr>\n",
       "    <tr>\n",
       "      <th>216</th>\n",
       "      <td>ME497970</td>\n",
       "      <td>2005-03-27 00:00:00</td>\n",
       "      <td>3516.04</td>\n",
       "      <td>148</td>\n",
       "    </tr>\n",
       "    <tr>\n",
       "      <th>74</th>\n",
       "      <td>ED203908</td>\n",
       "      <td>2005-04-15 00:00:00</td>\n",
       "      <td>30293.77</td>\n",
       "      <td>462</td>\n",
       "    </tr>\n",
       "    <tr>\n",
       "      <th>90</th>\n",
       "      <td>ET64396</td>\n",
       "      <td>2005-04-16 00:00:00</td>\n",
       "      <td>83598.04</td>\n",
       "      <td>124</td>\n",
       "    </tr>\n",
       "    <tr>\n",
       "      <th>104</th>\n",
       "      <td>FS299615</td>\n",
       "      <td>2005-04-18 00:00:00</td>\n",
       "      <td>27966.54</td>\n",
       "      <td>448</td>\n",
       "    </tr>\n",
       "    <tr>\n",
       "      <th>26</th>\n",
       "      <td>BJMPR4545</td>\n",
       "      <td>2005-04-23 00:00:00</td>\n",
       "      <td>12190.85</td>\n",
       "      <td>406</td>\n",
       "    </tr>\n",
       "    <tr>\n",
       "      <th>255</th>\n",
       "      <td>OJ819725</td>\n",
       "      <td>2005-04-30 00:00:00</td>\n",
       "      <td>29848.52</td>\n",
       "      <td>276</td>\n",
       "    </tr>\n",
       "    <tr>\n",
       "      <th>32</th>\n",
       "      <td>BOAF82044</td>\n",
       "      <td>2005-05-03 00:00:00</td>\n",
       "      <td>35157.75</td>\n",
       "      <td>209</td>\n",
       "    </tr>\n",
       "    <tr>\n",
       "      <th>129</th>\n",
       "      <td>HG635467</td>\n",
       "      <td>2005-05-03 00:00:00</td>\n",
       "      <td>8807.12</td>\n",
       "      <td>452</td>\n",
       "    </tr>\n",
       "    <tr>\n",
       "      <th>86</th>\n",
       "      <td>EQ12267</td>\n",
       "      <td>2005-05-17 00:00:00</td>\n",
       "      <td>17928.09</td>\n",
       "      <td>250</td>\n",
       "    </tr>\n",
       "    <tr>\n",
       "      <th>180</th>\n",
       "      <td>JPMR4544</td>\n",
       "      <td>2005-05-18 00:00:00</td>\n",
       "      <td>615.45</td>\n",
       "      <td>398</td>\n",
       "    </tr>\n",
       "    <tr>\n",
       "      <th>67</th>\n",
       "      <td>DL460618</td>\n",
       "      <td>2005-05-19 00:00:00</td>\n",
       "      <td>46895.48</td>\n",
       "      <td>141</td>\n",
       "    </tr>\n",
       "    <tr>\n",
       "      <th>46</th>\n",
       "      <td>CITI3434344</td>\n",
       "      <td>2005-05-19 00:00:00</td>\n",
       "      <td>28500.78</td>\n",
       "      <td>175</td>\n",
       "    </tr>\n",
       "    <tr>\n",
       "      <th>33</th>\n",
       "      <td>BOFA23232</td>\n",
       "      <td>2005-05-20 00:00:00</td>\n",
       "      <td>29070.38</td>\n",
       "      <td>233</td>\n",
       "    </tr>\n",
       "    <tr>\n",
       "      <th>12</th>\n",
       "      <td>AL493079</td>\n",
       "      <td>2005-05-23 00:00:00</td>\n",
       "      <td>75020.13</td>\n",
       "      <td>323</td>\n",
       "    </tr>\n",
       "    <tr>\n",
       "      <th>92</th>\n",
       "      <td>EU531600</td>\n",
       "      <td>2005-05-25 00:00:00</td>\n",
       "      <td>30253.75</td>\n",
       "      <td>496</td>\n",
       "    </tr>\n",
       "    <tr>\n",
       "      <th>147</th>\n",
       "      <td>HR224331</td>\n",
       "      <td>2005-06-03 00:00:00</td>\n",
       "      <td>12432.32</td>\n",
       "      <td>242</td>\n",
       "    </tr>\n",
       "    <tr>\n",
       "      <th>137</th>\n",
       "      <td>HJ618252</td>\n",
       "      <td>2005-06-09 00:00:00</td>\n",
       "      <td>46656.94</td>\n",
       "      <td>353</td>\n",
       "    </tr>\n",
       "  </tbody>\n",
       "</table>\n",
       "<p>273 rows × 4 columns</p>\n",
       "</div>"
      ],
      "text/plain": [
       "     checkNumber          paymentDate     amount  customerNumber\n",
       "167     IS232033  2003-01-16 00:00:00   10223.83             363\n",
       "65      DI925118  2003-01-28 00:00:00   10549.01             128\n",
       "122     GQ132144  2003-01-30 00:00:00    5494.78             181\n",
       "58      DB889831  2003-02-16 00:00:00   50218.95             121\n",
       "173     JJ246391  2003-02-20 00:00:00   53959.21             145\n",
       "177     JN722010  2003-02-25 00:00:00   40206.20             141\n",
       "121     GP636783  2003-03-02 00:00:00   52151.81             278\n",
       "82      EK785462  2003-03-09 00:00:00   51001.22             385\n",
       "47      CL442705  2003-03-12 00:00:00   22292.62             131\n",
       "169     JB117768  2003-03-20 00:00:00   25833.14             486\n",
       "191     KL124726  2003-03-27 00:00:00   48425.69             187\n",
       "267      PI42991  2003-04-09 00:00:00   16537.85             129\n",
       "198     LA685678  2003-04-09 00:00:00    7674.94             144\n",
       "53      CQ287967  2003-04-11 00:00:00   11044.30             124\n",
       "207     LM271923  2003-04-16 00:00:00   21665.98             424\n",
       "41      CC475233  2003-04-19 00:00:00    1627.56             381\n",
       "81      EH208589  2003-04-20 00:00:00   33383.14             172\n",
       "23      BI507030  2003-04-22 00:00:00   44380.15             148\n",
       "21      BG407567  2003-05-09 00:00:00    3101.40             216\n",
       "42      CC871084  2003-05-12 00:00:00   35826.33             382\n",
       "113      GG31455  2003-05-20 00:00:00   45864.03             114\n",
       "123     GT878649  2003-05-21 00:00:00   16700.47             353\n",
       "45      CI471510  2003-05-25 00:00:00   50824.66             350\n",
       "240     NP603840  2003-05-31 00:00:00    7565.08             114\n",
       "175     JM555205  2003-06-05 00:00:00   14571.44             103\n",
       "144      HQ55022  2003-06-06 00:00:00   32641.98             112\n",
       "258     OO606861  2003-06-13 00:00:00   57131.92             458\n",
       "162     IP568906  2003-06-18 00:00:00   58841.35             151\n",
       "88      ER615123  2003-06-25 00:00:00   17032.29             447\n",
       "130     HG738664  2003-07-05 00:00:00    2880.00             323\n",
       "..           ...                  ...        ...             ...\n",
       "237     NM739638  2005-02-06 00:00:00   39580.60             205\n",
       "83      EM979878  2005-02-09 00:00:00   27083.78             276\n",
       "40      CA762595  2005-02-12 00:00:00   28322.83             379\n",
       "9       AJ478695  2005-02-14 00:00:00   33967.73             398\n",
       "63      DG336041  2005-02-15 00:00:00   46770.52             311\n",
       "232      NG94694  2005-02-22 00:00:00   49523.67             119\n",
       "231     NF959653  2005-03-01 00:00:00   21432.31             333\n",
       "28       BN17870  2005-03-02 00:00:00    3452.75             219\n",
       "4       AE215433  2005-03-05 00:00:00  101244.59             124\n",
       "3       AE192287  2005-03-10 00:00:00   23602.90             186\n",
       "197     LA556321  2005-03-15 00:00:00   46781.66             321\n",
       "170     JE105477  2005-03-18 00:00:00  120166.58             141\n",
       "158     IN446258  2005-03-25 00:00:00   65071.26             141\n",
       "216     ME497970  2005-03-27 00:00:00    3516.04             148\n",
       "74      ED203908  2005-04-15 00:00:00   30293.77             462\n",
       "90       ET64396  2005-04-16 00:00:00   83598.04             124\n",
       "104     FS299615  2005-04-18 00:00:00   27966.54             448\n",
       "26     BJMPR4545  2005-04-23 00:00:00   12190.85             406\n",
       "255     OJ819725  2005-04-30 00:00:00   29848.52             276\n",
       "32     BOAF82044  2005-05-03 00:00:00   35157.75             209\n",
       "129     HG635467  2005-05-03 00:00:00    8807.12             452\n",
       "86       EQ12267  2005-05-17 00:00:00   17928.09             250\n",
       "180     JPMR4544  2005-05-18 00:00:00     615.45             398\n",
       "67      DL460618  2005-05-19 00:00:00   46895.48             141\n",
       "46   CITI3434344  2005-05-19 00:00:00   28500.78             175\n",
       "33     BOFA23232  2005-05-20 00:00:00   29070.38             233\n",
       "12      AL493079  2005-05-23 00:00:00   75020.13             323\n",
       "92      EU531600  2005-05-25 00:00:00   30253.75             496\n",
       "147     HR224331  2005-06-03 00:00:00   12432.32             242\n",
       "137     HJ618252  2005-06-09 00:00:00   46656.94             353\n",
       "\n",
       "[273 rows x 4 columns]"
      ]
     },
     "execution_count": 6,
     "metadata": {},
     "output_type": "execute_result"
    }
   ],
   "source": [
    "Payments.sort_values('paymentDate')"
   ]
  },
  {
   "cell_type": "markdown",
   "metadata": {},
   "source": [
    "- Report the total payments by date"
   ]
  },
  {
   "cell_type": "code",
   "execution_count": 12,
   "metadata": {
    "scrolled": true
   },
   "outputs": [
    {
     "data": {
      "text/plain": [
       "paymentDate\n",
       "2003-01-16 00:00:00     10223.83\n",
       "2003-01-28 00:00:00     10549.01\n",
       "2003-01-30 00:00:00      5494.78\n",
       "2003-02-16 00:00:00     50218.95\n",
       "2003-02-20 00:00:00     53959.21\n",
       "2003-02-25 00:00:00     40206.20\n",
       "2003-03-02 00:00:00     52151.81\n",
       "2003-03-09 00:00:00     51001.22\n",
       "2003-03-12 00:00:00     22292.62\n",
       "2003-03-20 00:00:00     25833.14\n",
       "2003-03-27 00:00:00     48425.69\n",
       "2003-04-09 00:00:00     24212.79\n",
       "2003-04-11 00:00:00     11044.30\n",
       "2003-04-16 00:00:00     21665.98\n",
       "2003-04-19 00:00:00      1627.56\n",
       "2003-04-20 00:00:00     33383.14\n",
       "2003-04-22 00:00:00     44380.15\n",
       "2003-05-09 00:00:00      3101.40\n",
       "2003-05-12 00:00:00     35826.33\n",
       "2003-05-20 00:00:00     45864.03\n",
       "2003-05-21 00:00:00     16700.47\n",
       "2003-05-25 00:00:00     50824.66\n",
       "2003-05-31 00:00:00      7565.08\n",
       "2003-06-05 00:00:00     14571.44\n",
       "2003-06-06 00:00:00     32641.98\n",
       "2003-06-13 00:00:00     57131.92\n",
       "2003-06-18 00:00:00     58841.35\n",
       "2003-06-25 00:00:00     17032.29\n",
       "2003-07-05 00:00:00      2880.00\n",
       "2003-07-06 00:00:00      6036.96\n",
       "                         ...    \n",
       "2005-02-02 00:00:00     12692.19\n",
       "2005-02-03 00:00:00     14379.90\n",
       "2005-02-06 00:00:00     39580.60\n",
       "2005-02-09 00:00:00     27083.78\n",
       "2005-02-12 00:00:00     28322.83\n",
       "2005-02-14 00:00:00     33967.73\n",
       "2005-02-15 00:00:00     46770.52\n",
       "2005-02-22 00:00:00     49523.67\n",
       "2005-03-01 00:00:00     21432.31\n",
       "2005-03-02 00:00:00      3452.75\n",
       "2005-03-05 00:00:00    101244.59\n",
       "2005-03-10 00:00:00     23602.90\n",
       "2005-03-15 00:00:00     46781.66\n",
       "2005-03-18 00:00:00    120166.58\n",
       "2005-03-25 00:00:00     65071.26\n",
       "2005-03-27 00:00:00      3516.04\n",
       "2005-04-15 00:00:00     30293.77\n",
       "2005-04-16 00:00:00     83598.04\n",
       "2005-04-18 00:00:00     27966.54\n",
       "2005-04-23 00:00:00     12190.85\n",
       "2005-04-30 00:00:00     29848.52\n",
       "2005-05-03 00:00:00     43964.87\n",
       "2005-05-17 00:00:00     17928.09\n",
       "2005-05-18 00:00:00       615.45\n",
       "2005-05-19 00:00:00     75396.26\n",
       "2005-05-20 00:00:00     29070.38\n",
       "2005-05-23 00:00:00     75020.13\n",
       "2005-05-25 00:00:00     30253.75\n",
       "2005-06-03 00:00:00     12432.32\n",
       "2005-06-09 00:00:00     46656.94\n",
       "Name: amount, Length: 232, dtype: float64"
      ]
     },
     "execution_count": 12,
     "metadata": {},
     "output_type": "execute_result"
    }
   ],
   "source": [
    "Payments.groupby('paymentDate')['amount'].sum()"
   ]
  },
  {
   "cell_type": "markdown",
   "metadata": {},
   "source": [
    "\n",
    "- Report the total payments by year"
   ]
  },
  {
   "cell_type": "code",
   "execution_count": 15,
   "metadata": {},
   "outputs": [
    {
     "data": {
      "text/plain": [
       "paymentDate\n",
       "2003    3250217.70\n",
       "2004    4313328.25\n",
       "2005    1290293.28\n",
       "Name: amount, dtype: float64"
      ]
     },
     "execution_count": 15,
     "metadata": {},
     "output_type": "execute_result"
    }
   ],
   "source": [
    "years = Payments.paymentDate.str[:4]\n",
    "Payments.groupby(years)['amount'].sum()"
   ]
  },
  {
   "cell_type": "code",
   "execution_count": 22,
   "metadata": {},
   "outputs": [
    {
     "data": {
      "text/plain": [
       "date\n",
       "2003    3250217.70\n",
       "2004    4313328.25\n",
       "2005    1290293.28\n",
       "Name: amount, dtype: float64"
      ]
     },
     "execution_count": 22,
     "metadata": {},
     "output_type": "execute_result"
    }
   ],
   "source": [
    "Payments['date'] = pd.to_datetime(Payments['paymentDate'])\n",
    "years2 = Payments['date'].apply(lambda x: x.year)\n",
    "Payments.groupby(years2)['amount'].sum()"
   ]
  },
  {
   "cell_type": "code",
   "execution_count": 49,
   "metadata": {},
   "outputs": [
    {
     "data": {
      "text/plain": [
       "date\n",
       "2003-12-31    3250217.70\n",
       "2004-12-31    4313328.25\n",
       "2005-12-31    1290293.28\n",
       "Freq: A-DEC, Name: amount, dtype: float64"
      ]
     },
     "execution_count": 49,
     "metadata": {},
     "output_type": "execute_result"
    }
   ],
   "source": [
    "Payments.set_index('date').resample('Y')['amount'].sum()"
   ]
  },
  {
   "cell_type": "markdown",
   "metadata": {},
   "source": [
    "\n",
    "- Report the total payments by month"
   ]
  },
  {
   "cell_type": "code",
   "execution_count": 32,
   "metadata": {},
   "outputs": [
    {
     "data": {
      "text/plain": [
       "paymentDate\n",
       "01     397887.81\n",
       "02     503357.59\n",
       "03     989575.78\n",
       "04     493457.60\n",
       "05     640655.32\n",
       "06     425151.10\n",
       "07     442438.48\n",
       "08     624299.16\n",
       "09     637651.76\n",
       "10     501961.39\n",
       "11    1551479.98\n",
       "12    1645923.26\n",
       "Name: amount, dtype: float64"
      ]
     },
     "execution_count": 32,
     "metadata": {},
     "output_type": "execute_result"
    }
   ],
   "source": [
    "months = Payments.paymentDate.str[5:7]\n",
    "Payments.groupby(months)['amount'].sum()"
   ]
  },
  {
   "cell_type": "code",
   "execution_count": 33,
   "metadata": {},
   "outputs": [
    {
     "data": {
      "text/plain": [
       "date\n",
       "1      397887.81\n",
       "2      503357.59\n",
       "3      989575.78\n",
       "4      493457.60\n",
       "5      640655.32\n",
       "6      425151.10\n",
       "7      442438.48\n",
       "8      624299.16\n",
       "9      637651.76\n",
       "10     501961.39\n",
       "11    1551479.98\n",
       "12    1645923.26\n",
       "Name: amount, dtype: float64"
      ]
     },
     "execution_count": 33,
     "metadata": {},
     "output_type": "execute_result"
    }
   ],
   "source": [
    "months2 = Payments['date'].apply(lambda x: x.month)\n",
    "Payments.groupby(months2)['amount'].sum()"
   ]
  },
  {
   "cell_type": "markdown",
   "metadata": {},
   "source": [
    "\n",
    "- Report the total payments by year-month"
   ]
  },
  {
   "cell_type": "code",
   "execution_count": 34,
   "metadata": {},
   "outputs": [
    {
     "data": {
      "text/plain": [
       "paymentDate\n",
       "2003-01     26267.62\n",
       "2003-02    144384.36\n",
       "2003-03    199704.48\n",
       "2003-04    136313.92\n",
       "2003-05    159881.97\n",
       "2003-06    180218.98\n",
       "2003-07    158247.00\n",
       "2003-08    246204.86\n",
       "2003-09    161206.23\n",
       "2003-10    316857.96\n",
       "2003-11    694292.68\n",
       "2003-12    826637.64\n",
       "2004-01    234152.13\n",
       "2004-02    106652.01\n",
       "2004-03    404603.21\n",
       "2004-04    173245.96\n",
       "2004-05    208524.42\n",
       "2004-06    185842.86\n",
       "2004-07    284191.48\n",
       "2004-08    378094.30\n",
       "2004-09    476445.53\n",
       "2004-10    185103.43\n",
       "2004-11    857187.30\n",
       "2004-12    819285.62\n",
       "2005-01    137468.06\n",
       "2005-02    252321.22\n",
       "2005-03    385268.09\n",
       "2005-04    183897.72\n",
       "2005-05    272248.93\n",
       "2005-06     59089.26\n",
       "Name: amount, dtype: float64"
      ]
     },
     "execution_count": 34,
     "metadata": {},
     "output_type": "execute_result"
    }
   ],
   "source": [
    "months = Payments.paymentDate.str[:7]\n",
    "Payments.groupby(months)['amount'].sum()"
   ]
  },
  {
   "cell_type": "code",
   "execution_count": null,
   "metadata": {},
   "outputs": [],
   "source": []
  },
  {
   "cell_type": "code",
   "execution_count": 41,
   "metadata": {},
   "outputs": [
    {
     "data": {
      "text/plain": [
       "date\n",
       "2003- 1     26267.62\n",
       "2003- 2    144384.36\n",
       "2003- 3    199704.48\n",
       "2003- 4    136313.92\n",
       "2003- 5    159881.97\n",
       "2003- 6    180218.98\n",
       "2003- 7    158247.00\n",
       "2003- 8    246204.86\n",
       "2003- 9    161206.23\n",
       "2003-10    316857.96\n",
       "2003-11    694292.68\n",
       "2003-12    826637.64\n",
       "2004- 1    234152.13\n",
       "2004- 2    106652.01\n",
       "2004- 3    404603.21\n",
       "2004- 4    173245.96\n",
       "2004- 5    208524.42\n",
       "2004- 6    185842.86\n",
       "2004- 7    284191.48\n",
       "2004- 8    378094.30\n",
       "2004- 9    476445.53\n",
       "2004-10    185103.43\n",
       "2004-11    857187.30\n",
       "2004-12    819285.62\n",
       "2005- 1    137468.06\n",
       "2005- 2    252321.22\n",
       "2005- 3    385268.09\n",
       "2005- 4    183897.72\n",
       "2005- 5    272248.93\n",
       "2005- 6     59089.26\n",
       "Name: amount, dtype: float64"
      ]
     },
     "execution_count": 41,
     "metadata": {},
     "output_type": "execute_result"
    }
   ],
   "source": [
    "months2 = Payments['date'].apply(lambda x: f\"{x.year}-{x.month:2d}\")\n",
    "Payments.groupby(months2)['amount'].sum()"
   ]
  },
  {
   "cell_type": "code",
   "execution_count": 47,
   "metadata": {},
   "outputs": [
    {
     "data": {
      "text/plain": [
       "date\n",
       "2003-01     26267.62\n",
       "2003-02    144384.36\n",
       "2003-03    199704.48\n",
       "2003-04    136313.92\n",
       "2003-05    159881.97\n",
       "2003-06    180218.98\n",
       "2003-07    158247.00\n",
       "2003-08    246204.86\n",
       "2003-09    161206.23\n",
       "2003-10    316857.96\n",
       "2003-11    694292.68\n",
       "2003-12    826637.64\n",
       "2004-01    234152.13\n",
       "2004-02    106652.01\n",
       "2004-03    404603.21\n",
       "2004-04    173245.96\n",
       "2004-05    208524.42\n",
       "2004-06    185842.86\n",
       "2004-07    284191.48\n",
       "2004-08    378094.30\n",
       "2004-09    476445.53\n",
       "2004-10    185103.43\n",
       "2004-11    857187.30\n",
       "2004-12    819285.62\n",
       "2005-01    137468.06\n",
       "2005-02    252321.22\n",
       "2005-03    385268.09\n",
       "2005-04    183897.72\n",
       "2005-05    272248.93\n",
       "2005-06     59089.26\n",
       "Freq: M, Name: amount, dtype: float64"
      ]
     },
     "execution_count": 47,
     "metadata": {},
     "output_type": "execute_result"
    }
   ],
   "source": [
    "months3 = pd.DatetimeIndex(Payments['date']).to_period('M')\n",
    "Payments.groupby(months3)['amount'].sum()"
   ]
  },
  {
   "cell_type": "code",
   "execution_count": 50,
   "metadata": {},
   "outputs": [
    {
     "data": {
      "text/plain": [
       "date\n",
       "2003-01-31     26267.62\n",
       "2003-02-28    144384.36\n",
       "2003-03-31    199704.48\n",
       "2003-04-30    136313.92\n",
       "2003-05-31    159881.97\n",
       "2003-06-30    180218.98\n",
       "2003-07-31    158247.00\n",
       "2003-08-31    246204.86\n",
       "2003-09-30    161206.23\n",
       "2003-10-31    316857.96\n",
       "2003-11-30    694292.68\n",
       "2003-12-31    826637.64\n",
       "2004-01-31    234152.13\n",
       "2004-02-29    106652.01\n",
       "2004-03-31    404603.21\n",
       "2004-04-30    173245.96\n",
       "2004-05-31    208524.42\n",
       "2004-06-30    185842.86\n",
       "2004-07-31    284191.48\n",
       "2004-08-31    378094.30\n",
       "2004-09-30    476445.53\n",
       "2004-10-31    185103.43\n",
       "2004-11-30    857187.30\n",
       "2004-12-31    819285.62\n",
       "2005-01-31    137468.06\n",
       "2005-02-28    252321.22\n",
       "2005-03-31    385268.09\n",
       "2005-04-30    183897.72\n",
       "2005-05-31    272248.93\n",
       "2005-06-30     59089.26\n",
       "Freq: M, Name: amount, dtype: float64"
      ]
     },
     "execution_count": 50,
     "metadata": {},
     "output_type": "execute_result"
    }
   ],
   "source": [
    "Payments.set_index('date').resample('M')['amount'].sum()"
   ]
  },
  {
   "cell_type": "markdown",
   "metadata": {},
   "source": [
    "\n",
    "- Report the total payments by year-quarter"
   ]
  },
  {
   "cell_type": "code",
   "execution_count": 51,
   "metadata": {},
   "outputs": [
    {
     "data": {
      "text/plain": [
       "date\n",
       "2003-1     370356.46\n",
       "2003-2     476414.87\n",
       "2003-3     565658.09\n",
       "2003-4    1837788.28\n",
       "2004-1     745407.35\n",
       "2004-2     567613.24\n",
       "2004-3    1138731.31\n",
       "2004-4    1861576.35\n",
       "2005-1     775057.37\n",
       "2005-2     515235.91\n",
       "Name: amount, dtype: float64"
      ]
     },
     "execution_count": 51,
     "metadata": {},
     "output_type": "execute_result"
    }
   ],
   "source": [
    "quarters = Payments['date'].apply(lambda x: f\"{x.year}-{x.quarter}\")\n",
    "Payments.groupby(quarters)['amount'].sum()"
   ]
  },
  {
   "cell_type": "code",
   "execution_count": 52,
   "metadata": {},
   "outputs": [
    {
     "data": {
      "text/plain": [
       "date\n",
       "2003Q1     370356.46\n",
       "2003Q2     476414.87\n",
       "2003Q3     565658.09\n",
       "2003Q4    1837788.28\n",
       "2004Q1     745407.35\n",
       "2004Q2     567613.24\n",
       "2004Q3    1138731.31\n",
       "2004Q4    1861576.35\n",
       "2005Q1     775057.37\n",
       "2005Q2     515235.91\n",
       "Freq: Q-DEC, Name: amount, dtype: float64"
      ]
     },
     "execution_count": 52,
     "metadata": {},
     "output_type": "execute_result"
    }
   ],
   "source": [
    "quarters2 = pd.DatetimeIndex(Payments['date']).to_period('Q')\n",
    "Payments.groupby(quarters2)['amount'].sum()"
   ]
  },
  {
   "cell_type": "code",
   "execution_count": 53,
   "metadata": {},
   "outputs": [
    {
     "data": {
      "text/plain": [
       "date\n",
       "2003-03-31     370356.46\n",
       "2003-06-30     476414.87\n",
       "2003-09-30     565658.09\n",
       "2003-12-31    1837788.28\n",
       "2004-03-31     745407.35\n",
       "2004-06-30     567613.24\n",
       "2004-09-30    1138731.31\n",
       "2004-12-31    1861576.35\n",
       "2005-03-31     775057.37\n",
       "2005-06-30     515235.91\n",
       "Freq: Q-DEC, Name: amount, dtype: float64"
      ]
     },
     "execution_count": 53,
     "metadata": {},
     "output_type": "execute_result"
    }
   ],
   "source": [
    "Payments.set_index('date').resample('Q')['amount'].sum()"
   ]
  },
  {
   "cell_type": "markdown",
   "metadata": {},
   "source": [
    "\n",
    "- Report the total payments in a bi-yearly basis (each six months in each year)"
   ]
  },
  {
   "cell_type": "code",
   "execution_count": 55,
   "metadata": {},
   "outputs": [
    {
     "data": {
      "text/plain": [
       "date\n",
       "2003-01-01     846771.33\n",
       "2003-07-01    2403446.37\n",
       "2004-01-01    1313020.59\n",
       "2004-07-01    3000307.66\n",
       "2005-01-01    1290293.28\n",
       "Freq: 6MS, Name: amount, dtype: float64"
      ]
     },
     "execution_count": 55,
     "metadata": {},
     "output_type": "execute_result"
    }
   ],
   "source": [
    "Payments.set_index('date').resample('6MS')['amount'].sum()"
   ]
  },
  {
   "cell_type": "code",
   "execution_count": null,
   "metadata": {},
   "outputs": [],
   "source": []
  },
  {
   "cell_type": "code",
   "execution_count": 61,
   "metadata": {},
   "outputs": [],
   "source": [
    "halfyear = Payments['date'].apply(lambda x: str(x.year) + \"-\" + (\"H1\" if x.month < 7 else \"H2\"))"
   ]
  },
  {
   "cell_type": "code",
   "execution_count": 62,
   "metadata": {},
   "outputs": [
    {
     "data": {
      "text/plain": [
       "date\n",
       "2003-H1     846771.33\n",
       "2003-H2    2403446.37\n",
       "2004-H1    1313020.59\n",
       "2004-H2    3000307.66\n",
       "2005-H1    1290293.28\n",
       "Name: amount, dtype: float64"
      ]
     },
     "execution_count": 62,
     "metadata": {},
     "output_type": "execute_result"
    }
   ],
   "source": [
    "Payments.groupby(halfyear)['amount'].sum()"
   ]
  },
  {
   "cell_type": "code",
   "execution_count": null,
   "metadata": {},
   "outputs": [],
   "source": []
  }
 ],
 "metadata": {
  "kernelspec": {
   "display_name": "Python 3",
   "language": "python",
   "name": "python3"
  },
  "language_info": {
   "codemirror_mode": {
    "name": "ipython",
    "version": 3
   },
   "file_extension": ".py",
   "mimetype": "text/x-python",
   "name": "python",
   "nbconvert_exporter": "python",
   "pygments_lexer": "ipython3",
   "version": "3.7.3"
  }
 },
 "nbformat": 4,
 "nbformat_minor": 2
}
