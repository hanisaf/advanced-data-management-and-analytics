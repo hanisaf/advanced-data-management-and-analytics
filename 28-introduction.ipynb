{
 "cells": [
  {
   "cell_type": "code",
   "execution_count": null,
   "metadata": {
    "slideshow": {
     "slide_type": "slide"
    }
   },
   "outputs": [],
   "source": [
    "# install beautifulsoup for the first time if not there\n",
    "#!conda install BeautifulSoup4\n",
    "#!pip install BeautifulSoup4"
   ]
  },
  {
   "cell_type": "code",
   "execution_count": 1,
   "metadata": {
    "slideshow": {
     "slide_type": "slide"
    }
   },
   "outputs": [],
   "source": [
    "import requests\n",
    "import pandas as pd\n",
    "import xml.etree.ElementTree as ET\n",
    "from bs4 import BeautifulSoup"
   ]
  },
  {
   "cell_type": "code",
   "execution_count": 14,
   "metadata": {
    "slideshow": {
     "slide_type": "slide"
    }
   },
   "outputs": [],
   "source": [
    "html=\"\"\"<html>\n",
    "    <head>\n",
    "        <title>\n",
    "            This is an example page\n",
    "        </title>\n",
    "    </head>\n",
    "    <body>\n",
    "        Here is the content of the page\n",
    "        <p>\n",
    "            One paragraph\n",
    "        </p>\n",
    "        <li> one </li>\n",
    "        <li> two </li>\n",
    "        <table>\n",
    "            <tr>\n",
    "                <td>col 1</td>\n",
    "                <td>col 2</td>\n",
    "            </tr>\n",
    "            <tr>\n",
    "                <td>val 1</td>\n",
    "                <td>val 2</td>\n",
    "            </tr>\n",
    "        </table>\n",
    "        End of body\n",
    "    </body>\n",
    "</html>\"\"\""
   ]
  },
  {
   "cell_type": "code",
   "execution_count": 15,
   "metadata": {
    "slideshow": {
     "slide_type": "slide"
    }
   },
   "outputs": [],
   "source": [
    "root = ET.fromstring(html)"
   ]
  },
  {
   "cell_type": "code",
   "execution_count": 16,
   "metadata": {
    "slideshow": {
     "slide_type": "slide"
    }
   },
   "outputs": [
    {
     "name": "stdout",
     "output_type": "stream",
     "text": [
      "col 1\n",
      "col 2\n",
      "val 1\n",
      "val 2\n"
     ]
    }
   ],
   "source": [
    "for element in root.iter('td'):\n",
    "    print(element.text)"
   ]
  },
  {
   "cell_type": "code",
   "execution_count": 17,
   "metadata": {
    "slideshow": {
     "slide_type": "slide"
    }
   },
   "outputs": [],
   "source": [
    "soup = BeautifulSoup(html, 'html')"
   ]
  },
  {
   "cell_type": "code",
   "execution_count": 13,
   "metadata": {
    "slideshow": {
     "slide_type": "slide"
    }
   },
   "outputs": [
    {
     "name": "stdout",
     "output_type": "stream",
     "text": [
      "col 1\n",
      "col 2\n",
      "val 1\n",
      "val 2\n"
     ]
    }
   ],
   "source": [
    "for element in soup.find_all('td'):\n",
    "    print(element.text)"
   ]
  },
  {
   "cell_type": "code",
   "execution_count": 21,
   "metadata": {
    "slideshow": {
     "slide_type": "slide"
    }
   },
   "outputs": [],
   "source": [
    "def print_html_tree(tag,level = 0):\n",
    "    print('\\t'*level + tag.name)\n",
    "    for child in tag.findChildren():\n",
    "        print_html_tree(child, level+1)"
   ]
  },
  {
   "cell_type": "code",
   "execution_count": 22,
   "metadata": {
    "slideshow": {
     "slide_type": "slide"
    }
   },
   "outputs": [
    {
     "name": "stdout",
     "output_type": "stream",
     "text": [
      "[document]\n",
      "\thtml\n",
      "\t\thead\n",
      "\t\t\ttitle\n",
      "\t\ttitle\n",
      "\t\tbody\n",
      "\t\t\tp\n",
      "\t\t\tli\n",
      "\t\t\tli\n",
      "\t\t\ttable\n",
      "\t\t\t\ttr\n",
      "\t\t\t\t\ttd\n",
      "\t\t\t\t\ttd\n",
      "\t\t\t\ttd\n",
      "\t\t\t\ttd\n",
      "\t\t\t\ttr\n",
      "\t\t\t\t\ttd\n",
      "\t\t\t\t\ttd\n",
      "\t\t\t\ttd\n",
      "\t\t\t\ttd\n",
      "\t\t\ttr\n",
      "\t\t\t\ttd\n",
      "\t\t\t\ttd\n",
      "\t\t\ttd\n",
      "\t\t\ttd\n",
      "\t\t\ttr\n",
      "\t\t\t\ttd\n",
      "\t\t\t\ttd\n",
      "\t\t\ttd\n",
      "\t\t\ttd\n",
      "\t\tp\n",
      "\t\tli\n",
      "\t\tli\n",
      "\t\ttable\n",
      "\t\t\ttr\n",
      "\t\t\t\ttd\n",
      "\t\t\t\ttd\n",
      "\t\t\ttd\n",
      "\t\t\ttd\n",
      "\t\t\ttr\n",
      "\t\t\t\ttd\n",
      "\t\t\t\ttd\n",
      "\t\t\ttd\n",
      "\t\t\ttd\n",
      "\t\ttr\n",
      "\t\t\ttd\n",
      "\t\t\ttd\n",
      "\t\ttd\n",
      "\t\ttd\n",
      "\t\ttr\n",
      "\t\t\ttd\n",
      "\t\t\ttd\n",
      "\t\ttd\n",
      "\t\ttd\n",
      "\thead\n",
      "\t\ttitle\n",
      "\ttitle\n",
      "\tbody\n",
      "\t\tp\n",
      "\t\tli\n",
      "\t\tli\n",
      "\t\ttable\n",
      "\t\t\ttr\n",
      "\t\t\t\ttd\n",
      "\t\t\t\ttd\n",
      "\t\t\ttd\n",
      "\t\t\ttd\n",
      "\t\t\ttr\n",
      "\t\t\t\ttd\n",
      "\t\t\t\ttd\n",
      "\t\t\ttd\n",
      "\t\t\ttd\n",
      "\t\ttr\n",
      "\t\t\ttd\n",
      "\t\t\ttd\n",
      "\t\ttd\n",
      "\t\ttd\n",
      "\t\ttr\n",
      "\t\t\ttd\n",
      "\t\t\ttd\n",
      "\t\ttd\n",
      "\t\ttd\n",
      "\tp\n",
      "\tli\n",
      "\tli\n",
      "\ttable\n",
      "\t\ttr\n",
      "\t\t\ttd\n",
      "\t\t\ttd\n",
      "\t\ttd\n",
      "\t\ttd\n",
      "\t\ttr\n",
      "\t\t\ttd\n",
      "\t\t\ttd\n",
      "\t\ttd\n",
      "\t\ttd\n",
      "\ttr\n",
      "\t\ttd\n",
      "\t\ttd\n",
      "\ttd\n",
      "\ttd\n",
      "\ttr\n",
      "\t\ttd\n",
      "\t\ttd\n",
      "\ttd\n",
      "\ttd\n"
     ]
    }
   ],
   "source": [
    "print_html_tree(soup.currentTag)"
   ]
  },
  {
   "cell_type": "markdown",
   "metadata": {
    "slideshow": {
     "slide_type": "slide"
    }
   },
   "source": [
    "Extract names and titles of [MIS Faulty at UGA](https://www.terry.uga.edu/directory/mis/)\n",
    "\n",
    "How many assistant professors are there?"
   ]
  },
  {
   "cell_type": "code",
   "execution_count": 23,
   "metadata": {
    "slideshow": {
     "slide_type": "slide"
    }
   },
   "outputs": [],
   "source": [
    "r = requests.get(\"https://www.terry.uga.edu/directory/mis\")"
   ]
  },
  {
   "cell_type": "code",
   "execution_count": 24,
   "metadata": {
    "slideshow": {
     "slide_type": "slide"
    }
   },
   "outputs": [
    {
     "data": {
      "text/plain": [
       "200"
      ]
     },
     "execution_count": 24,
     "metadata": {},
     "output_type": "execute_result"
    }
   ],
   "source": [
    "r.status_code"
   ]
  },
  {
   "cell_type": "code",
   "execution_count": 25,
   "metadata": {
    "slideshow": {
     "slide_type": "slide"
    }
   },
   "outputs": [],
   "source": [
    "html = r.text"
   ]
  },
  {
   "cell_type": "code",
   "execution_count": 26,
   "metadata": {
    "slideshow": {
     "slide_type": "slide"
    }
   },
   "outputs": [
    {
     "data": {
      "text/plain": [
       "str"
      ]
     },
     "execution_count": 26,
     "metadata": {},
     "output_type": "execute_result"
    }
   ],
   "source": [
    "type(html)"
   ]
  },
  {
   "cell_type": "code",
   "execution_count": 27,
   "metadata": {
    "slideshow": {
     "slide_type": "slide"
    }
   },
   "outputs": [
    {
     "ename": "ParseError",
     "evalue": "mismatched tag: line 48, column 5 (<string>)",
     "output_type": "error",
     "traceback": [
      "Traceback \u001b[0;36m(most recent call last)\u001b[0m:\n",
      "  File \u001b[1;32m\"/Users/hanisaf/anaconda3/lib/python3.7/site-packages/IPython/core/interactiveshell.py\"\u001b[0m, line \u001b[1;32m3326\u001b[0m, in \u001b[1;35mrun_code\u001b[0m\n    exec(code_obj, self.user_global_ns, self.user_ns)\n",
      "  File \u001b[1;32m\"<ipython-input-27-c6473bbe8570>\"\u001b[0m, line \u001b[1;32m1\u001b[0m, in \u001b[1;35m<module>\u001b[0m\n    root = ET.fromstring(html)\n",
      "\u001b[0;36m  File \u001b[0;32m\"/Users/hanisaf/anaconda3/lib/python3.7/xml/etree/ElementTree.py\"\u001b[0;36m, line \u001b[0;32m1315\u001b[0;36m, in \u001b[0;35mXML\u001b[0;36m\u001b[0m\n\u001b[0;31m    parser.feed(text)\u001b[0m\n",
      "\u001b[0;36m  File \u001b[0;32m\"<string>\"\u001b[0;36m, line \u001b[0;32munknown\u001b[0m\n\u001b[0;31mParseError\u001b[0m\u001b[0;31m:\u001b[0m mismatched tag: line 48, column 5\n"
     ]
    }
   ],
   "source": [
    "root = ET.fromstring(html)"
   ]
  },
  {
   "cell_type": "code",
   "execution_count": 28,
   "metadata": {
    "slideshow": {
     "slide_type": "slide"
    }
   },
   "outputs": [],
   "source": [
    "soup = BeautifulSoup(html, 'html')"
   ]
  },
  {
   "cell_type": "code",
   "execution_count": 29,
   "metadata": {
    "slideshow": {
     "slide_type": "slide"
    }
   },
   "outputs": [],
   "source": [
    "names = soup.find_all('td', id=\"name\")"
   ]
  },
  {
   "cell_type": "code",
   "execution_count": 30,
   "metadata": {
    "slideshow": {
     "slide_type": "slide"
    }
   },
   "outputs": [],
   "source": [
    "titles = soup.find_all('td', id=\"title\")"
   ]
  },
  {
   "cell_type": "code",
   "execution_count": 31,
   "metadata": {
    "slideshow": {
     "slide_type": "slide"
    }
   },
   "outputs": [
    {
     "data": {
      "text/plain": [
       "'Becky Curry'"
      ]
     },
     "execution_count": 31,
     "metadata": {},
     "output_type": "execute_result"
    }
   ],
   "source": [
    "names[0].text"
   ]
  },
  {
   "cell_type": "code",
   "execution_count": 32,
   "metadata": {
    "slideshow": {
     "slide_type": "slide"
    }
   },
   "outputs": [
    {
     "data": {
      "text/plain": [
       "True"
      ]
     },
     "execution_count": 32,
     "metadata": {},
     "output_type": "execute_result"
    }
   ],
   "source": [
    "len(names) == len(titles)"
   ]
  },
  {
   "cell_type": "code",
   "execution_count": 33,
   "metadata": {
    "slideshow": {
     "slide_type": "slide"
    }
   },
   "outputs": [],
   "source": [
    "# assemble the data\n",
    "res = []\n",
    "for i in range(len(names)):\n",
    "    entry = {'Name': names[i].text.strip(), 'Title': titles[i].text.strip()}\n",
    "    res.append(entry)\n",
    "    "
   ]
  },
  {
   "cell_type": "code",
   "execution_count": 34,
   "metadata": {
    "slideshow": {
     "slide_type": "slide"
    }
   },
   "outputs": [
    {
     "data": {
      "text/plain": [
       "38"
      ]
     },
     "execution_count": 34,
     "metadata": {},
     "output_type": "execute_result"
    }
   ],
   "source": [
    "len(res)"
   ]
  },
  {
   "cell_type": "code",
   "execution_count": 35,
   "metadata": {
    "slideshow": {
     "slide_type": "slide"
    }
   },
   "outputs": [],
   "source": [
    "data = pd.DataFrame(res)"
   ]
  },
  {
   "cell_type": "code",
   "execution_count": 36,
   "metadata": {
    "slideshow": {
     "slide_type": "slide"
    }
   },
   "outputs": [
    {
     "data": {
      "text/html": [
       "<div>\n",
       "<style scoped>\n",
       "    .dataframe tbody tr th:only-of-type {\n",
       "        vertical-align: middle;\n",
       "    }\n",
       "\n",
       "    .dataframe tbody tr th {\n",
       "        vertical-align: top;\n",
       "    }\n",
       "\n",
       "    .dataframe thead th {\n",
       "        text-align: right;\n",
       "    }\n",
       "</style>\n",
       "<table border=\"1\" class=\"dataframe\">\n",
       "  <thead>\n",
       "    <tr style=\"text-align: right;\">\n",
       "      <th></th>\n",
       "      <th>Name</th>\n",
       "      <th>Title</th>\n",
       "    </tr>\n",
       "  </thead>\n",
       "  <tbody>\n",
       "    <tr>\n",
       "      <td>0</td>\n",
       "      <td>Becky Curry</td>\n",
       "      <td>Administrative Associate II</td>\n",
       "    </tr>\n",
       "    <tr>\n",
       "      <td>1</td>\n",
       "      <td>Jacob H. Steffen</td>\n",
       "      <td>Doctoral Student</td>\n",
       "    </tr>\n",
       "    <tr>\n",
       "      <td>2</td>\n",
       "      <td>Hugh James Watson</td>\n",
       "      <td>Part-Time Professor</td>\n",
       "    </tr>\n",
       "    <tr>\n",
       "      <td>3</td>\n",
       "      <td>Abdul Sesay</td>\n",
       "      <td>Assistant Professor</td>\n",
       "    </tr>\n",
       "    <tr>\n",
       "      <td>4</td>\n",
       "      <td>Mark W. Huber</td>\n",
       "      <td>Senior Lecturer</td>\n",
       "    </tr>\n",
       "  </tbody>\n",
       "</table>\n",
       "</div>"
      ],
      "text/plain": [
       "                Name                        Title\n",
       "0        Becky Curry  Administrative Associate II\n",
       "1   Jacob H. Steffen             Doctoral Student\n",
       "2  Hugh James Watson          Part-Time Professor\n",
       "3        Abdul Sesay          Assistant Professor\n",
       "4      Mark W. Huber              Senior Lecturer"
      ]
     },
     "execution_count": 36,
     "metadata": {},
     "output_type": "execute_result"
    }
   ],
   "source": [
    "data.head()"
   ]
  },
  {
   "cell_type": "code",
   "execution_count": 37,
   "metadata": {
    "slideshow": {
     "slide_type": "slide"
    }
   },
   "outputs": [
    {
     "data": {
      "text/plain": [
       "7"
      ]
     },
     "execution_count": 37,
     "metadata": {},
     "output_type": "execute_result"
    }
   ],
   "source": [
    "sum(data.Title == 'Assistant Professor')"
   ]
  }
 ],
 "metadata": {
  "kernelspec": {
   "display_name": "Python 3",
   "language": "python",
   "name": "python3"
  },
  "language_info": {
   "codemirror_mode": {
    "name": "ipython",
    "version": 3
   },
   "file_extension": ".py",
   "mimetype": "text/x-python",
   "name": "python",
   "nbconvert_exporter": "python",
   "pygments_lexer": "ipython3",
   "version": "3.8.3"
  }
 },
 "nbformat": 4,
 "nbformat_minor": 2
}
