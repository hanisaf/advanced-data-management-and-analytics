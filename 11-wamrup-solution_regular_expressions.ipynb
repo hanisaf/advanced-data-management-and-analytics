{
 "cells": [
  {
   "cell_type": "code",
   "execution_count": 1,
   "metadata": {},
   "outputs": [],
   "source": [
    "email = \"\"\"Hi Jane, \n",
    "I hope you are doing well. As I explained in my previous message, \n",
    "Mr. James' social is 134-44-3212. His email is james.bond@secret.org\n",
    "Please get in touch with him ASAP.\n",
    "\n",
    "Also, Mr. Bond will be dribing his Aston Martin, it has a 3-way revolving front number \n",
    "plate showing LU-6789, 4711-EA-62 or BMT-216A. Please ensure paying tolls\n",
    "for all. If you have any questions, please contact me: +44 (0)345 363 3630\n",
    "\n",
    "\"\"\""
   ]
  },
  {
   "cell_type": "markdown",
   "metadata": {},
   "source": [
    "Using regular expressions, extract from the email\n",
    "- numbers (e.g. social and phone numbers)\n",
    "- email address\n",
    "- license plates"
   ]
  },
  {
   "cell_type": "code",
   "execution_count": 2,
   "metadata": {},
   "outputs": [
    {
     "data": {
      "text/plain": [
       "['134-44-3212']"
      ]
     },
     "execution_count": 2,
     "metadata": {},
     "output_type": "execute_result"
    }
   ],
   "source": [
    "import re\n",
    "social = re.compile('\\d+-\\d+-\\d+')\n",
    "social.findall(email)"
   ]
  },
  {
   "cell_type": "code",
   "execution_count": 3,
   "metadata": {},
   "outputs": [
    {
     "data": {
      "text/plain": [
       "['+44 (0)345 363 3630']"
      ]
     },
     "execution_count": 3,
     "metadata": {},
     "output_type": "execute_result"
    }
   ],
   "source": [
    "phone = re.compile('\\+\\d+[ ()\\d]+')\n",
    "phone.findall(email)"
   ]
  },
  {
   "cell_type": "code",
   "execution_count": 4,
   "metadata": {},
   "outputs": [
    {
     "data": {
      "text/plain": [
       "['james.bond@secret.org']"
      ]
     },
     "execution_count": 4,
     "metadata": {},
     "output_type": "execute_result"
    }
   ],
   "source": [
    "email_ = re.compile('\\w+[.\\w]+@\\w+\\.\\w{3}')\n",
    "email_.findall(email)"
   ]
  },
  {
   "cell_type": "code",
   "execution_count": 10,
   "metadata": {},
   "outputs": [
    {
     "data": {
      "text/plain": [
       "['LU-6789', '4711-EA-62', 'BMT-216A']"
      ]
     },
     "execution_count": 10,
     "metadata": {},
     "output_type": "execute_result"
    }
   ],
   "source": [
    "license = re.compile('[\\d-]*[A-Z]+-[\\dA-Z]+')\n",
    "license.findall(email)"
   ]
  },
  {
   "cell_type": "markdown",
   "metadata": {},
   "source": [
    "Blank out this sensitive information using *"
   ]
  },
  {
   "cell_type": "code",
   "execution_count": 11,
   "metadata": {},
   "outputs": [
    {
     "name": "stdout",
     "output_type": "stream",
     "text": [
      "Hi Jane, \n",
      "I hope you are doing well. As I explained in my previous message, \n",
      "Mr. James' social is ******. His email is ******\n",
      "Please get in touch with him ASAP.\n",
      "\n",
      "Also, Mr. Bond will be dribing his Aston Martin, it has a 3-way revolving front number \n",
      "plate showing ******, ****** or ******. Please ensure paying tolls\n",
      "for all. If you have any questions, please contact me: ******\n",
      "\n",
      "\n"
     ]
    }
   ],
   "source": [
    "for regex in [social, phone, email_, license]:\n",
    "    email = regex.sub('******', email)\n",
    "print(email)"
   ]
  }
 ],
 "metadata": {
  "kernelspec": {
   "display_name": "Python 3",
   "language": "python",
   "name": "python3"
  },
  "language_info": {
   "codemirror_mode": {
    "name": "ipython",
    "version": 3
   },
   "file_extension": ".py",
   "mimetype": "text/x-python",
   "name": "python",
   "nbconvert_exporter": "python",
   "pygments_lexer": "ipython3",
   "version": "3.7.6"
  }
 },
 "nbformat": 4,
 "nbformat_minor": 2
}
