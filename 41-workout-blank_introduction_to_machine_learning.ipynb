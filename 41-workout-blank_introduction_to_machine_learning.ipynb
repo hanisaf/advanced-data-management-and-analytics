{
 "cells": [
  {
   "cell_type": "code",
   "execution_count": 11,
   "metadata": {},
   "outputs": [
    {
     "data": {
      "text/plain": [
       "RendererRegistry.enable('notebook')"
      ]
     },
     "execution_count": 11,
     "metadata": {},
     "output_type": "execute_result"
    }
   ],
   "source": [
    "import pandas as pd\n",
    "from sklearn.linear_model import LinearRegression\n",
    "from sklearn.metrics import r2_score\n",
    "import altair as alt"
   ]
  },
  {
   "cell_type": "markdown",
   "metadata": {},
   "source": [
    "This example uses the [Toyota Corolla](https://www.kaggle.com/klkwak/toyotacorollacsv).\n",
    "\n",
    "The dataset contains pricing of used Toyotal Corolla cars.\n",
    "\n",
    "The data dictionary is\n",
    "\n",
    "Variable   |\t \tDescription\n",
    "- | -\n",
    "Id   |\t\t \tRecord_ID\n",
    "Model   |\t \tModel Description\n",
    "Price   |\t\t \tOffer Price in EUROs\n",
    "Age_08_04   |\t \tAge in months as in August 2004\n",
    "Mfg_Month  | \t \tManufacturing month (1-12)\n",
    "Mfg_Year  | \t \tManufacturing Year\n",
    "KM   \t|\t \tAccumulated Kilometers on odometer\n",
    "Fuel_Type  | \t\tFuel Type (Petrol, Diesel, CNG)\n",
    "HP   \t|\t\tHorse Power\n",
    "Met_Color   |\t \tMetallic Color?  (Yes=1, No=0)\n",
    "Color   |\t\t \tColor (Blue, Red, Grey, Silver, Black, etc.)\n",
    "Automatic  | \t \tAutomatic ( (Yes=1, No=0)\n",
    "CC   \t|\t \tCylinder Volume in cubic centimeters\n",
    "Doors   |\t \tNumber of doors\n",
    "Cylinders  | \t \tNumber of cylinders\n",
    "Gears   \t| \tNumber of gear positions\n",
    "Quarterly_Tax  |\tQuarterly road tax in EUROs\n",
    "Weight   \t|\tWeight in Kilograms\n",
    "Mfr_Guarantee   |\tWithin Manufacturer's Guarantee period  (Yes=1, No=0)\n",
    "BOVAG_Guarantee  | \tBOVAG (Dutch dealer network) Guarantee  (Yes=1, No=0)\n",
    "Guarantee_Period   |    Guarantee period in months\n",
    "ABS   |\t\t \tAnti-Lock Brake System (Yes=1, No=0)\n",
    "Airbag_1   \t| \tDriver_Airbag  (Yes=1, No=0)\n",
    "Airbag_2 |  \t \tPassenger Airbag  (Yes=1, No=0)\n",
    "Airco   |\t\t \tAirconditioning  (Yes=1, No=0)\n",
    "Automatic_airco  | \tAutomatic Airconditioning  (Yes=1, No=0)\n",
    "Boardcomputer   |\tBoardcomputer  (Yes=1, No=0)\n",
    "CD_Player   |\t \tCD Player  (Yes=1, No=0)\n",
    "Central_Lock |  \tCentral Lock  (Yes=1, No=0)\n",
    "Powered_Windows |  \tPowered Windows  (Yes=1, No=0)\n",
    "Power_Steering |  \tPower Steering  (Yes=1, No=0)\n",
    "Radio   \t|\tRadio  (Yes=1, No=0)\n",
    "Mistlamps   |\t \tMistlamps  (Yes=1, No=0)\n",
    "Sport_Model |  \t \tSport Model  (Yes=1, No=0)\n",
    "Backseat_Divider |       Backseat Divider  (Yes=1, No=0)\n",
    "Metallic_Rim   |\t \tMetallic Rim  (Yes=1, No=0)\n",
    "Radio_cassette |  \tRadio Cassette  (Yes=1, No=0)\n",
    "Parking_Assistant  |  \tParking assistance system  (Yes=1, No=0)\n",
    "Tow_Bar   |\t\tTow Bar  (Yes=1, No=0)\n",
    "\n",
    "\n",
    "Predict the price of the car using linear regression and the `KM` (Accumulated Kilometers) as a predictor.\n",
    "\n",
    "Interpret the model and evaluate its accuracy"
   ]
  },
  {
   "cell_type": "code",
   "execution_count": 4,
   "metadata": {},
   "outputs": [
    {
     "data": {
      "text/html": [
       "<div>\n",
       "<style scoped>\n",
       "    .dataframe tbody tr th:only-of-type {\n",
       "        vertical-align: middle;\n",
       "    }\n",
       "\n",
       "    .dataframe tbody tr th {\n",
       "        vertical-align: top;\n",
       "    }\n",
       "\n",
       "    .dataframe thead th {\n",
       "        text-align: right;\n",
       "    }\n",
       "</style>\n",
       "<table border=\"1\" class=\"dataframe\">\n",
       "  <thead>\n",
       "    <tr style=\"text-align: right;\">\n",
       "      <th></th>\n",
       "      <th>Id</th>\n",
       "      <th>Model</th>\n",
       "      <th>Price</th>\n",
       "      <th>Age_08_04</th>\n",
       "      <th>Mfg_Month</th>\n",
       "      <th>Mfg_Year</th>\n",
       "      <th>KM</th>\n",
       "      <th>Fuel_Type</th>\n",
       "      <th>HP</th>\n",
       "      <th>Met_Color</th>\n",
       "      <th>...</th>\n",
       "      <th>Powered_Windows</th>\n",
       "      <th>Power_Steering</th>\n",
       "      <th>Radio</th>\n",
       "      <th>Mistlamps</th>\n",
       "      <th>Sport_Model</th>\n",
       "      <th>Backseat_Divider</th>\n",
       "      <th>Metallic_Rim</th>\n",
       "      <th>Radio_cassette</th>\n",
       "      <th>Parking_Assistant</th>\n",
       "      <th>Tow_Bar</th>\n",
       "    </tr>\n",
       "  </thead>\n",
       "  <tbody>\n",
       "    <tr>\n",
       "      <th>0</th>\n",
       "      <td>1</td>\n",
       "      <td>TOYOTA Corolla 2.0 D4D HATCHB TERRA 2/3-Doors</td>\n",
       "      <td>13500</td>\n",
       "      <td>23</td>\n",
       "      <td>10</td>\n",
       "      <td>2002</td>\n",
       "      <td>46986</td>\n",
       "      <td>Diesel</td>\n",
       "      <td>90</td>\n",
       "      <td>1</td>\n",
       "      <td>...</td>\n",
       "      <td>1</td>\n",
       "      <td>1</td>\n",
       "      <td>0</td>\n",
       "      <td>0</td>\n",
       "      <td>0</td>\n",
       "      <td>1</td>\n",
       "      <td>0</td>\n",
       "      <td>0</td>\n",
       "      <td>0</td>\n",
       "      <td>0</td>\n",
       "    </tr>\n",
       "  </tbody>\n",
       "</table>\n",
       "<p>1 rows × 39 columns</p>\n",
       "</div>"
      ],
      "text/plain": [
       "   Id                                          Model  Price  Age_08_04  \\\n",
       "0   1  TOYOTA Corolla 2.0 D4D HATCHB TERRA 2/3-Doors  13500         23   \n",
       "\n",
       "   Mfg_Month  Mfg_Year     KM Fuel_Type  HP  Met_Color  ... Powered_Windows  \\\n",
       "0         10      2002  46986    Diesel  90          1  ...               1   \n",
       "\n",
       "   Power_Steering  Radio  Mistlamps  Sport_Model  Backseat_Divider  \\\n",
       "0               1      0          0            0                 1   \n",
       "\n",
       "   Metallic_Rim  Radio_cassette  Parking_Assistant  Tow_Bar  \n",
       "0             0               0                  0        0  \n",
       "\n",
       "[1 rows x 39 columns]"
      ]
     },
     "execution_count": 4,
     "metadata": {},
     "output_type": "execute_result"
    }
   ],
   "source": [
    "data = pd.read_csv('data/ToyotaCorolla.csv')\n",
    "data.head(1)"
   ]
  }
 ],
 "metadata": {
  "kernelspec": {
   "display_name": "Python 3",
   "language": "python",
   "name": "python3"
  },
  "language_info": {
   "codemirror_mode": {
    "name": "ipython",
    "version": 3
   },
   "file_extension": ".py",
   "mimetype": "text/x-python",
   "name": "python",
   "nbconvert_exporter": "python",
   "pygments_lexer": "ipython3",
   "version": "3.8.3"
  }
 },
 "nbformat": 4,
 "nbformat_minor": 2
}
