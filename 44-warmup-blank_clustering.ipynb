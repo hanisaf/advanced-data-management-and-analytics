{
 "cells": [
  {
   "cell_type": "markdown",
   "metadata": {},
   "source": [
    "Using the FT Global 500 data in the file ```FTGlobal.xls```:\n",
    "\n",
    "1. Extract three clusters from the top 20 companies by market value that have complete data for each row. Use the following features: `Value`, `Turnover`, `Income`,    `Assets`,     `PE`,  `Yield`\n",
    "2. Group the data by cluster and calculate the mean of the features\n",
    "3. What do the clusters mean?\n",
    "4. Change the number of clusters to 2 and then to 4. Does your interpretation of the data change?\n"
   ]
  },
  {
   "cell_type": "code",
   "execution_count": 8,
   "metadata": {},
   "outputs": [
    {
     "data": {
      "text/plain": [
       "RendererRegistry.enable('notebook')"
      ]
     },
     "execution_count": 8,
     "metadata": {},
     "output_type": "execute_result"
    }
   ],
   "source": [
    "import pandas as pd\n",
    "import altair as alt\n",
    "from sklearn.cluster import KMeans, DBSCAN"
   ]
  },
  {
   "cell_type": "code",
   "execution_count": 5,
   "metadata": {},
   "outputs": [],
   "source": [
    "data=pd.read_excel('data/FTGlobal.xls', skiprows=4)"
   ]
  },
  {
   "cell_type": "code",
   "execution_count": 6,
   "metadata": {},
   "outputs": [
    {
     "data": {
      "text/html": [
       "<div>\n",
       "<style scoped>\n",
       "    .dataframe tbody tr th:only-of-type {\n",
       "        vertical-align: middle;\n",
       "    }\n",
       "\n",
       "    .dataframe tbody tr th {\n",
       "        vertical-align: top;\n",
       "    }\n",
       "\n",
       "    .dataframe thead th {\n",
       "        text-align: right;\n",
       "    }\n",
       "</style>\n",
       "<table border=\"1\" class=\"dataframe\">\n",
       "  <thead>\n",
       "    <tr style=\"text-align: right;\">\n",
       "      <th></th>\n",
       "      <th>Global rank 2015</th>\n",
       "      <th>Global rank 2014</th>\n",
       "      <th>Company</th>\n",
       "      <th>Country</th>\n",
       "      <th>Market value $m</th>\n",
       "      <th>Sector</th>\n",
       "      <th>Turnover $m</th>\n",
       "      <th>Net income $m</th>\n",
       "      <th>Total assets $m</th>\n",
       "      <th>Employees</th>\n",
       "      <th>Price $</th>\n",
       "      <th>P/e ratio</th>\n",
       "      <th>Dividend yield (%)</th>\n",
       "      <th>Year End</th>\n",
       "    </tr>\n",
       "  </thead>\n",
       "  <tbody>\n",
       "    <tr>\n",
       "      <th>0</th>\n",
       "      <td>1.0</td>\n",
       "      <td>1.0</td>\n",
       "      <td>Apple</td>\n",
       "      <td>US</td>\n",
       "      <td>724773.1</td>\n",
       "      <td>Technology hardware &amp; equipment</td>\n",
       "      <td>182795</td>\n",
       "      <td>39510.0</td>\n",
       "      <td>231839.0</td>\n",
       "      <td>92600.0</td>\n",
       "      <td>124.430</td>\n",
       "      <td>19.291473</td>\n",
       "      <td>1.454633</td>\n",
       "      <td>2014-09-27</td>\n",
       "    </tr>\n",
       "    <tr>\n",
       "      <th>1</th>\n",
       "      <td>2.0</td>\n",
       "      <td>2.0</td>\n",
       "      <td>Exxon Mobil</td>\n",
       "      <td>US</td>\n",
       "      <td>356548.7</td>\n",
       "      <td>Oil &amp; gas producers</td>\n",
       "      <td>364763</td>\n",
       "      <td>32520.0</td>\n",
       "      <td>349493.0</td>\n",
       "      <td>75300.0</td>\n",
       "      <td>85.000</td>\n",
       "      <td>11.198946</td>\n",
       "      <td>3.176471</td>\n",
       "      <td>2014-12-31</td>\n",
       "    </tr>\n",
       "    <tr>\n",
       "      <th>2</th>\n",
       "      <td>3.0</td>\n",
       "      <td>5.0</td>\n",
       "      <td>Berkshire Hathaway</td>\n",
       "      <td>US</td>\n",
       "      <td>356510.7</td>\n",
       "      <td>Nonlife insurance</td>\n",
       "      <td>N/R</td>\n",
       "      <td>19872.0</td>\n",
       "      <td>526186.0</td>\n",
       "      <td>316000.0</td>\n",
       "      <td>217500.000</td>\n",
       "      <td>17.987709</td>\n",
       "      <td>NaN</td>\n",
       "      <td>2014-12-31</td>\n",
       "    </tr>\n",
       "    <tr>\n",
       "      <th>3</th>\n",
       "      <td>4.0</td>\n",
       "      <td>4.0</td>\n",
       "      <td>Google</td>\n",
       "      <td>US</td>\n",
       "      <td>345849.2</td>\n",
       "      <td>Software &amp; computer services</td>\n",
       "      <td>66001</td>\n",
       "      <td>14444.0</td>\n",
       "      <td>131133.0</td>\n",
       "      <td>53600.0</td>\n",
       "      <td>554.700</td>\n",
       "      <td>26.389153</td>\n",
       "      <td>NaN</td>\n",
       "      <td>2014-12-31</td>\n",
       "    </tr>\n",
       "    <tr>\n",
       "      <th>4</th>\n",
       "      <td>5.0</td>\n",
       "      <td>3.0</td>\n",
       "      <td>Microsoft</td>\n",
       "      <td>US</td>\n",
       "      <td>333524.8</td>\n",
       "      <td>Software &amp; computer services</td>\n",
       "      <td>86833</td>\n",
       "      <td>22074.0</td>\n",
       "      <td>172384.0</td>\n",
       "      <td>128000.0</td>\n",
       "      <td>40.655</td>\n",
       "      <td>15.458175</td>\n",
       "      <td>2.754889</td>\n",
       "      <td>2014-06-30</td>\n",
       "    </tr>\n",
       "  </tbody>\n",
       "</table>\n",
       "</div>"
      ],
      "text/plain": [
       "   Global rank 2015  Global rank 2014             Company Country  \\\n",
       "0               1.0               1.0               Apple      US   \n",
       "1               2.0               2.0         Exxon Mobil      US   \n",
       "2               3.0               5.0  Berkshire Hathaway      US   \n",
       "3               4.0               4.0              Google      US   \n",
       "4               5.0               3.0           Microsoft      US   \n",
       "\n",
       "   Market value $m                           Sector Turnover $m  \\\n",
       "0         724773.1  Technology hardware & equipment      182795   \n",
       "1         356548.7              Oil & gas producers      364763   \n",
       "2         356510.7                Nonlife insurance         N/R   \n",
       "3         345849.2     Software & computer services       66001   \n",
       "4         333524.8     Software & computer services       86833   \n",
       "\n",
       "   Net income $m  Total assets $m  Employees     Price $  P/e ratio  \\\n",
       "0        39510.0         231839.0    92600.0     124.430  19.291473   \n",
       "1        32520.0         349493.0    75300.0      85.000  11.198946   \n",
       "2        19872.0         526186.0   316000.0  217500.000  17.987709   \n",
       "3        14444.0         131133.0    53600.0     554.700  26.389153   \n",
       "4        22074.0         172384.0   128000.0      40.655  15.458175   \n",
       "\n",
       "   Dividend yield (%)  Year End   \n",
       "0            1.454633 2014-09-27  \n",
       "1            3.176471 2014-12-31  \n",
       "2                 NaN 2014-12-31  \n",
       "3                 NaN 2014-12-31  \n",
       "4            2.754889 2014-06-30  "
      ]
     },
     "execution_count": 6,
     "metadata": {},
     "output_type": "execute_result"
    }
   ],
   "source": [
    "data.head()"
   ]
  },
  {
   "cell_type": "code",
   "execution_count": null,
   "metadata": {},
   "outputs": [],
   "source": []
  }
 ],
 "metadata": {
  "kernelspec": {
   "display_name": "Python 3",
   "language": "python",
   "name": "python3"
  },
  "language_info": {
   "codemirror_mode": {
    "name": "ipython",
    "version": 3
   },
   "file_extension": ".py",
   "mimetype": "text/x-python",
   "name": "python",
   "nbconvert_exporter": "python",
   "pygments_lexer": "ipython3",
   "version": "3.8.3"
  }
 },
 "nbformat": 4,
 "nbformat_minor": 2
}
